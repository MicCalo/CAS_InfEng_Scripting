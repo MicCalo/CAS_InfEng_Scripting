{
 "metadata": {
  "language_info": {
   "codemirror_mode": {
    "name": "ipython",
    "version": 3
   },
   "file_extension": ".py",
   "mimetype": "text/x-python",
   "name": "python",
   "nbconvert_exporter": "python",
   "pygments_lexer": "ipython3",
   "version": "3.8.6-final"
  },
  "orig_nbformat": 2,
  "kernelspec": {
   "name": "python3",
   "display_name": "Python 3"
  }
 },
 "nbformat": 4,
 "nbformat_minor": 2,
 "cells": [
  {
   "cell_type": "code",
   "execution_count": 1,
   "metadata": {},
   "outputs": [],
   "source": [
    "import pandas as pd"
   ]
  },
  {
   "source": [
    "Reading the raw data from csv which has been downloaded from https://data.cityofnewyork.us/Education/Brooklyn-Schools/bkjd-kr4k.\n",
    "See also download.ipynb which can do this if file is not present."
   ],
   "cell_type": "markdown",
   "metadata": {}
  },
  {
   "source": [
    "df = pd.read_csv('../data/1_original/brooklyn_schools.csv', ',')"
   ],
   "cell_type": "code",
   "metadata": {},
   "execution_count": 2,
   "outputs": []
  },
  {
   "source": [
    "Drop superfluous columns"
   ],
   "cell_type": "markdown",
   "metadata": {}
  },
  {
   "cell_type": "code",
   "execution_count": 3,
   "metadata": {},
   "outputs": [
    {
     "output_type": "execute_result",
     "data": {
      "text/plain": [
       "  Building Code                              Location Name  \\\n",
       "0          K001                        P.S. 001 The Bergen   \n",
       "1          K002               Parkside Preparatory Academy   \n",
       "2          K002                                  P.S. K141   \n",
       "3          K002                     Explore Charter School   \n",
       "4          K002  655 PARKSIDE AVENUE CONSOLIDATED LOCATION   \n",
       "\n",
       "               Address     RangeA  \n",
       "0        309 47 STREET  1251-1500  \n",
       "1  655 PARKSIDE AVENUE    251-500  \n",
       "2  655 PARKSIDE AVENUE    251-500  \n",
       "3  655 PARKSIDE AVENUE        NaN  \n",
       "4  655 PARKSIDE AVENUE   751-1000  "
      ],
      "text/html": "<div>\n<style scoped>\n    .dataframe tbody tr th:only-of-type {\n        vertical-align: middle;\n    }\n\n    .dataframe tbody tr th {\n        vertical-align: top;\n    }\n\n    .dataframe thead th {\n        text-align: right;\n    }\n</style>\n<table border=\"1\" class=\"dataframe\">\n  <thead>\n    <tr style=\"text-align: right;\">\n      <th></th>\n      <th>Building Code</th>\n      <th>Location Name</th>\n      <th>Address</th>\n      <th>RangeA</th>\n    </tr>\n  </thead>\n  <tbody>\n    <tr>\n      <th>0</th>\n      <td>K001</td>\n      <td>P.S. 001 The Bergen</td>\n      <td>309 47 STREET</td>\n      <td>1251-1500</td>\n    </tr>\n    <tr>\n      <th>1</th>\n      <td>K002</td>\n      <td>Parkside Preparatory Academy</td>\n      <td>655 PARKSIDE AVENUE</td>\n      <td>251-500</td>\n    </tr>\n    <tr>\n      <th>2</th>\n      <td>K002</td>\n      <td>P.S. K141</td>\n      <td>655 PARKSIDE AVENUE</td>\n      <td>251-500</td>\n    </tr>\n    <tr>\n      <th>3</th>\n      <td>K002</td>\n      <td>Explore Charter School</td>\n      <td>655 PARKSIDE AVENUE</td>\n      <td>NaN</td>\n    </tr>\n    <tr>\n      <th>4</th>\n      <td>K002</td>\n      <td>655 PARKSIDE AVENUE CONSOLIDATED LOCATION</td>\n      <td>655 PARKSIDE AVENUE</td>\n      <td>751-1000</td>\n    </tr>\n  </tbody>\n</table>\n</div>"
     },
     "metadata": {},
     "execution_count": 3
    }
   ],
   "source": [
    "df.drop(columns=['DBN', 'Location Code', 'Building Name', 'Borough', 'Geographical District Code', 'Schools in Building', 'ENGroupA', 'Register', '# Schools', 'Major N', 'Oth N', 'NoCrim N', 'Prop N', 'Vio N', 'AvgOfMajor N', 'AvgOfOth N', 'AvgOfNoCrim N', 'AvgOfProp N', 'AvgOfVio N'], inplace=True)\n",
    "df.head()"
   ]
  },
  {
   "source": [
    "Delete all rows that have NaN values in either the 'Major N' or 'RangeA' column"
   ],
   "cell_type": "markdown",
   "metadata": {}
  },
  {
   "cell_type": "code",
   "execution_count": 4,
   "metadata": {},
   "outputs": [
    {
     "output_type": "execute_result",
     "data": {
      "text/plain": [
       "  Building Code                              Location Name  \\\n",
       "0          K001                        P.S. 001 The Bergen   \n",
       "1          K002               Parkside Preparatory Academy   \n",
       "2          K002                                  P.S. K141   \n",
       "4          K002  655 PARKSIDE AVENUE CONSOLIDATED LOCATION   \n",
       "5          K003               P.S. 003 The Bedford Village   \n",
       "\n",
       "               Address     RangeA  \n",
       "0        309 47 STREET  1251-1500  \n",
       "1  655 PARKSIDE AVENUE    251-500  \n",
       "2  655 PARKSIDE AVENUE    251-500  \n",
       "4  655 PARKSIDE AVENUE   751-1000  \n",
       "5  50 JEFFERSON AVENUE    501-750  "
      ],
      "text/html": "<div>\n<style scoped>\n    .dataframe tbody tr th:only-of-type {\n        vertical-align: middle;\n    }\n\n    .dataframe tbody tr th {\n        vertical-align: top;\n    }\n\n    .dataframe thead th {\n        text-align: right;\n    }\n</style>\n<table border=\"1\" class=\"dataframe\">\n  <thead>\n    <tr style=\"text-align: right;\">\n      <th></th>\n      <th>Building Code</th>\n      <th>Location Name</th>\n      <th>Address</th>\n      <th>RangeA</th>\n    </tr>\n  </thead>\n  <tbody>\n    <tr>\n      <th>0</th>\n      <td>K001</td>\n      <td>P.S. 001 The Bergen</td>\n      <td>309 47 STREET</td>\n      <td>1251-1500</td>\n    </tr>\n    <tr>\n      <th>1</th>\n      <td>K002</td>\n      <td>Parkside Preparatory Academy</td>\n      <td>655 PARKSIDE AVENUE</td>\n      <td>251-500</td>\n    </tr>\n    <tr>\n      <th>2</th>\n      <td>K002</td>\n      <td>P.S. K141</td>\n      <td>655 PARKSIDE AVENUE</td>\n      <td>251-500</td>\n    </tr>\n    <tr>\n      <th>4</th>\n      <td>K002</td>\n      <td>655 PARKSIDE AVENUE CONSOLIDATED LOCATION</td>\n      <td>655 PARKSIDE AVENUE</td>\n      <td>751-1000</td>\n    </tr>\n    <tr>\n      <th>5</th>\n      <td>K003</td>\n      <td>P.S. 003 The Bedford Village</td>\n      <td>50 JEFFERSON AVENUE</td>\n      <td>501-750</td>\n    </tr>\n  </tbody>\n</table>\n</div>"
     },
     "metadata": {},
     "execution_count": 4
    }
   ],
   "source": [
    "df.dropna(subset=['RangeA'], inplace=True)\n",
    "df.head()"
   ]
  },
  {
   "source": [
    "Parse of the 'RangeA' (population of building) column.\n",
    "The value is range like 751-1000. Try to split the range and use the second (the larger value) value. There are also value in form of 4000+. Just split by '+' and use the first value.\n",
    "Write all the values back to the 'RangeA' column."
   ],
   "cell_type": "markdown",
   "metadata": {}
  },
  {
   "cell_type": "code",
   "execution_count": 5,
   "metadata": {},
   "outputs": [
    {
     "output_type": "execute_result",
     "data": {
      "text/plain": [
       "  Building Code                              Location Name  \\\n",
       "0          K001                        P.S. 001 The Bergen   \n",
       "1          K002               Parkside Preparatory Academy   \n",
       "2          K002                                  P.S. K141   \n",
       "4          K002  655 PARKSIDE AVENUE CONSOLIDATED LOCATION   \n",
       "5          K003               P.S. 003 The Bedford Village   \n",
       "\n",
       "               Address  RangeA  \n",
       "0        309 47 STREET    1500  \n",
       "1  655 PARKSIDE AVENUE     500  \n",
       "2  655 PARKSIDE AVENUE     500  \n",
       "4  655 PARKSIDE AVENUE    1000  \n",
       "5  50 JEFFERSON AVENUE     750  "
      ],
      "text/html": "<div>\n<style scoped>\n    .dataframe tbody tr th:only-of-type {\n        vertical-align: middle;\n    }\n\n    .dataframe tbody tr th {\n        vertical-align: top;\n    }\n\n    .dataframe thead th {\n        text-align: right;\n    }\n</style>\n<table border=\"1\" class=\"dataframe\">\n  <thead>\n    <tr style=\"text-align: right;\">\n      <th></th>\n      <th>Building Code</th>\n      <th>Location Name</th>\n      <th>Address</th>\n      <th>RangeA</th>\n    </tr>\n  </thead>\n  <tbody>\n    <tr>\n      <th>0</th>\n      <td>K001</td>\n      <td>P.S. 001 The Bergen</td>\n      <td>309 47 STREET</td>\n      <td>1500</td>\n    </tr>\n    <tr>\n      <th>1</th>\n      <td>K002</td>\n      <td>Parkside Preparatory Academy</td>\n      <td>655 PARKSIDE AVENUE</td>\n      <td>500</td>\n    </tr>\n    <tr>\n      <th>2</th>\n      <td>K002</td>\n      <td>P.S. K141</td>\n      <td>655 PARKSIDE AVENUE</td>\n      <td>500</td>\n    </tr>\n    <tr>\n      <th>4</th>\n      <td>K002</td>\n      <td>655 PARKSIDE AVENUE CONSOLIDATED LOCATION</td>\n      <td>655 PARKSIDE AVENUE</td>\n      <td>1000</td>\n    </tr>\n    <tr>\n      <th>5</th>\n      <td>K003</td>\n      <td>P.S. 003 The Bedford Village</td>\n      <td>50 JEFFERSON AVENUE</td>\n      <td>750</td>\n    </tr>\n  </tbody>\n</table>\n</div>"
     },
     "metadata": {},
     "execution_count": 5
    }
   ],
   "source": [
    "def map_range_a(value):\n",
    "    try:\n",
    "        return int(value.split('-')[1].strip())\n",
    "    except IndexError:\n",
    "        return int(value.split('+')[0])\n",
    "\n",
    "df['RangeA'] = df['RangeA'].apply(map_range_a)\n",
    "df.head()"
   ]
  },
  {
   "source": [
    "There are many schools that are located in the same building on the same address. We summarize these rows and take the maximum of RangeA in each group. This also preserves the address."
   ],
   "cell_type": "markdown",
   "metadata": {}
  },
  {
   "cell_type": "code",
   "execution_count": 6,
   "metadata": {},
   "outputs": [
    {
     "output_type": "execute_result",
     "data": {
      "text/plain": [
       "  Building Code              Address                 Location Name  RangeA\n",
       "0          K001        309 47 STREET           P.S. 001 The Bergen    1500\n",
       "1          K002  655 PARKSIDE AVENUE  Parkside Preparatory Academy    1000\n",
       "2          K003  50 JEFFERSON AVENUE  P.S. 003 The Bedford Village     750\n",
       "3          K005   820 HANCOCK STREET    P.S. 005 Dr. Ronald Mcnair     500\n",
       "4          K006     43 SNYDER AVENUE                      P.S. 006     750"
      ],
      "text/html": "<div>\n<style scoped>\n    .dataframe tbody tr th:only-of-type {\n        vertical-align: middle;\n    }\n\n    .dataframe tbody tr th {\n        vertical-align: top;\n    }\n\n    .dataframe thead th {\n        text-align: right;\n    }\n</style>\n<table border=\"1\" class=\"dataframe\">\n  <thead>\n    <tr style=\"text-align: right;\">\n      <th></th>\n      <th>Building Code</th>\n      <th>Address</th>\n      <th>Location Name</th>\n      <th>RangeA</th>\n    </tr>\n  </thead>\n  <tbody>\n    <tr>\n      <th>0</th>\n      <td>K001</td>\n      <td>309 47 STREET</td>\n      <td>P.S. 001 The Bergen</td>\n      <td>1500</td>\n    </tr>\n    <tr>\n      <th>1</th>\n      <td>K002</td>\n      <td>655 PARKSIDE AVENUE</td>\n      <td>Parkside Preparatory Academy</td>\n      <td>1000</td>\n    </tr>\n    <tr>\n      <th>2</th>\n      <td>K003</td>\n      <td>50 JEFFERSON AVENUE</td>\n      <td>P.S. 003 The Bedford Village</td>\n      <td>750</td>\n    </tr>\n    <tr>\n      <th>3</th>\n      <td>K005</td>\n      <td>820 HANCOCK STREET</td>\n      <td>P.S. 005 Dr. Ronald Mcnair</td>\n      <td>500</td>\n    </tr>\n    <tr>\n      <th>4</th>\n      <td>K006</td>\n      <td>43 SNYDER AVENUE</td>\n      <td>P.S. 006</td>\n      <td>750</td>\n    </tr>\n  </tbody>\n</table>\n</div>"
     },
     "metadata": {},
     "execution_count": 6
    }
   ],
   "source": [
    "df = df.groupby(['Building Code', 'Address'], as_index=False).max()\n",
    "df.head()"
   ]
  },
  {
   "source": [
    "Get the longitude and latitude of each address by requesting an openstreetmap service. To speed up subsequent runs, we store the results in a JSON file and use this file as a cache for later runs."
   ],
   "cell_type": "markdown",
   "metadata": {}
  },
  {
   "cell_type": "code",
   "execution_count": 7,
   "metadata": {},
   "outputs": [],
   "source": [
    "import importlib\n",
    "import address_tools\n",
    "\n",
    "# hack to reload change module in yupiter\n",
    "importlib.reload(address_tools)\n",
    "\n",
    "def map_row(row):\n",
    "    coordinates = address_tools.get_coordinates_from_address(row['Address'], resolve=False)\n",
    "    row['lon'] = coordinates.lon\n",
    "    row['lat'] = coordinates.lat\n",
    "    row['valid_coordinates'] = coordinates.is_valid()\n",
    "    row['in_brooklyn'] = address_tools.brooklyn.contains(coordinates)\n",
    "\n",
    "    return row"
   ]
  },
  {
   "cell_type": "code",
   "execution_count": 8,
   "metadata": {
    "tags": []
   },
   "outputs": [
    {
     "output_type": "execute_result",
     "data": {
      "text/plain": [
       "  Building Code              Address                 Location Name  RangeA  \\\n",
       "0          K001        309 47 STREET           P.S. 001 The Bergen    1500   \n",
       "1          K002  655 PARKSIDE AVENUE  Parkside Preparatory Academy    1000   \n",
       "2          K003  50 JEFFERSON AVENUE  P.S. 003 The Bedford Village     750   \n",
       "3          K005   820 HANCOCK STREET    P.S. 005 Dr. Ronald Mcnair     500   \n",
       "4          K006     43 SNYDER AVENUE                      P.S. 006     750   \n",
       "\n",
       "         lon        lat  valid_coordinates  in_brooklyn  \n",
       "0 -73.999662  40.637904               True         True  \n",
       "1 -73.951524  40.656441               True         True  \n",
       "2 -73.955544  40.682302               True         True  \n",
       "3 -73.922603  40.685546               True         True  \n",
       "4 -73.956111  40.648889               True         True  "
      ],
      "text/html": "<div>\n<style scoped>\n    .dataframe tbody tr th:only-of-type {\n        vertical-align: middle;\n    }\n\n    .dataframe tbody tr th {\n        vertical-align: top;\n    }\n\n    .dataframe thead th {\n        text-align: right;\n    }\n</style>\n<table border=\"1\" class=\"dataframe\">\n  <thead>\n    <tr style=\"text-align: right;\">\n      <th></th>\n      <th>Building Code</th>\n      <th>Address</th>\n      <th>Location Name</th>\n      <th>RangeA</th>\n      <th>lon</th>\n      <th>lat</th>\n      <th>valid_coordinates</th>\n      <th>in_brooklyn</th>\n    </tr>\n  </thead>\n  <tbody>\n    <tr>\n      <th>0</th>\n      <td>K001</td>\n      <td>309 47 STREET</td>\n      <td>P.S. 001 The Bergen</td>\n      <td>1500</td>\n      <td>-73.999662</td>\n      <td>40.637904</td>\n      <td>True</td>\n      <td>True</td>\n    </tr>\n    <tr>\n      <th>1</th>\n      <td>K002</td>\n      <td>655 PARKSIDE AVENUE</td>\n      <td>Parkside Preparatory Academy</td>\n      <td>1000</td>\n      <td>-73.951524</td>\n      <td>40.656441</td>\n      <td>True</td>\n      <td>True</td>\n    </tr>\n    <tr>\n      <th>2</th>\n      <td>K003</td>\n      <td>50 JEFFERSON AVENUE</td>\n      <td>P.S. 003 The Bedford Village</td>\n      <td>750</td>\n      <td>-73.955544</td>\n      <td>40.682302</td>\n      <td>True</td>\n      <td>True</td>\n    </tr>\n    <tr>\n      <th>3</th>\n      <td>K005</td>\n      <td>820 HANCOCK STREET</td>\n      <td>P.S. 005 Dr. Ronald Mcnair</td>\n      <td>500</td>\n      <td>-73.922603</td>\n      <td>40.685546</td>\n      <td>True</td>\n      <td>True</td>\n    </tr>\n    <tr>\n      <th>4</th>\n      <td>K006</td>\n      <td>43 SNYDER AVENUE</td>\n      <td>P.S. 006</td>\n      <td>750</td>\n      <td>-73.956111</td>\n      <td>40.648889</td>\n      <td>True</td>\n      <td>True</td>\n    </tr>\n  </tbody>\n</table>\n</div>"
     },
     "metadata": {},
     "execution_count": 8
    }
   ],
   "source": [
    "df = df.apply(map_row, axis=1)\n",
    "df = df[df['in_brooklyn'] == True]\n",
    "df.to_csv('../data/3_prepared/schools.csv', ';')\n",
    "df.head()\n"
   ]
  }
 ]
}