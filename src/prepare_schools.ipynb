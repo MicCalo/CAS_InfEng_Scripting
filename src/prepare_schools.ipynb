{
 "metadata": {
  "language_info": {
   "codemirror_mode": {
    "name": "ipython",
    "version": 3
   },
   "file_extension": ".py",
   "mimetype": "text/x-python",
   "name": "python",
   "nbconvert_exporter": "python",
   "pygments_lexer": "ipython3",
   "version": "3.8.5-final"
  },
  "orig_nbformat": 2,
  "kernelspec": {
   "name": "python3",
   "display_name": "Python 3.8.5 64-bit (conda)",
   "metadata": {
    "interpreter": {
     "hash": "b3ba2566441a7c06988d0923437866b63cedc61552a5af99d1f4fb67d367b25f"
    }
   }
  }
 },
 "nbformat": 4,
 "nbformat_minor": 2,
 "cells": [
  {
   "cell_type": "code",
   "execution_count": 37,
   "metadata": {},
   "outputs": [],
   "source": [
    "import pandas as pd"
   ]
  },
  {
   "source": [
    "Reading the raw data from csv witch has benn downloaded from https://data.cityofnewyork.us/Education/Brooklyn-Schools/bkjd-kr4k "
   ],
   "cell_type": "markdown",
   "metadata": {}
  },
  {
   "source": [
    "df = pd.read_csv('../data/original/brooklyn_schools_original.csv', ',')\n"
   ],
   "cell_type": "code",
   "metadata": {},
   "execution_count": 38,
   "outputs": []
  },
  {
   "source": [
    "Drop superfluous columns"
   ],
   "cell_type": "markdown",
   "metadata": {}
  },
  {
   "cell_type": "code",
   "execution_count": 39,
   "metadata": {},
   "outputs": [
    {
     "output_type": "execute_result",
     "data": {
      "text/plain": [
       "  Building Code              Address Register  # Schools  Major N  Oth N  \\\n",
       "0          K001        309 47 STREET    1,277          1      0.0    2.0   \n",
       "1          K002  655 PARKSIDE AVENUE      479          3      NaN    NaN   \n",
       "2          K002  655 PARKSIDE AVENUE      397          3      NaN    NaN   \n",
       "3          K002  655 PARKSIDE AVENUE      NaN          3      NaN    NaN   \n",
       "4          K002  655 PARKSIDE AVENUE      876          3      1.0    5.0   \n",
       "\n",
       "   NoCrim N  Prop N  Vio N     RangeA  AvgOfMajor N  AvgOfOth N  \\\n",
       "0       1.0     1.0    0.0  1251-1500          0.86        3.26   \n",
       "1       NaN     NaN    NaN    251-500           NaN         NaN   \n",
       "2       NaN     NaN    NaN    251-500           NaN         NaN   \n",
       "3       NaN     NaN    NaN        NaN           NaN         NaN   \n",
       "4       2.0     2.0    4.0   751-1000          0.52        1.71   \n",
       "\n",
       "   AvgOfNoCrim N  AvgOfProp N  AvgOfVio N  \n",
       "0           5.55         2.17        1.29  \n",
       "1            NaN          NaN         NaN  \n",
       "2            NaN          NaN         NaN  \n",
       "3            NaN          NaN         NaN  \n",
       "4           2.49         1.16        0.75  "
      ],
      "text/html": "<div>\n<style scoped>\n    .dataframe tbody tr th:only-of-type {\n        vertical-align: middle;\n    }\n\n    .dataframe tbody tr th {\n        vertical-align: top;\n    }\n\n    .dataframe thead th {\n        text-align: right;\n    }\n</style>\n<table border=\"1\" class=\"dataframe\">\n  <thead>\n    <tr style=\"text-align: right;\">\n      <th></th>\n      <th>Building Code</th>\n      <th>Address</th>\n      <th>Register</th>\n      <th># Schools</th>\n      <th>Major N</th>\n      <th>Oth N</th>\n      <th>NoCrim N</th>\n      <th>Prop N</th>\n      <th>Vio N</th>\n      <th>RangeA</th>\n      <th>AvgOfMajor N</th>\n      <th>AvgOfOth N</th>\n      <th>AvgOfNoCrim N</th>\n      <th>AvgOfProp N</th>\n      <th>AvgOfVio N</th>\n    </tr>\n  </thead>\n  <tbody>\n    <tr>\n      <th>0</th>\n      <td>K001</td>\n      <td>309 47 STREET</td>\n      <td>1,277</td>\n      <td>1</td>\n      <td>0.0</td>\n      <td>2.0</td>\n      <td>1.0</td>\n      <td>1.0</td>\n      <td>0.0</td>\n      <td>1251-1500</td>\n      <td>0.86</td>\n      <td>3.26</td>\n      <td>5.55</td>\n      <td>2.17</td>\n      <td>1.29</td>\n    </tr>\n    <tr>\n      <th>1</th>\n      <td>K002</td>\n      <td>655 PARKSIDE AVENUE</td>\n      <td>479</td>\n      <td>3</td>\n      <td>NaN</td>\n      <td>NaN</td>\n      <td>NaN</td>\n      <td>NaN</td>\n      <td>NaN</td>\n      <td>251-500</td>\n      <td>NaN</td>\n      <td>NaN</td>\n      <td>NaN</td>\n      <td>NaN</td>\n      <td>NaN</td>\n    </tr>\n    <tr>\n      <th>2</th>\n      <td>K002</td>\n      <td>655 PARKSIDE AVENUE</td>\n      <td>397</td>\n      <td>3</td>\n      <td>NaN</td>\n      <td>NaN</td>\n      <td>NaN</td>\n      <td>NaN</td>\n      <td>NaN</td>\n      <td>251-500</td>\n      <td>NaN</td>\n      <td>NaN</td>\n      <td>NaN</td>\n      <td>NaN</td>\n      <td>NaN</td>\n    </tr>\n    <tr>\n      <th>3</th>\n      <td>K002</td>\n      <td>655 PARKSIDE AVENUE</td>\n      <td>NaN</td>\n      <td>3</td>\n      <td>NaN</td>\n      <td>NaN</td>\n      <td>NaN</td>\n      <td>NaN</td>\n      <td>NaN</td>\n      <td>NaN</td>\n      <td>NaN</td>\n      <td>NaN</td>\n      <td>NaN</td>\n      <td>NaN</td>\n      <td>NaN</td>\n    </tr>\n    <tr>\n      <th>4</th>\n      <td>K002</td>\n      <td>655 PARKSIDE AVENUE</td>\n      <td>876</td>\n      <td>3</td>\n      <td>1.0</td>\n      <td>5.0</td>\n      <td>2.0</td>\n      <td>2.0</td>\n      <td>4.0</td>\n      <td>751-1000</td>\n      <td>0.52</td>\n      <td>1.71</td>\n      <td>2.49</td>\n      <td>1.16</td>\n      <td>0.75</td>\n    </tr>\n  </tbody>\n</table>\n</div>"
     },
     "metadata": {},
     "execution_count": 39
    }
   ],
   "source": [
    "df.drop(columns=['DBN', 'Location Code', 'Location Name', 'Building Name', 'Borough', 'Geographical District Code', 'Schools in Building', 'ENGroupA',], inplace=True)\n",
    "df.head()"
   ]
  },
  {
   "source": [
    "Delete all rows that have NaN values in either the 'Major N' or 'RangeA' column"
   ],
   "cell_type": "markdown",
   "metadata": {}
  },
  {
   "cell_type": "code",
   "execution_count": 40,
   "metadata": {},
   "outputs": [
    {
     "output_type": "execute_result",
     "data": {
      "text/plain": [
       "  Building Code              Address Register  # Schools  Major N  Oth N  \\\n",
       "0          K001        309 47 STREET    1,277          1      0.0    2.0   \n",
       "4          K002  655 PARKSIDE AVENUE      876          3      1.0    5.0   \n",
       "5          K003  50 JEFFERSON AVENUE      513          1      2.0    0.0   \n",
       "6          K005   820 HANCOCK STREET      312          1      1.0    1.0   \n",
       "7          K006     43 SNYDER AVENUE      714          1      0.0    1.0   \n",
       "\n",
       "   NoCrim N  Prop N  Vio N     RangeA  AvgOfMajor N  AvgOfOth N  \\\n",
       "0       1.0     1.0    0.0  1251-1500          0.86        3.26   \n",
       "4       2.0     2.0    4.0   751-1000          0.52        1.71   \n",
       "5       0.0     2.0    0.0    501-750          0.33        1.32   \n",
       "6       0.0     2.0    0.0    251-500          0.35        1.06   \n",
       "7       2.0     0.0    0.0    501-750          0.33        1.32   \n",
       "\n",
       "   AvgOfNoCrim N  AvgOfProp N  AvgOfVio N  \n",
       "0           5.55         2.17        1.29  \n",
       "4           2.49         1.16        0.75  \n",
       "5           1.76         0.83        0.59  \n",
       "6           1.09         0.73        0.50  \n",
       "7           1.76         0.83        0.59  "
      ],
      "text/html": "<div>\n<style scoped>\n    .dataframe tbody tr th:only-of-type {\n        vertical-align: middle;\n    }\n\n    .dataframe tbody tr th {\n        vertical-align: top;\n    }\n\n    .dataframe thead th {\n        text-align: right;\n    }\n</style>\n<table border=\"1\" class=\"dataframe\">\n  <thead>\n    <tr style=\"text-align: right;\">\n      <th></th>\n      <th>Building Code</th>\n      <th>Address</th>\n      <th>Register</th>\n      <th># Schools</th>\n      <th>Major N</th>\n      <th>Oth N</th>\n      <th>NoCrim N</th>\n      <th>Prop N</th>\n      <th>Vio N</th>\n      <th>RangeA</th>\n      <th>AvgOfMajor N</th>\n      <th>AvgOfOth N</th>\n      <th>AvgOfNoCrim N</th>\n      <th>AvgOfProp N</th>\n      <th>AvgOfVio N</th>\n    </tr>\n  </thead>\n  <tbody>\n    <tr>\n      <th>0</th>\n      <td>K001</td>\n      <td>309 47 STREET</td>\n      <td>1,277</td>\n      <td>1</td>\n      <td>0.0</td>\n      <td>2.0</td>\n      <td>1.0</td>\n      <td>1.0</td>\n      <td>0.0</td>\n      <td>1251-1500</td>\n      <td>0.86</td>\n      <td>3.26</td>\n      <td>5.55</td>\n      <td>2.17</td>\n      <td>1.29</td>\n    </tr>\n    <tr>\n      <th>4</th>\n      <td>K002</td>\n      <td>655 PARKSIDE AVENUE</td>\n      <td>876</td>\n      <td>3</td>\n      <td>1.0</td>\n      <td>5.0</td>\n      <td>2.0</td>\n      <td>2.0</td>\n      <td>4.0</td>\n      <td>751-1000</td>\n      <td>0.52</td>\n      <td>1.71</td>\n      <td>2.49</td>\n      <td>1.16</td>\n      <td>0.75</td>\n    </tr>\n    <tr>\n      <th>5</th>\n      <td>K003</td>\n      <td>50 JEFFERSON AVENUE</td>\n      <td>513</td>\n      <td>1</td>\n      <td>2.0</td>\n      <td>0.0</td>\n      <td>0.0</td>\n      <td>2.0</td>\n      <td>0.0</td>\n      <td>501-750</td>\n      <td>0.33</td>\n      <td>1.32</td>\n      <td>1.76</td>\n      <td>0.83</td>\n      <td>0.59</td>\n    </tr>\n    <tr>\n      <th>6</th>\n      <td>K005</td>\n      <td>820 HANCOCK STREET</td>\n      <td>312</td>\n      <td>1</td>\n      <td>1.0</td>\n      <td>1.0</td>\n      <td>0.0</td>\n      <td>2.0</td>\n      <td>0.0</td>\n      <td>251-500</td>\n      <td>0.35</td>\n      <td>1.06</td>\n      <td>1.09</td>\n      <td>0.73</td>\n      <td>0.50</td>\n    </tr>\n    <tr>\n      <th>7</th>\n      <td>K006</td>\n      <td>43 SNYDER AVENUE</td>\n      <td>714</td>\n      <td>1</td>\n      <td>0.0</td>\n      <td>1.0</td>\n      <td>2.0</td>\n      <td>0.0</td>\n      <td>0.0</td>\n      <td>501-750</td>\n      <td>0.33</td>\n      <td>1.32</td>\n      <td>1.76</td>\n      <td>0.83</td>\n      <td>0.59</td>\n    </tr>\n  </tbody>\n</table>\n</div>"
     },
     "metadata": {},
     "execution_count": 40
    }
   ],
   "source": [
    "df.dropna(subset=['Major N', 'RangeA'], inplace=True)\n",
    "df.head()"
   ]
  },
  {
   "source": [
    "Parse of the 'RangeA' (population of building) column.\n",
    "The value is range like 751-1000. Try to split the range and use the second (the larger value) value. There are also value in form of 4000+. Just split by '+' and use the first value.\n",
    "Write all the values back to the 'RangeA' column."
   ],
   "cell_type": "markdown",
   "metadata": {}
  },
  {
   "cell_type": "code",
   "execution_count": 41,
   "metadata": {},
   "outputs": [
    {
     "output_type": "execute_result",
     "data": {
      "text/plain": [
       "  Building Code              Address Register  # Schools  Major N  Oth N  \\\n",
       "0          K001        309 47 STREET    1,277          1      0.0    2.0   \n",
       "4          K002  655 PARKSIDE AVENUE      876          3      1.0    5.0   \n",
       "5          K003  50 JEFFERSON AVENUE      513          1      2.0    0.0   \n",
       "6          K005   820 HANCOCK STREET      312          1      1.0    1.0   \n",
       "7          K006     43 SNYDER AVENUE      714          1      0.0    1.0   \n",
       "\n",
       "   NoCrim N  Prop N  Vio N  RangeA  AvgOfMajor N  AvgOfOth N  AvgOfNoCrim N  \\\n",
       "0       1.0     1.0    0.0    1500          0.86        3.26           5.55   \n",
       "4       2.0     2.0    4.0    1000          0.52        1.71           2.49   \n",
       "5       0.0     2.0    0.0     750          0.33        1.32           1.76   \n",
       "6       0.0     2.0    0.0     500          0.35        1.06           1.09   \n",
       "7       2.0     0.0    0.0     750          0.33        1.32           1.76   \n",
       "\n",
       "   AvgOfProp N  AvgOfVio N  \n",
       "0         2.17        1.29  \n",
       "4         1.16        0.75  \n",
       "5         0.83        0.59  \n",
       "6         0.73        0.50  \n",
       "7         0.83        0.59  "
      ],
      "text/html": "<div>\n<style scoped>\n    .dataframe tbody tr th:only-of-type {\n        vertical-align: middle;\n    }\n\n    .dataframe tbody tr th {\n        vertical-align: top;\n    }\n\n    .dataframe thead th {\n        text-align: right;\n    }\n</style>\n<table border=\"1\" class=\"dataframe\">\n  <thead>\n    <tr style=\"text-align: right;\">\n      <th></th>\n      <th>Building Code</th>\n      <th>Address</th>\n      <th>Register</th>\n      <th># Schools</th>\n      <th>Major N</th>\n      <th>Oth N</th>\n      <th>NoCrim N</th>\n      <th>Prop N</th>\n      <th>Vio N</th>\n      <th>RangeA</th>\n      <th>AvgOfMajor N</th>\n      <th>AvgOfOth N</th>\n      <th>AvgOfNoCrim N</th>\n      <th>AvgOfProp N</th>\n      <th>AvgOfVio N</th>\n    </tr>\n  </thead>\n  <tbody>\n    <tr>\n      <th>0</th>\n      <td>K001</td>\n      <td>309 47 STREET</td>\n      <td>1,277</td>\n      <td>1</td>\n      <td>0.0</td>\n      <td>2.0</td>\n      <td>1.0</td>\n      <td>1.0</td>\n      <td>0.0</td>\n      <td>1500</td>\n      <td>0.86</td>\n      <td>3.26</td>\n      <td>5.55</td>\n      <td>2.17</td>\n      <td>1.29</td>\n    </tr>\n    <tr>\n      <th>4</th>\n      <td>K002</td>\n      <td>655 PARKSIDE AVENUE</td>\n      <td>876</td>\n      <td>3</td>\n      <td>1.0</td>\n      <td>5.0</td>\n      <td>2.0</td>\n      <td>2.0</td>\n      <td>4.0</td>\n      <td>1000</td>\n      <td>0.52</td>\n      <td>1.71</td>\n      <td>2.49</td>\n      <td>1.16</td>\n      <td>0.75</td>\n    </tr>\n    <tr>\n      <th>5</th>\n      <td>K003</td>\n      <td>50 JEFFERSON AVENUE</td>\n      <td>513</td>\n      <td>1</td>\n      <td>2.0</td>\n      <td>0.0</td>\n      <td>0.0</td>\n      <td>2.0</td>\n      <td>0.0</td>\n      <td>750</td>\n      <td>0.33</td>\n      <td>1.32</td>\n      <td>1.76</td>\n      <td>0.83</td>\n      <td>0.59</td>\n    </tr>\n    <tr>\n      <th>6</th>\n      <td>K005</td>\n      <td>820 HANCOCK STREET</td>\n      <td>312</td>\n      <td>1</td>\n      <td>1.0</td>\n      <td>1.0</td>\n      <td>0.0</td>\n      <td>2.0</td>\n      <td>0.0</td>\n      <td>500</td>\n      <td>0.35</td>\n      <td>1.06</td>\n      <td>1.09</td>\n      <td>0.73</td>\n      <td>0.50</td>\n    </tr>\n    <tr>\n      <th>7</th>\n      <td>K006</td>\n      <td>43 SNYDER AVENUE</td>\n      <td>714</td>\n      <td>1</td>\n      <td>0.0</td>\n      <td>1.0</td>\n      <td>2.0</td>\n      <td>0.0</td>\n      <td>0.0</td>\n      <td>750</td>\n      <td>0.33</td>\n      <td>1.32</td>\n      <td>1.76</td>\n      <td>0.83</td>\n      <td>0.59</td>\n    </tr>\n  </tbody>\n</table>\n</div>"
     },
     "metadata": {},
     "execution_count": 41
    }
   ],
   "source": [
    "def map_range_a(value):\n",
    "    try:\n",
    "        return int(value.split('-')[1].strip())\n",
    "    except IndexError:\n",
    "        return int(value.split('+')[0])\n",
    "\n",
    "df['RangeA'] = df['RangeA'].apply(map_range_a)\n",
    "df.head()"
   ]
  },
  {
   "source": [
    "There are many schools that are located in the same building on the same address. We summarize these rows and take the average of all numerical values in each column."
   ],
   "cell_type": "markdown",
   "metadata": {}
  },
  {
   "cell_type": "code",
   "execution_count": 42,
   "metadata": {},
   "outputs": [
    {
     "output_type": "execute_result",
     "data": {
      "text/plain": [
       "  Building Code              Address  # Schools   Major N     Oth N  NoCrim N  \\\n",
       "0          K001        309 47 STREET        1.0  0.000000  1.000000  0.333333   \n",
       "1          K002  655 PARKSIDE AVENUE        3.0  0.666667  3.333333  1.333333   \n",
       "2          K003  50 JEFFERSON AVENUE        1.0  0.666667  0.333333  1.000000   \n",
       "3          K005   820 HANCOCK STREET        1.0  0.333333  0.666667  0.666667   \n",
       "4          K006     43 SNYDER AVENUE        1.0  0.000000  0.666667  1.666667   \n",
       "\n",
       "     Prop N     Vio N       RangeA  AvgOfMajor N  AvgOfOth N  AvgOfNoCrim N  \\\n",
       "0  0.666667  0.000000  1500.000000      0.796667    3.166667       5.463333   \n",
       "1  1.333333  2.000000  1000.000000      0.453333    1.690000       2.546667   \n",
       "2  0.666667  0.333333   666.666667      0.303333    1.113333       1.750000   \n",
       "3  0.666667  0.333333   416.666667      0.286667    0.960000       1.393333   \n",
       "4  0.333333  0.000000   750.000000      0.306667    1.183333       1.773333   \n",
       "\n",
       "   AvgOfProp N  AvgOfVio N  \n",
       "0     2.023333    1.490000  \n",
       "1     1.103333    0.773333  \n",
       "2     0.750000    0.513333  \n",
       "3     0.680000    0.433333  \n",
       "4     0.790000    0.543333  "
      ],
      "text/html": "<div>\n<style scoped>\n    .dataframe tbody tr th:only-of-type {\n        vertical-align: middle;\n    }\n\n    .dataframe tbody tr th {\n        vertical-align: top;\n    }\n\n    .dataframe thead th {\n        text-align: right;\n    }\n</style>\n<table border=\"1\" class=\"dataframe\">\n  <thead>\n    <tr style=\"text-align: right;\">\n      <th></th>\n      <th>Building Code</th>\n      <th>Address</th>\n      <th># Schools</th>\n      <th>Major N</th>\n      <th>Oth N</th>\n      <th>NoCrim N</th>\n      <th>Prop N</th>\n      <th>Vio N</th>\n      <th>RangeA</th>\n      <th>AvgOfMajor N</th>\n      <th>AvgOfOth N</th>\n      <th>AvgOfNoCrim N</th>\n      <th>AvgOfProp N</th>\n      <th>AvgOfVio N</th>\n    </tr>\n  </thead>\n  <tbody>\n    <tr>\n      <th>0</th>\n      <td>K001</td>\n      <td>309 47 STREET</td>\n      <td>1.0</td>\n      <td>0.000000</td>\n      <td>1.000000</td>\n      <td>0.333333</td>\n      <td>0.666667</td>\n      <td>0.000000</td>\n      <td>1500.000000</td>\n      <td>0.796667</td>\n      <td>3.166667</td>\n      <td>5.463333</td>\n      <td>2.023333</td>\n      <td>1.490000</td>\n    </tr>\n    <tr>\n      <th>1</th>\n      <td>K002</td>\n      <td>655 PARKSIDE AVENUE</td>\n      <td>3.0</td>\n      <td>0.666667</td>\n      <td>3.333333</td>\n      <td>1.333333</td>\n      <td>1.333333</td>\n      <td>2.000000</td>\n      <td>1000.000000</td>\n      <td>0.453333</td>\n      <td>1.690000</td>\n      <td>2.546667</td>\n      <td>1.103333</td>\n      <td>0.773333</td>\n    </tr>\n    <tr>\n      <th>2</th>\n      <td>K003</td>\n      <td>50 JEFFERSON AVENUE</td>\n      <td>1.0</td>\n      <td>0.666667</td>\n      <td>0.333333</td>\n      <td>1.000000</td>\n      <td>0.666667</td>\n      <td>0.333333</td>\n      <td>666.666667</td>\n      <td>0.303333</td>\n      <td>1.113333</td>\n      <td>1.750000</td>\n      <td>0.750000</td>\n      <td>0.513333</td>\n    </tr>\n    <tr>\n      <th>3</th>\n      <td>K005</td>\n      <td>820 HANCOCK STREET</td>\n      <td>1.0</td>\n      <td>0.333333</td>\n      <td>0.666667</td>\n      <td>0.666667</td>\n      <td>0.666667</td>\n      <td>0.333333</td>\n      <td>416.666667</td>\n      <td>0.286667</td>\n      <td>0.960000</td>\n      <td>1.393333</td>\n      <td>0.680000</td>\n      <td>0.433333</td>\n    </tr>\n    <tr>\n      <th>4</th>\n      <td>K006</td>\n      <td>43 SNYDER AVENUE</td>\n      <td>1.0</td>\n      <td>0.000000</td>\n      <td>0.666667</td>\n      <td>1.666667</td>\n      <td>0.333333</td>\n      <td>0.000000</td>\n      <td>750.000000</td>\n      <td>0.306667</td>\n      <td>1.183333</td>\n      <td>1.773333</td>\n      <td>0.790000</td>\n      <td>0.543333</td>\n    </tr>\n  </tbody>\n</table>\n</div>"
     },
     "metadata": {},
     "execution_count": 42
    }
   ],
   "source": [
    "df = df.groupby(['Building Code', 'Address'], as_index=False).mean()\n",
    "df.head()"
   ]
  },
  {
   "source": [
    "Get the longitude and latitude of each address by requesting an openstreetmap service. To speed up subsequent runs, we store the results in a JSON file and use this file as a cache for later runs."
   ],
   "cell_type": "markdown",
   "metadata": {}
  },
  {
   "cell_type": "code",
   "execution_count": 43,
   "metadata": {},
   "outputs": [],
   "source": [
    "import importlib\n",
    "import address_tools\n",
    "\n",
    "importlib.reload(address_tools)\n",
    "\n",
    "def map_row(row):\n",
    "    coordinates = address_tools.get_coordinates_from_address(row['Address'], resolve=False)\n",
    "    row['lon'] = coordinates.lon\n",
    "    row['lat'] = coordinates.lat\n",
    "    row['valid_coordinates'] = coordinates.is_valid()\n",
    "    row['in_brooklyn'] = address_tools.brooklyn.contains(coordinates)\n",
    "\n",
    "    return row"
   ]
  },
  {
   "cell_type": "code",
   "execution_count": 51,
   "metadata": {
    "tags": []
   },
   "outputs": [
    {
     "output_type": "execute_result",
     "data": {
      "text/plain": [
       "  Building Code              Address  # Schools   Major N     Oth N  NoCrim N  \\\n",
       "0          K001        309 47 STREET        1.0  0.000000  1.000000  0.333333   \n",
       "1          K002  655 PARKSIDE AVENUE        3.0  0.666667  3.333333  1.333333   \n",
       "2          K003  50 JEFFERSON AVENUE        1.0  0.666667  0.333333  1.000000   \n",
       "3          K005   820 HANCOCK STREET        1.0  0.333333  0.666667  0.666667   \n",
       "4          K006     43 SNYDER AVENUE        1.0  0.000000  0.666667  1.666667   \n",
       "\n",
       "     Prop N     Vio N       RangeA  AvgOfMajor N  AvgOfOth N  AvgOfNoCrim N  \\\n",
       "0  0.666667  0.000000  1500.000000      0.796667    3.166667       5.463333   \n",
       "1  1.333333  2.000000  1000.000000      0.453333    1.690000       2.546667   \n",
       "2  0.666667  0.333333   666.666667      0.303333    1.113333       1.750000   \n",
       "3  0.666667  0.333333   416.666667      0.286667    0.960000       1.393333   \n",
       "4  0.333333  0.000000   750.000000      0.306667    1.183333       1.773333   \n",
       "\n",
       "   AvgOfProp N  AvgOfVio N        lon        lat  valid_coordinates  \\\n",
       "0     2.023333    1.490000 -73.999662  40.637904               True   \n",
       "1     1.103333    0.773333 -73.951524  40.656441               True   \n",
       "2     0.750000    0.513333 -73.955544  40.682302               True   \n",
       "3     0.680000    0.433333 -73.922603  40.685546               True   \n",
       "4     0.790000    0.543333 -73.956111  40.648889               True   \n",
       "\n",
       "   in_brooklyn  \n",
       "0         True  \n",
       "1         True  \n",
       "2         True  \n",
       "3         True  \n",
       "4         True  "
      ],
      "text/html": "<div>\n<style scoped>\n    .dataframe tbody tr th:only-of-type {\n        vertical-align: middle;\n    }\n\n    .dataframe tbody tr th {\n        vertical-align: top;\n    }\n\n    .dataframe thead th {\n        text-align: right;\n    }\n</style>\n<table border=\"1\" class=\"dataframe\">\n  <thead>\n    <tr style=\"text-align: right;\">\n      <th></th>\n      <th>Building Code</th>\n      <th>Address</th>\n      <th># Schools</th>\n      <th>Major N</th>\n      <th>Oth N</th>\n      <th>NoCrim N</th>\n      <th>Prop N</th>\n      <th>Vio N</th>\n      <th>RangeA</th>\n      <th>AvgOfMajor N</th>\n      <th>AvgOfOth N</th>\n      <th>AvgOfNoCrim N</th>\n      <th>AvgOfProp N</th>\n      <th>AvgOfVio N</th>\n      <th>lon</th>\n      <th>lat</th>\n      <th>valid_coordinates</th>\n      <th>in_brooklyn</th>\n    </tr>\n  </thead>\n  <tbody>\n    <tr>\n      <th>0</th>\n      <td>K001</td>\n      <td>309 47 STREET</td>\n      <td>1.0</td>\n      <td>0.000000</td>\n      <td>1.000000</td>\n      <td>0.333333</td>\n      <td>0.666667</td>\n      <td>0.000000</td>\n      <td>1500.000000</td>\n      <td>0.796667</td>\n      <td>3.166667</td>\n      <td>5.463333</td>\n      <td>2.023333</td>\n      <td>1.490000</td>\n      <td>-73.999662</td>\n      <td>40.637904</td>\n      <td>True</td>\n      <td>True</td>\n    </tr>\n    <tr>\n      <th>1</th>\n      <td>K002</td>\n      <td>655 PARKSIDE AVENUE</td>\n      <td>3.0</td>\n      <td>0.666667</td>\n      <td>3.333333</td>\n      <td>1.333333</td>\n      <td>1.333333</td>\n      <td>2.000000</td>\n      <td>1000.000000</td>\n      <td>0.453333</td>\n      <td>1.690000</td>\n      <td>2.546667</td>\n      <td>1.103333</td>\n      <td>0.773333</td>\n      <td>-73.951524</td>\n      <td>40.656441</td>\n      <td>True</td>\n      <td>True</td>\n    </tr>\n    <tr>\n      <th>2</th>\n      <td>K003</td>\n      <td>50 JEFFERSON AVENUE</td>\n      <td>1.0</td>\n      <td>0.666667</td>\n      <td>0.333333</td>\n      <td>1.000000</td>\n      <td>0.666667</td>\n      <td>0.333333</td>\n      <td>666.666667</td>\n      <td>0.303333</td>\n      <td>1.113333</td>\n      <td>1.750000</td>\n      <td>0.750000</td>\n      <td>0.513333</td>\n      <td>-73.955544</td>\n      <td>40.682302</td>\n      <td>True</td>\n      <td>True</td>\n    </tr>\n    <tr>\n      <th>3</th>\n      <td>K005</td>\n      <td>820 HANCOCK STREET</td>\n      <td>1.0</td>\n      <td>0.333333</td>\n      <td>0.666667</td>\n      <td>0.666667</td>\n      <td>0.666667</td>\n      <td>0.333333</td>\n      <td>416.666667</td>\n      <td>0.286667</td>\n      <td>0.960000</td>\n      <td>1.393333</td>\n      <td>0.680000</td>\n      <td>0.433333</td>\n      <td>-73.922603</td>\n      <td>40.685546</td>\n      <td>True</td>\n      <td>True</td>\n    </tr>\n    <tr>\n      <th>4</th>\n      <td>K006</td>\n      <td>43 SNYDER AVENUE</td>\n      <td>1.0</td>\n      <td>0.000000</td>\n      <td>0.666667</td>\n      <td>1.666667</td>\n      <td>0.333333</td>\n      <td>0.000000</td>\n      <td>750.000000</td>\n      <td>0.306667</td>\n      <td>1.183333</td>\n      <td>1.773333</td>\n      <td>0.790000</td>\n      <td>0.543333</td>\n      <td>-73.956111</td>\n      <td>40.648889</td>\n      <td>True</td>\n      <td>True</td>\n    </tr>\n  </tbody>\n</table>\n</div>"
     },
     "metadata": {},
     "execution_count": 51
    }
   ],
   "source": [
    "df = df.apply(map_row, axis=1)\n",
    "\n",
    "df.to_csv('../data/prepared/schools.csv', ',')\n",
    "df.head()\n"
   ]
  }
 ]
}