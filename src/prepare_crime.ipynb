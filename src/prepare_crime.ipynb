{
 "metadata": {
  "language_info": {
   "codemirror_mode": {
    "name": "ipython",
    "version": 3
   },
   "file_extension": ".py",
   "mimetype": "text/x-python",
   "name": "python",
   "nbconvert_exporter": "python",
   "pygments_lexer": "ipython3",
   "version": "3.8.5-final"
  },
  "orig_nbformat": 2,
  "kernelspec": {
   "name": "python3",
   "display_name": "Python 3"
  }
 },
 "nbformat": 4,
 "nbformat_minor": 2,
 "cells": [
  {
   "cell_type": "code",
   "execution_count": 1,
   "metadata": {},
   "outputs": [],
   "source": [
    "import pandas as pd\n",
    "\n",
    "weigth_na = 1\n",
    "weigth_violation=1\n",
    "weigth_infraction=2\n",
    "weigth_misdemeanor=2\n",
    "weigth_felony=5\n",
    "weigth_shooting = 8"
   ]
  },
  {
   "cell_type": "code",
   "execution_count": 2,
   "metadata": {},
   "outputs": [
    {
     "output_type": "execute_result",
     "data": {
      "text/plain": [
       "        ARREST_KEY ARREST_DATE  PD_CD  \\\n",
       "0        208368444  01/22/2020  729.0   \n",
       "1        209487362  02/13/2020  101.0   \n",
       "2        208853853  02/01/2020  779.0   \n",
       "3        209621232  02/16/2020  905.0   \n",
       "4        208350647  01/22/2020  259.0   \n",
       "...            ...         ...    ...   \n",
       "103371   210091751  02/26/2020  439.0   \n",
       "103372   211035903  03/15/2020  490.0   \n",
       "103373   211633815  03/31/2020  904.0   \n",
       "103374   209884845  02/21/2020  181.0   \n",
       "103375   211189067  03/18/2020  244.0   \n",
       "\n",
       "                                          PD_DESC  KY_CD  \\\n",
       "0                  FORGERY,ETC.,UNCLASSIFIED-FELO  113.0   \n",
       "1                                       ASSAULT 3  344.0   \n",
       "2                  PUBLIC ADMINISTRATION,UNCLASSI  126.0   \n",
       "3                     INTOXICATED DRIVING,ALCOHOL  347.0   \n",
       "4                CRIMINAL MISCHIEF,UNCLASSIFIED 4  351.0   \n",
       "...                                           ...    ...   \n",
       "103371  LARCENY,GRAND FROM OPEN AREAS, UNATTENDED  109.0   \n",
       "103372               STOLEN PROPERTY 3,POSSESSION  232.0   \n",
       "103373                INTOXICATED DRIVING,ALCOHOL  119.0   \n",
       "103374                    IMPRISONMENT 2,UNLAWFUL  355.0   \n",
       "103375              BURGLARY,UNCLASSIFIED,UNKNOWN  107.0   \n",
       "\n",
       "                             OFNS_DESC    LAW_CODE LAW_CAT_CD ARREST_BORO  \\\n",
       "0                              FORGERY  PL 1702500          F           K   \n",
       "1         ASSAULT 3 & RELATED OFFENSES  PL 1200001          M           B   \n",
       "2              MISCELLANEOUS PENAL LAW  PL 215510B          F           Q   \n",
       "3       INTOXICATED & IMPAIRED DRIVING  VTL11920U2          M           B   \n",
       "4       CRIMINAL MISCHIEF & RELATED OF  PL 1450001          M           B   \n",
       "...                                ...         ...        ...         ...   \n",
       "103371                   GRAND LARCENY  PL 1553004          F           M   \n",
       "103372   POSSESSION OF STOLEN PROPERTY  PL 1654000          M           M   \n",
       "103373    INTOXICATED/IMPAIRED DRIVING  VTL11920E2          F           S   \n",
       "103374     OFFENSES AGAINST THE PERSON  PL 1350500          M           Q   \n",
       "103375                        BURGLARY  PL 1402000          F           M   \n",
       "\n",
       "        ARREST_PRECINCT  JURISDICTION_CODE AGE_GROUP PERP_SEX       PERP_RACE  \\\n",
       "0                    69                  0     25-44        M           BLACK   \n",
       "1                    46                  0     45-64        M           BLACK   \n",
       "2                   115                  0       65+        M  WHITE HISPANIC   \n",
       "3                    45                  0     45-64        M  WHITE HISPANIC   \n",
       "4                    43                  0     18-24        F           BLACK   \n",
       "...                 ...                ...       ...      ...             ...   \n",
       "103371               17                  0     25-44        F           BLACK   \n",
       "103372                1                  1     45-64        M           BLACK   \n",
       "103373              120                  0     25-44        M  WHITE HISPANIC   \n",
       "103374              102                  0     25-44        M           BLACK   \n",
       "103375               18                  0     45-64        M           BLACK   \n",
       "\n",
       "        X_COORD_CD  Y_COORD_CD   Latitude  Longitude  \\\n",
       "0          1012161      178176  40.655693 -73.899409   \n",
       "1          1011751      250275  40.853587 -73.900591   \n",
       "2          1015995      212787  40.750679 -73.885427   \n",
       "3          1032817      257638  40.873706 -73.824389   \n",
       "4          1020183      239283  40.823387 -73.870170   \n",
       "...            ...         ...        ...        ...   \n",
       "103371      992793      215443  40.758022 -73.969165   \n",
       "103372      982806      201821  40.720637 -74.005211   \n",
       "103373      965889      163012  40.614096 -74.066134   \n",
       "103374     1030948      190638  40.689819 -73.831613   \n",
       "103375      988211      218129  40.765397 -73.985702   \n",
       "\n",
       "                             New Georeferenced Column  \n",
       "0       POINT (-73.89940857299997 40.655692874000074)  \n",
       "1        POINT (-73.90059135599995 40.85358740100002)  \n",
       "2        POINT (-73.88542747799994 40.75067895500007)  \n",
       "3        POINT (-73.82438917799993 40.87370582600005)  \n",
       "4              POINT (-73.87017045 40.82338729100008)  \n",
       "...                                               ...  \n",
       "103371   POINT (-73.96916468499995 40.75802185400005)  \n",
       "103372   POINT (-74.00521077799993 40.72063684600005)  \n",
       "103373   POINT (-74.06613431099998 40.61409586700007)  \n",
       "103374        POINT (-73.831612927 40.68981906700003)  \n",
       "103375  POINT (-73.98570226399994 40.765397475000036)  \n",
       "\n",
       "[103376 rows x 19 columns]"
      ],
      "text/html": "<div>\n<style scoped>\n    .dataframe tbody tr th:only-of-type {\n        vertical-align: middle;\n    }\n\n    .dataframe tbody tr th {\n        vertical-align: top;\n    }\n\n    .dataframe thead th {\n        text-align: right;\n    }\n</style>\n<table border=\"1\" class=\"dataframe\">\n  <thead>\n    <tr style=\"text-align: right;\">\n      <th></th>\n      <th>ARREST_KEY</th>\n      <th>ARREST_DATE</th>\n      <th>PD_CD</th>\n      <th>PD_DESC</th>\n      <th>KY_CD</th>\n      <th>OFNS_DESC</th>\n      <th>LAW_CODE</th>\n      <th>LAW_CAT_CD</th>\n      <th>ARREST_BORO</th>\n      <th>ARREST_PRECINCT</th>\n      <th>JURISDICTION_CODE</th>\n      <th>AGE_GROUP</th>\n      <th>PERP_SEX</th>\n      <th>PERP_RACE</th>\n      <th>X_COORD_CD</th>\n      <th>Y_COORD_CD</th>\n      <th>Latitude</th>\n      <th>Longitude</th>\n      <th>New Georeferenced Column</th>\n    </tr>\n  </thead>\n  <tbody>\n    <tr>\n      <th>0</th>\n      <td>208368444</td>\n      <td>01/22/2020</td>\n      <td>729.0</td>\n      <td>FORGERY,ETC.,UNCLASSIFIED-FELO</td>\n      <td>113.0</td>\n      <td>FORGERY</td>\n      <td>PL 1702500</td>\n      <td>F</td>\n      <td>K</td>\n      <td>69</td>\n      <td>0</td>\n      <td>25-44</td>\n      <td>M</td>\n      <td>BLACK</td>\n      <td>1012161</td>\n      <td>178176</td>\n      <td>40.655693</td>\n      <td>-73.899409</td>\n      <td>POINT (-73.89940857299997 40.655692874000074)</td>\n    </tr>\n    <tr>\n      <th>1</th>\n      <td>209487362</td>\n      <td>02/13/2020</td>\n      <td>101.0</td>\n      <td>ASSAULT 3</td>\n      <td>344.0</td>\n      <td>ASSAULT 3 &amp; RELATED OFFENSES</td>\n      <td>PL 1200001</td>\n      <td>M</td>\n      <td>B</td>\n      <td>46</td>\n      <td>0</td>\n      <td>45-64</td>\n      <td>M</td>\n      <td>BLACK</td>\n      <td>1011751</td>\n      <td>250275</td>\n      <td>40.853587</td>\n      <td>-73.900591</td>\n      <td>POINT (-73.90059135599995 40.85358740100002)</td>\n    </tr>\n    <tr>\n      <th>2</th>\n      <td>208853853</td>\n      <td>02/01/2020</td>\n      <td>779.0</td>\n      <td>PUBLIC ADMINISTRATION,UNCLASSI</td>\n      <td>126.0</td>\n      <td>MISCELLANEOUS PENAL LAW</td>\n      <td>PL 215510B</td>\n      <td>F</td>\n      <td>Q</td>\n      <td>115</td>\n      <td>0</td>\n      <td>65+</td>\n      <td>M</td>\n      <td>WHITE HISPANIC</td>\n      <td>1015995</td>\n      <td>212787</td>\n      <td>40.750679</td>\n      <td>-73.885427</td>\n      <td>POINT (-73.88542747799994 40.75067895500007)</td>\n    </tr>\n    <tr>\n      <th>3</th>\n      <td>209621232</td>\n      <td>02/16/2020</td>\n      <td>905.0</td>\n      <td>INTOXICATED DRIVING,ALCOHOL</td>\n      <td>347.0</td>\n      <td>INTOXICATED &amp; IMPAIRED DRIVING</td>\n      <td>VTL11920U2</td>\n      <td>M</td>\n      <td>B</td>\n      <td>45</td>\n      <td>0</td>\n      <td>45-64</td>\n      <td>M</td>\n      <td>WHITE HISPANIC</td>\n      <td>1032817</td>\n      <td>257638</td>\n      <td>40.873706</td>\n      <td>-73.824389</td>\n      <td>POINT (-73.82438917799993 40.87370582600005)</td>\n    </tr>\n    <tr>\n      <th>4</th>\n      <td>208350647</td>\n      <td>01/22/2020</td>\n      <td>259.0</td>\n      <td>CRIMINAL MISCHIEF,UNCLASSIFIED 4</td>\n      <td>351.0</td>\n      <td>CRIMINAL MISCHIEF &amp; RELATED OF</td>\n      <td>PL 1450001</td>\n      <td>M</td>\n      <td>B</td>\n      <td>43</td>\n      <td>0</td>\n      <td>18-24</td>\n      <td>F</td>\n      <td>BLACK</td>\n      <td>1020183</td>\n      <td>239283</td>\n      <td>40.823387</td>\n      <td>-73.870170</td>\n      <td>POINT (-73.87017045 40.82338729100008)</td>\n    </tr>\n    <tr>\n      <th>...</th>\n      <td>...</td>\n      <td>...</td>\n      <td>...</td>\n      <td>...</td>\n      <td>...</td>\n      <td>...</td>\n      <td>...</td>\n      <td>...</td>\n      <td>...</td>\n      <td>...</td>\n      <td>...</td>\n      <td>...</td>\n      <td>...</td>\n      <td>...</td>\n      <td>...</td>\n      <td>...</td>\n      <td>...</td>\n      <td>...</td>\n      <td>...</td>\n    </tr>\n    <tr>\n      <th>103371</th>\n      <td>210091751</td>\n      <td>02/26/2020</td>\n      <td>439.0</td>\n      <td>LARCENY,GRAND FROM OPEN AREAS, UNATTENDED</td>\n      <td>109.0</td>\n      <td>GRAND LARCENY</td>\n      <td>PL 1553004</td>\n      <td>F</td>\n      <td>M</td>\n      <td>17</td>\n      <td>0</td>\n      <td>25-44</td>\n      <td>F</td>\n      <td>BLACK</td>\n      <td>992793</td>\n      <td>215443</td>\n      <td>40.758022</td>\n      <td>-73.969165</td>\n      <td>POINT (-73.96916468499995 40.75802185400005)</td>\n    </tr>\n    <tr>\n      <th>103372</th>\n      <td>211035903</td>\n      <td>03/15/2020</td>\n      <td>490.0</td>\n      <td>STOLEN PROPERTY 3,POSSESSION</td>\n      <td>232.0</td>\n      <td>POSSESSION OF STOLEN PROPERTY</td>\n      <td>PL 1654000</td>\n      <td>M</td>\n      <td>M</td>\n      <td>1</td>\n      <td>1</td>\n      <td>45-64</td>\n      <td>M</td>\n      <td>BLACK</td>\n      <td>982806</td>\n      <td>201821</td>\n      <td>40.720637</td>\n      <td>-74.005211</td>\n      <td>POINT (-74.00521077799993 40.72063684600005)</td>\n    </tr>\n    <tr>\n      <th>103373</th>\n      <td>211633815</td>\n      <td>03/31/2020</td>\n      <td>904.0</td>\n      <td>INTOXICATED DRIVING,ALCOHOL</td>\n      <td>119.0</td>\n      <td>INTOXICATED/IMPAIRED DRIVING</td>\n      <td>VTL11920E2</td>\n      <td>F</td>\n      <td>S</td>\n      <td>120</td>\n      <td>0</td>\n      <td>25-44</td>\n      <td>M</td>\n      <td>WHITE HISPANIC</td>\n      <td>965889</td>\n      <td>163012</td>\n      <td>40.614096</td>\n      <td>-74.066134</td>\n      <td>POINT (-74.06613431099998 40.61409586700007)</td>\n    </tr>\n    <tr>\n      <th>103374</th>\n      <td>209884845</td>\n      <td>02/21/2020</td>\n      <td>181.0</td>\n      <td>IMPRISONMENT 2,UNLAWFUL</td>\n      <td>355.0</td>\n      <td>OFFENSES AGAINST THE PERSON</td>\n      <td>PL 1350500</td>\n      <td>M</td>\n      <td>Q</td>\n      <td>102</td>\n      <td>0</td>\n      <td>25-44</td>\n      <td>M</td>\n      <td>BLACK</td>\n      <td>1030948</td>\n      <td>190638</td>\n      <td>40.689819</td>\n      <td>-73.831613</td>\n      <td>POINT (-73.831612927 40.68981906700003)</td>\n    </tr>\n    <tr>\n      <th>103375</th>\n      <td>211189067</td>\n      <td>03/18/2020</td>\n      <td>244.0</td>\n      <td>BURGLARY,UNCLASSIFIED,UNKNOWN</td>\n      <td>107.0</td>\n      <td>BURGLARY</td>\n      <td>PL 1402000</td>\n      <td>F</td>\n      <td>M</td>\n      <td>18</td>\n      <td>0</td>\n      <td>45-64</td>\n      <td>M</td>\n      <td>BLACK</td>\n      <td>988211</td>\n      <td>218129</td>\n      <td>40.765397</td>\n      <td>-73.985702</td>\n      <td>POINT (-73.98570226399994 40.765397475000036)</td>\n    </tr>\n  </tbody>\n</table>\n<p>103376 rows × 19 columns</p>\n</div>"
     },
     "metadata": {},
     "execution_count": 2
    }
   ],
   "source": [
    "arrests = pd.read_csv('./../data/original/NYPD_Arrest_Data__Year_to_Date_.csv')\n",
    "arrests"
   ]
  },
  {
   "source": [
    "Filter out arrests wich did not happen in Brooklyn (K)"
   ],
   "cell_type": "markdown",
   "metadata": {}
  },
  {
   "cell_type": "code",
   "execution_count": 3,
   "metadata": {},
   "outputs": [
    {
     "output_type": "execute_result",
     "data": {
      "text/plain": [
       "        ARREST_KEY ARREST_DATE  PD_CD                         PD_DESC  KY_CD  \\\n",
       "0        208368444  01/22/2020  729.0  FORGERY,ETC.,UNCLASSIFIED-FELO  113.0   \n",
       "5        207688725  01/09/2020  339.0  LARCENY,PETIT FROM OPEN AREAS,  341.0   \n",
       "6        208109981  01/17/2020  101.0                       ASSAULT 3  344.0   \n",
       "7        207743103  01/11/2020  168.0                        SODOMY 1  116.0   \n",
       "10       209610142  02/16/2020  969.0  TRAFFIC,UNCLASSIFIED INFRACTIO  881.0   \n",
       "...            ...         ...    ...                             ...    ...   \n",
       "103338   210065016  02/25/2020  244.0   BURGLARY,UNCLASSIFIED,UNKNOWN  107.0   \n",
       "103341   210988195  03/13/2020  101.0                       ASSAULT 3  344.0   \n",
       "103350   211600652  03/31/2020  109.0        ASSAULT 2,1,UNCLASSIFIED  106.0   \n",
       "103353   211860241  04/08/2020  750.0                RESISTING ARREST  359.0   \n",
       "103354   210611345  03/06/2020  339.0  LARCENY,PETIT FROM OPEN AREAS,  341.0   \n",
       "\n",
       "                             OFNS_DESC    LAW_CODE LAW_CAT_CD ARREST_BORO  \\\n",
       "0                              FORGERY  PL 1702500          F           K   \n",
       "5                        PETIT LARCENY  PL 1552500          M           K   \n",
       "6         ASSAULT 3 & RELATED OFFENSES  PL 1200001          M           K   \n",
       "7                           SEX CRIMES  PL 1305004          F           K   \n",
       "10            OTHER TRAFFIC INFRACTION  VTL051101A          M           K   \n",
       "...                                ...         ...        ...         ...   \n",
       "103338                        BURGLARY  PL 1402501          F           K   \n",
       "103341    ASSAULT 3 & RELATED OFFENSES  PL 1200001          M           K   \n",
       "103350                  FELONY ASSAULT  PL 1200502          F           K   \n",
       "103353  OFFENSES AGAINST PUBLIC ADMINI  PL 2053000          M           K   \n",
       "103354                   PETIT LARCENY  PL 1552500          M           K   \n",
       "\n",
       "        ARREST_PRECINCT  JURISDICTION_CODE AGE_GROUP PERP_SEX       PERP_RACE  \\\n",
       "0                    69                  0     25-44        M           BLACK   \n",
       "5                    63                  0     18-24        M           BLACK   \n",
       "6                    90                  0     45-64        M           BLACK   \n",
       "7                    77                  0     45-64        M           BLACK   \n",
       "10                   60                  0     25-44        M           WHITE   \n",
       "...                 ...                ...       ...      ...             ...   \n",
       "103338               71                  0     25-44        M           BLACK   \n",
       "103341               70                  0     45-64        F           BLACK   \n",
       "103350               94                  0     25-44        M  WHITE HISPANIC   \n",
       "103353               72                  0     45-64        M           BLACK   \n",
       "103354               60                  0       65+        M           WHITE   \n",
       "\n",
       "        X_COORD_CD  Y_COORD_CD   Latitude  Longitude  \\\n",
       "0          1012161      178176  40.655693 -73.899409   \n",
       "5          1003772      161309  40.609419 -73.929692   \n",
       "6          1003954      197201  40.707934 -73.928931   \n",
       "7          1003606      185050  40.674583 -73.930222   \n",
       "10          989267      150295  40.579208 -73.981941   \n",
       "...            ...         ...        ...        ...   \n",
       "103338      999005      181250  40.664162 -73.946817   \n",
       "103341      996352      172912  40.641280 -73.956395   \n",
       "103350      997245      204130  40.726965 -73.953117   \n",
       "103353      980019      175721  40.648997 -74.015249   \n",
       "103354      991686      150568  40.579956 -73.973232   \n",
       "\n",
       "                             New Georeferenced Column  \n",
       "0       POINT (-73.89940857299997 40.655692874000074)  \n",
       "5       POINT (-73.92969179199997 40.609419006000046)  \n",
       "6       POINT (-73.92893143599997 40.707934228000056)  \n",
       "7        POINT (-73.93022154099998 40.67458330800008)  \n",
       "10      POINT (-73.98194058799999 40.579207868000026)  \n",
       "...                                               ...  \n",
       "103338   POINT (-73.94681681999998 40.66416202000005)  \n",
       "103341   POINT (-73.95639455799993 40.64128004900005)  \n",
       "103350  POINT (-73.95311662899996 40.726965067000044)  \n",
       "103353  POINT (-74.01524867999996 40.648997405000046)  \n",
       "103354   POINT (-73.97323205799995 40.57995550100002)  \n",
       "\n",
       "[27962 rows x 19 columns]"
      ],
      "text/html": "<div>\n<style scoped>\n    .dataframe tbody tr th:only-of-type {\n        vertical-align: middle;\n    }\n\n    .dataframe tbody tr th {\n        vertical-align: top;\n    }\n\n    .dataframe thead th {\n        text-align: right;\n    }\n</style>\n<table border=\"1\" class=\"dataframe\">\n  <thead>\n    <tr style=\"text-align: right;\">\n      <th></th>\n      <th>ARREST_KEY</th>\n      <th>ARREST_DATE</th>\n      <th>PD_CD</th>\n      <th>PD_DESC</th>\n      <th>KY_CD</th>\n      <th>OFNS_DESC</th>\n      <th>LAW_CODE</th>\n      <th>LAW_CAT_CD</th>\n      <th>ARREST_BORO</th>\n      <th>ARREST_PRECINCT</th>\n      <th>JURISDICTION_CODE</th>\n      <th>AGE_GROUP</th>\n      <th>PERP_SEX</th>\n      <th>PERP_RACE</th>\n      <th>X_COORD_CD</th>\n      <th>Y_COORD_CD</th>\n      <th>Latitude</th>\n      <th>Longitude</th>\n      <th>New Georeferenced Column</th>\n    </tr>\n  </thead>\n  <tbody>\n    <tr>\n      <th>0</th>\n      <td>208368444</td>\n      <td>01/22/2020</td>\n      <td>729.0</td>\n      <td>FORGERY,ETC.,UNCLASSIFIED-FELO</td>\n      <td>113.0</td>\n      <td>FORGERY</td>\n      <td>PL 1702500</td>\n      <td>F</td>\n      <td>K</td>\n      <td>69</td>\n      <td>0</td>\n      <td>25-44</td>\n      <td>M</td>\n      <td>BLACK</td>\n      <td>1012161</td>\n      <td>178176</td>\n      <td>40.655693</td>\n      <td>-73.899409</td>\n      <td>POINT (-73.89940857299997 40.655692874000074)</td>\n    </tr>\n    <tr>\n      <th>5</th>\n      <td>207688725</td>\n      <td>01/09/2020</td>\n      <td>339.0</td>\n      <td>LARCENY,PETIT FROM OPEN AREAS,</td>\n      <td>341.0</td>\n      <td>PETIT LARCENY</td>\n      <td>PL 1552500</td>\n      <td>M</td>\n      <td>K</td>\n      <td>63</td>\n      <td>0</td>\n      <td>18-24</td>\n      <td>M</td>\n      <td>BLACK</td>\n      <td>1003772</td>\n      <td>161309</td>\n      <td>40.609419</td>\n      <td>-73.929692</td>\n      <td>POINT (-73.92969179199997 40.609419006000046)</td>\n    </tr>\n    <tr>\n      <th>6</th>\n      <td>208109981</td>\n      <td>01/17/2020</td>\n      <td>101.0</td>\n      <td>ASSAULT 3</td>\n      <td>344.0</td>\n      <td>ASSAULT 3 &amp; RELATED OFFENSES</td>\n      <td>PL 1200001</td>\n      <td>M</td>\n      <td>K</td>\n      <td>90</td>\n      <td>0</td>\n      <td>45-64</td>\n      <td>M</td>\n      <td>BLACK</td>\n      <td>1003954</td>\n      <td>197201</td>\n      <td>40.707934</td>\n      <td>-73.928931</td>\n      <td>POINT (-73.92893143599997 40.707934228000056)</td>\n    </tr>\n    <tr>\n      <th>7</th>\n      <td>207743103</td>\n      <td>01/11/2020</td>\n      <td>168.0</td>\n      <td>SODOMY 1</td>\n      <td>116.0</td>\n      <td>SEX CRIMES</td>\n      <td>PL 1305004</td>\n      <td>F</td>\n      <td>K</td>\n      <td>77</td>\n      <td>0</td>\n      <td>45-64</td>\n      <td>M</td>\n      <td>BLACK</td>\n      <td>1003606</td>\n      <td>185050</td>\n      <td>40.674583</td>\n      <td>-73.930222</td>\n      <td>POINT (-73.93022154099998 40.67458330800008)</td>\n    </tr>\n    <tr>\n      <th>10</th>\n      <td>209610142</td>\n      <td>02/16/2020</td>\n      <td>969.0</td>\n      <td>TRAFFIC,UNCLASSIFIED INFRACTIO</td>\n      <td>881.0</td>\n      <td>OTHER TRAFFIC INFRACTION</td>\n      <td>VTL051101A</td>\n      <td>M</td>\n      <td>K</td>\n      <td>60</td>\n      <td>0</td>\n      <td>25-44</td>\n      <td>M</td>\n      <td>WHITE</td>\n      <td>989267</td>\n      <td>150295</td>\n      <td>40.579208</td>\n      <td>-73.981941</td>\n      <td>POINT (-73.98194058799999 40.579207868000026)</td>\n    </tr>\n    <tr>\n      <th>...</th>\n      <td>...</td>\n      <td>...</td>\n      <td>...</td>\n      <td>...</td>\n      <td>...</td>\n      <td>...</td>\n      <td>...</td>\n      <td>...</td>\n      <td>...</td>\n      <td>...</td>\n      <td>...</td>\n      <td>...</td>\n      <td>...</td>\n      <td>...</td>\n      <td>...</td>\n      <td>...</td>\n      <td>...</td>\n      <td>...</td>\n      <td>...</td>\n    </tr>\n    <tr>\n      <th>103338</th>\n      <td>210065016</td>\n      <td>02/25/2020</td>\n      <td>244.0</td>\n      <td>BURGLARY,UNCLASSIFIED,UNKNOWN</td>\n      <td>107.0</td>\n      <td>BURGLARY</td>\n      <td>PL 1402501</td>\n      <td>F</td>\n      <td>K</td>\n      <td>71</td>\n      <td>0</td>\n      <td>25-44</td>\n      <td>M</td>\n      <td>BLACK</td>\n      <td>999005</td>\n      <td>181250</td>\n      <td>40.664162</td>\n      <td>-73.946817</td>\n      <td>POINT (-73.94681681999998 40.66416202000005)</td>\n    </tr>\n    <tr>\n      <th>103341</th>\n      <td>210988195</td>\n      <td>03/13/2020</td>\n      <td>101.0</td>\n      <td>ASSAULT 3</td>\n      <td>344.0</td>\n      <td>ASSAULT 3 &amp; RELATED OFFENSES</td>\n      <td>PL 1200001</td>\n      <td>M</td>\n      <td>K</td>\n      <td>70</td>\n      <td>0</td>\n      <td>45-64</td>\n      <td>F</td>\n      <td>BLACK</td>\n      <td>996352</td>\n      <td>172912</td>\n      <td>40.641280</td>\n      <td>-73.956395</td>\n      <td>POINT (-73.95639455799993 40.64128004900005)</td>\n    </tr>\n    <tr>\n      <th>103350</th>\n      <td>211600652</td>\n      <td>03/31/2020</td>\n      <td>109.0</td>\n      <td>ASSAULT 2,1,UNCLASSIFIED</td>\n      <td>106.0</td>\n      <td>FELONY ASSAULT</td>\n      <td>PL 1200502</td>\n      <td>F</td>\n      <td>K</td>\n      <td>94</td>\n      <td>0</td>\n      <td>25-44</td>\n      <td>M</td>\n      <td>WHITE HISPANIC</td>\n      <td>997245</td>\n      <td>204130</td>\n      <td>40.726965</td>\n      <td>-73.953117</td>\n      <td>POINT (-73.95311662899996 40.726965067000044)</td>\n    </tr>\n    <tr>\n      <th>103353</th>\n      <td>211860241</td>\n      <td>04/08/2020</td>\n      <td>750.0</td>\n      <td>RESISTING ARREST</td>\n      <td>359.0</td>\n      <td>OFFENSES AGAINST PUBLIC ADMINI</td>\n      <td>PL 2053000</td>\n      <td>M</td>\n      <td>K</td>\n      <td>72</td>\n      <td>0</td>\n      <td>45-64</td>\n      <td>M</td>\n      <td>BLACK</td>\n      <td>980019</td>\n      <td>175721</td>\n      <td>40.648997</td>\n      <td>-74.015249</td>\n      <td>POINT (-74.01524867999996 40.648997405000046)</td>\n    </tr>\n    <tr>\n      <th>103354</th>\n      <td>210611345</td>\n      <td>03/06/2020</td>\n      <td>339.0</td>\n      <td>LARCENY,PETIT FROM OPEN AREAS,</td>\n      <td>341.0</td>\n      <td>PETIT LARCENY</td>\n      <td>PL 1552500</td>\n      <td>M</td>\n      <td>K</td>\n      <td>60</td>\n      <td>0</td>\n      <td>65+</td>\n      <td>M</td>\n      <td>WHITE</td>\n      <td>991686</td>\n      <td>150568</td>\n      <td>40.579956</td>\n      <td>-73.973232</td>\n      <td>POINT (-73.97323205799995 40.57995550100002)</td>\n    </tr>\n  </tbody>\n</table>\n<p>27962 rows × 19 columns</p>\n</div>"
     },
     "metadata": {},
     "execution_count": 3
    }
   ],
   "source": [
    "arrests = arrests[arrests[\"ARREST_BORO\"] == 'K']\n",
    "arrests"
   ]
  },
  {
   "cell_type": "code",
   "execution_count": 4,
   "metadata": {},
   "outputs": [
    {
     "output_type": "execute_result",
     "data": {
      "text/plain": [
       "                               PD_DESC                       OFNS_DESC  \\\n",
       "0       FORGERY,ETC.,UNCLASSIFIED-FELO                         FORGERY   \n",
       "5       LARCENY,PETIT FROM OPEN AREAS,                   PETIT LARCENY   \n",
       "6                            ASSAULT 3    ASSAULT 3 & RELATED OFFENSES   \n",
       "7                             SODOMY 1                      SEX CRIMES   \n",
       "10      TRAFFIC,UNCLASSIFIED INFRACTIO        OTHER TRAFFIC INFRACTION   \n",
       "...                                ...                             ...   \n",
       "103338   BURGLARY,UNCLASSIFIED,UNKNOWN                        BURGLARY   \n",
       "103341                       ASSAULT 3    ASSAULT 3 & RELATED OFFENSES   \n",
       "103350        ASSAULT 2,1,UNCLASSIFIED                  FELONY ASSAULT   \n",
       "103353                RESISTING ARREST  OFFENSES AGAINST PUBLIC ADMINI   \n",
       "103354  LARCENY,PETIT FROM OPEN AREAS,                   PETIT LARCENY   \n",
       "\n",
       "       LAW_CAT_CD   Latitude  Longitude  \n",
       "0               F  40.655693 -73.899409  \n",
       "5               M  40.609419 -73.929692  \n",
       "6               M  40.707934 -73.928931  \n",
       "7               F  40.674583 -73.930222  \n",
       "10              M  40.579208 -73.981941  \n",
       "...           ...        ...        ...  \n",
       "103338          F  40.664162 -73.946817  \n",
       "103341          M  40.641280 -73.956395  \n",
       "103350          F  40.726965 -73.953117  \n",
       "103353          M  40.648997 -74.015249  \n",
       "103354          M  40.579956 -73.973232  \n",
       "\n",
       "[27962 rows x 5 columns]"
      ],
      "text/html": "<div>\n<style scoped>\n    .dataframe tbody tr th:only-of-type {\n        vertical-align: middle;\n    }\n\n    .dataframe tbody tr th {\n        vertical-align: top;\n    }\n\n    .dataframe thead th {\n        text-align: right;\n    }\n</style>\n<table border=\"1\" class=\"dataframe\">\n  <thead>\n    <tr style=\"text-align: right;\">\n      <th></th>\n      <th>PD_DESC</th>\n      <th>OFNS_DESC</th>\n      <th>LAW_CAT_CD</th>\n      <th>Latitude</th>\n      <th>Longitude</th>\n    </tr>\n  </thead>\n  <tbody>\n    <tr>\n      <th>0</th>\n      <td>FORGERY,ETC.,UNCLASSIFIED-FELO</td>\n      <td>FORGERY</td>\n      <td>F</td>\n      <td>40.655693</td>\n      <td>-73.899409</td>\n    </tr>\n    <tr>\n      <th>5</th>\n      <td>LARCENY,PETIT FROM OPEN AREAS,</td>\n      <td>PETIT LARCENY</td>\n      <td>M</td>\n      <td>40.609419</td>\n      <td>-73.929692</td>\n    </tr>\n    <tr>\n      <th>6</th>\n      <td>ASSAULT 3</td>\n      <td>ASSAULT 3 &amp; RELATED OFFENSES</td>\n      <td>M</td>\n      <td>40.707934</td>\n      <td>-73.928931</td>\n    </tr>\n    <tr>\n      <th>7</th>\n      <td>SODOMY 1</td>\n      <td>SEX CRIMES</td>\n      <td>F</td>\n      <td>40.674583</td>\n      <td>-73.930222</td>\n    </tr>\n    <tr>\n      <th>10</th>\n      <td>TRAFFIC,UNCLASSIFIED INFRACTIO</td>\n      <td>OTHER TRAFFIC INFRACTION</td>\n      <td>M</td>\n      <td>40.579208</td>\n      <td>-73.981941</td>\n    </tr>\n    <tr>\n      <th>...</th>\n      <td>...</td>\n      <td>...</td>\n      <td>...</td>\n      <td>...</td>\n      <td>...</td>\n    </tr>\n    <tr>\n      <th>103338</th>\n      <td>BURGLARY,UNCLASSIFIED,UNKNOWN</td>\n      <td>BURGLARY</td>\n      <td>F</td>\n      <td>40.664162</td>\n      <td>-73.946817</td>\n    </tr>\n    <tr>\n      <th>103341</th>\n      <td>ASSAULT 3</td>\n      <td>ASSAULT 3 &amp; RELATED OFFENSES</td>\n      <td>M</td>\n      <td>40.641280</td>\n      <td>-73.956395</td>\n    </tr>\n    <tr>\n      <th>103350</th>\n      <td>ASSAULT 2,1,UNCLASSIFIED</td>\n      <td>FELONY ASSAULT</td>\n      <td>F</td>\n      <td>40.726965</td>\n      <td>-73.953117</td>\n    </tr>\n    <tr>\n      <th>103353</th>\n      <td>RESISTING ARREST</td>\n      <td>OFFENSES AGAINST PUBLIC ADMINI</td>\n      <td>M</td>\n      <td>40.648997</td>\n      <td>-74.015249</td>\n    </tr>\n    <tr>\n      <th>103354</th>\n      <td>LARCENY,PETIT FROM OPEN AREAS,</td>\n      <td>PETIT LARCENY</td>\n      <td>M</td>\n      <td>40.579956</td>\n      <td>-73.973232</td>\n    </tr>\n  </tbody>\n</table>\n<p>27962 rows × 5 columns</p>\n</div>"
     },
     "metadata": {},
     "execution_count": 4
    }
   ],
   "source": [
    "arrests.drop(columns=['ARREST_KEY','ARREST_DATE','PD_CD','KY_CD','LAW_CODE','ARREST_BORO','ARREST_PRECINCT','JURISDICTION_CODE','AGE_GROUP','PERP_SEX','PERP_RACE','X_COORD_CD','Y_COORD_CD','New Georeferenced Column'], inplace=True)\n",
    "arrests"
   ]
  },
  {
   "cell_type": "code",
   "execution_count": 5,
   "metadata": {},
   "outputs": [
    {
     "output_type": "execute_result",
     "data": {
      "text/plain": [
       "array(['F', 'M', nan, 'V', 'I'], dtype=object)"
      ]
     },
     "metadata": {},
     "execution_count": 5
    }
   ],
   "source": [
    "arrests.LAW_CAT_CD.unique()"
   ]
  },
  {
   "source": [
    "There are following level of offense (LAW_CAT_CD)\n",
    "- V violation (de: 'Verstoss')\n",
    "- I infraction (de: 'Übertrettung')\n",
    "- M misdemeanor (de: 'Übertrettung')\n",
    "- F felony (de: 'Verbrechen')"
   ],
   "cell_type": "markdown",
   "metadata": {}
  },
  {
   "source": [
    "Show some where level of offense is 'Not available'"
   ],
   "cell_type": "markdown",
   "metadata": {}
  },
  {
   "cell_type": "code",
   "execution_count": 6,
   "metadata": {},
   "outputs": [
    {
     "output_type": "execute_result",
     "data": {
      "text/plain": [
       "                       PD_DESC              OFNS_DESC LAW_CAT_CD   Latitude  \\\n",
       "68      U.S. CODE UNCLASSIFIED  FOR OTHER AUTHORITIES        NaN  40.615443   \n",
       "1219    U.S. CODE UNCLASSIFIED  FOR OTHER AUTHORITIES        NaN  40.697970   \n",
       "1227    U.S. CODE UNCLASSIFIED  FOR OTHER AUTHORITIES        NaN  40.693425   \n",
       "2242    U.S. CODE UNCLASSIFIED  FOR OTHER AUTHORITIES        NaN  40.697970   \n",
       "3397    U.S. CODE UNCLASSIFIED  FOR OTHER AUTHORITIES        NaN  40.697970   \n",
       "...                        ...                    ...        ...        ...   \n",
       "96567   U.S. CODE UNCLASSIFIED  FOR OTHER AUTHORITIES        NaN  40.695367   \n",
       "96809   U.S. CODE UNCLASSIFIED  FOR OTHER AUTHORITIES        NaN  40.690846   \n",
       "101207  U.S. CODE UNCLASSIFIED  FOR OTHER AUTHORITIES        NaN  40.675976   \n",
       "101431  U.S. CODE UNCLASSIFIED  FOR OTHER AUTHORITIES        NaN  40.675976   \n",
       "102578  U.S. CODE UNCLASSIFIED  FOR OTHER AUTHORITIES        NaN  40.650177   \n",
       "\n",
       "        Longitude  \n",
       "68     -73.928947  \n",
       "1219   -73.989933  \n",
       "1227   -73.988704  \n",
       "2242   -73.989933  \n",
       "3397   -73.989933  \n",
       "...           ...  \n",
       "96567  -73.983243  \n",
       "96809  -73.981023  \n",
       "101207 -73.963023  \n",
       "101431 -73.963023  \n",
       "102578 -73.952417  \n",
       "\n",
       "[153 rows x 5 columns]"
      ],
      "text/html": "<div>\n<style scoped>\n    .dataframe tbody tr th:only-of-type {\n        vertical-align: middle;\n    }\n\n    .dataframe tbody tr th {\n        vertical-align: top;\n    }\n\n    .dataframe thead th {\n        text-align: right;\n    }\n</style>\n<table border=\"1\" class=\"dataframe\">\n  <thead>\n    <tr style=\"text-align: right;\">\n      <th></th>\n      <th>PD_DESC</th>\n      <th>OFNS_DESC</th>\n      <th>LAW_CAT_CD</th>\n      <th>Latitude</th>\n      <th>Longitude</th>\n    </tr>\n  </thead>\n  <tbody>\n    <tr>\n      <th>68</th>\n      <td>U.S. CODE UNCLASSIFIED</td>\n      <td>FOR OTHER AUTHORITIES</td>\n      <td>NaN</td>\n      <td>40.615443</td>\n      <td>-73.928947</td>\n    </tr>\n    <tr>\n      <th>1219</th>\n      <td>U.S. CODE UNCLASSIFIED</td>\n      <td>FOR OTHER AUTHORITIES</td>\n      <td>NaN</td>\n      <td>40.697970</td>\n      <td>-73.989933</td>\n    </tr>\n    <tr>\n      <th>1227</th>\n      <td>U.S. CODE UNCLASSIFIED</td>\n      <td>FOR OTHER AUTHORITIES</td>\n      <td>NaN</td>\n      <td>40.693425</td>\n      <td>-73.988704</td>\n    </tr>\n    <tr>\n      <th>2242</th>\n      <td>U.S. CODE UNCLASSIFIED</td>\n      <td>FOR OTHER AUTHORITIES</td>\n      <td>NaN</td>\n      <td>40.697970</td>\n      <td>-73.989933</td>\n    </tr>\n    <tr>\n      <th>3397</th>\n      <td>U.S. CODE UNCLASSIFIED</td>\n      <td>FOR OTHER AUTHORITIES</td>\n      <td>NaN</td>\n      <td>40.697970</td>\n      <td>-73.989933</td>\n    </tr>\n    <tr>\n      <th>...</th>\n      <td>...</td>\n      <td>...</td>\n      <td>...</td>\n      <td>...</td>\n      <td>...</td>\n    </tr>\n    <tr>\n      <th>96567</th>\n      <td>U.S. CODE UNCLASSIFIED</td>\n      <td>FOR OTHER AUTHORITIES</td>\n      <td>NaN</td>\n      <td>40.695367</td>\n      <td>-73.983243</td>\n    </tr>\n    <tr>\n      <th>96809</th>\n      <td>U.S. CODE UNCLASSIFIED</td>\n      <td>FOR OTHER AUTHORITIES</td>\n      <td>NaN</td>\n      <td>40.690846</td>\n      <td>-73.981023</td>\n    </tr>\n    <tr>\n      <th>101207</th>\n      <td>U.S. CODE UNCLASSIFIED</td>\n      <td>FOR OTHER AUTHORITIES</td>\n      <td>NaN</td>\n      <td>40.675976</td>\n      <td>-73.963023</td>\n    </tr>\n    <tr>\n      <th>101431</th>\n      <td>U.S. CODE UNCLASSIFIED</td>\n      <td>FOR OTHER AUTHORITIES</td>\n      <td>NaN</td>\n      <td>40.675976</td>\n      <td>-73.963023</td>\n    </tr>\n    <tr>\n      <th>102578</th>\n      <td>U.S. CODE UNCLASSIFIED</td>\n      <td>FOR OTHER AUTHORITIES</td>\n      <td>NaN</td>\n      <td>40.650177</td>\n      <td>-73.952417</td>\n    </tr>\n  </tbody>\n</table>\n<p>153 rows × 5 columns</p>\n</div>"
     },
     "metadata": {},
     "execution_count": 6
    }
   ],
   "source": [
    "arrests[pd.isna(arrests['LAW_CAT_CD'])]"
   ]
  },
  {
   "source": [
    "Show some violations"
   ],
   "cell_type": "markdown",
   "metadata": {}
  },
  {
   "cell_type": "code",
   "execution_count": 7,
   "metadata": {},
   "outputs": [
    {
     "output_type": "execute_result",
     "data": {
      "text/plain": [
       "                               PD_DESC                OFNS_DESC LAW_CAT_CD  \\\n",
       "287     ALCOHOLIC BEVERAGES,PUBLIC CON      ADMINISTRATIVE CODE          V   \n",
       "666              HARASSMENT,SUBD 3,4,5            HARRASSMENT 2          V   \n",
       "956     NY STATE LAWS,UNCLASSIFIED VIO         OTHER STATE LAWS          V   \n",
       "1423    NY STATE LAWS,UNCLASSIFIED VIO         OTHER STATE LAWS          V   \n",
       "1456    NY STATE LAWS,UNCLASSIFIED VIO         OTHER STATE LAWS          V   \n",
       "...                                ...                      ...        ...   \n",
       "101807  ALCOHOLIC BEVERAGES,PUBLIC CON      ADMINISTRATIVE CODE          V   \n",
       "101985           MARIJUANA, POSSESSION  MISCELLANEOUS PENAL LAW          V   \n",
       "102457  NY STATE LAWS,UNCLASSIFIED VIO         OTHER STATE LAWS          V   \n",
       "102517           HARASSMENT,SUBD 3,4,5            HARRASSMENT 2          V   \n",
       "103276  NY STATE LAWS,UNCLASSIFIED VIO         OTHER STATE LAWS          V   \n",
       "\n",
       "         Latitude  Longitude  \n",
       "287     40.650154 -74.005076  \n",
       "666     40.700511 -73.941540  \n",
       "956     40.579983 -73.974636  \n",
       "1423    40.576995 -73.981524  \n",
       "1456    40.669411 -73.942198  \n",
       "...           ...        ...  \n",
       "101807  40.684817 -73.970702  \n",
       "101985  40.640271 -74.019026  \n",
       "102457  40.575574 -73.981204  \n",
       "102517  40.646965 -74.020938  \n",
       "103276  40.680044 -73.905494  \n",
       "\n",
       "[234 rows x 5 columns]"
      ],
      "text/html": "<div>\n<style scoped>\n    .dataframe tbody tr th:only-of-type {\n        vertical-align: middle;\n    }\n\n    .dataframe tbody tr th {\n        vertical-align: top;\n    }\n\n    .dataframe thead th {\n        text-align: right;\n    }\n</style>\n<table border=\"1\" class=\"dataframe\">\n  <thead>\n    <tr style=\"text-align: right;\">\n      <th></th>\n      <th>PD_DESC</th>\n      <th>OFNS_DESC</th>\n      <th>LAW_CAT_CD</th>\n      <th>Latitude</th>\n      <th>Longitude</th>\n    </tr>\n  </thead>\n  <tbody>\n    <tr>\n      <th>287</th>\n      <td>ALCOHOLIC BEVERAGES,PUBLIC CON</td>\n      <td>ADMINISTRATIVE CODE</td>\n      <td>V</td>\n      <td>40.650154</td>\n      <td>-74.005076</td>\n    </tr>\n    <tr>\n      <th>666</th>\n      <td>HARASSMENT,SUBD 3,4,5</td>\n      <td>HARRASSMENT 2</td>\n      <td>V</td>\n      <td>40.700511</td>\n      <td>-73.941540</td>\n    </tr>\n    <tr>\n      <th>956</th>\n      <td>NY STATE LAWS,UNCLASSIFIED VIO</td>\n      <td>OTHER STATE LAWS</td>\n      <td>V</td>\n      <td>40.579983</td>\n      <td>-73.974636</td>\n    </tr>\n    <tr>\n      <th>1423</th>\n      <td>NY STATE LAWS,UNCLASSIFIED VIO</td>\n      <td>OTHER STATE LAWS</td>\n      <td>V</td>\n      <td>40.576995</td>\n      <td>-73.981524</td>\n    </tr>\n    <tr>\n      <th>1456</th>\n      <td>NY STATE LAWS,UNCLASSIFIED VIO</td>\n      <td>OTHER STATE LAWS</td>\n      <td>V</td>\n      <td>40.669411</td>\n      <td>-73.942198</td>\n    </tr>\n    <tr>\n      <th>...</th>\n      <td>...</td>\n      <td>...</td>\n      <td>...</td>\n      <td>...</td>\n      <td>...</td>\n    </tr>\n    <tr>\n      <th>101807</th>\n      <td>ALCOHOLIC BEVERAGES,PUBLIC CON</td>\n      <td>ADMINISTRATIVE CODE</td>\n      <td>V</td>\n      <td>40.684817</td>\n      <td>-73.970702</td>\n    </tr>\n    <tr>\n      <th>101985</th>\n      <td>MARIJUANA, POSSESSION</td>\n      <td>MISCELLANEOUS PENAL LAW</td>\n      <td>V</td>\n      <td>40.640271</td>\n      <td>-74.019026</td>\n    </tr>\n    <tr>\n      <th>102457</th>\n      <td>NY STATE LAWS,UNCLASSIFIED VIO</td>\n      <td>OTHER STATE LAWS</td>\n      <td>V</td>\n      <td>40.575574</td>\n      <td>-73.981204</td>\n    </tr>\n    <tr>\n      <th>102517</th>\n      <td>HARASSMENT,SUBD 3,4,5</td>\n      <td>HARRASSMENT 2</td>\n      <td>V</td>\n      <td>40.646965</td>\n      <td>-74.020938</td>\n    </tr>\n    <tr>\n      <th>103276</th>\n      <td>NY STATE LAWS,UNCLASSIFIED VIO</td>\n      <td>OTHER STATE LAWS</td>\n      <td>V</td>\n      <td>40.680044</td>\n      <td>-73.905494</td>\n    </tr>\n  </tbody>\n</table>\n<p>234 rows × 5 columns</p>\n</div>"
     },
     "metadata": {},
     "execution_count": 7
    }
   ],
   "source": [
    "arrests[arrests['LAW_CAT_CD'] == 'V']"
   ]
  },
  {
   "source": [
    "Show some infractions"
   ],
   "cell_type": "markdown",
   "metadata": {}
  },
  {
   "cell_type": "code",
   "execution_count": 8,
   "metadata": {},
   "outputs": [
    {
     "output_type": "execute_result",
     "data": {
      "text/plain": [
       "                                                 PD_DESC  \\\n",
       "3087                      ADM.CODE,UNCLASSIFIED VIOLATIO   \n",
       "4423                                     IMPROPER LIGHTS   \n",
       "4857                      TRAFFIC,UNCLASSIFIED MISDEMEAN   \n",
       "6109                      NY STATE LAWS,UNCLASSIFIED VIO   \n",
       "7729                                      FAIL TO SIGNAL   \n",
       "7824                      TRAFFIC,UNCLASSIFIED INFRACTIO   \n",
       "8382                      TRAFFIC,UNCLASSIFIED INFRACTIO   \n",
       "8658                      TRAFFIC,UNCLASSIFIED MISDEMEAN   \n",
       "9526                      TRAFFIC,UNCLASSIFIED INFRACTIO   \n",
       "15185                     TRAFFIC,UNCLASSIFIED INFRACTIO   \n",
       "16602                     TRAFFIC,UNCLASSIFIED MISDEMEAN   \n",
       "20046                                    IMPROPER LIGHTS   \n",
       "21770                     TRAFFIC,UNCLASSIFIED INFRACTIO   \n",
       "38210  LEAVING THE SCENE / PROPERTY DAMAGE / INJURED ...   \n",
       "41177  LEAVING THE SCENE / PROPERTY DAMAGE / INJURED ...   \n",
       "42939  LEAVING THE SCENE / PROPERTY DAMAGE / INJURED ...   \n",
       "44782                     TRAFFIC,UNCLASSIFIED INFRACTIO   \n",
       "48833                     TRAFFIC,UNCLASSIFIED INFRACTIO   \n",
       "54637                                UNLICENSED OPERATOR   \n",
       "55022  LEAVING THE SCENE / PROPERTY DAMAGE / INJURED ...   \n",
       "61161                     TRAFFIC,UNCLASSIFIED INFRACTIO   \n",
       "62398                                UNLICENSED OPERATOR   \n",
       "77080                                UNLICENSED OPERATOR   \n",
       "90664                     TRAFFIC,UNCLASSIFIED INFRACTIO   \n",
       "90695                     NY STATE LAWS,UNCLASSIFIED VIO   \n",
       "93117                     TRAFFIC,UNCLASSIFIED INFRACTIO   \n",
       "95040                     TRAFFIC,UNCLASSIFIED MISDEMEAN   \n",
       "\n",
       "                      OFNS_DESC LAW_CAT_CD   Latitude  Longitude  \n",
       "3087        ADMINISTRATIVE CODE          I  40.648867 -73.950822  \n",
       "4423   OTHER TRAFFIC INFRACTION          I  40.677615 -74.002745  \n",
       "4857   VEHICLE AND TRAFFIC LAWS          I  40.683774 -73.986996  \n",
       "6109           OTHER STATE LAWS          I  40.659958 -73.994880  \n",
       "7729   OTHER TRAFFIC INFRACTION          I  40.632642 -74.012536  \n",
       "7824   OTHER TRAFFIC INFRACTION          I  40.648474 -74.006823  \n",
       "8382   OTHER TRAFFIC INFRACTION          I  40.621501 -74.026215  \n",
       "8658   VEHICLE AND TRAFFIC LAWS          I  40.674750 -73.997770  \n",
       "9526   OTHER TRAFFIC INFRACTION          I  40.676902 -73.900047  \n",
       "15185  OTHER TRAFFIC INFRACTION          I  40.674739 -74.000286  \n",
       "16602  VEHICLE AND TRAFFIC LAWS          I  40.675790 -74.001397  \n",
       "20046  OTHER TRAFFIC INFRACTION          I  40.678584 -74.003571  \n",
       "21770  OTHER TRAFFIC INFRACTION          I  40.622807 -74.028351  \n",
       "38210  OTHER TRAFFIC INFRACTION          I  40.576283 -73.987957  \n",
       "41177  OTHER TRAFFIC INFRACTION          I  40.664162 -73.946817  \n",
       "42939  OTHER TRAFFIC INFRACTION          I  40.726965 -73.953117  \n",
       "44782  OTHER TRAFFIC INFRACTION          I  40.655718 -73.945259  \n",
       "48833  OTHER TRAFFIC INFRACTION          I  40.676270 -73.892629  \n",
       "54637        MOVING INFRACTIONS          I  40.694075 -73.947496  \n",
       "55022  OTHER TRAFFIC INFRACTION          I  40.594063 -73.960869  \n",
       "61161  OTHER TRAFFIC INFRACTION          I  40.637226 -73.932736  \n",
       "62398        MOVING INFRACTIONS          I  40.658513 -73.914693  \n",
       "77080        MOVING INFRACTIONS          I  40.686952 -73.947531  \n",
       "90664  OTHER TRAFFIC INFRACTION          I  40.681601 -74.007926  \n",
       "90695          OTHER STATE LAWS          I  40.688624 -73.989170  \n",
       "93117  OTHER TRAFFIC INFRACTION          I  40.636115 -74.022913  \n",
       "95040  VEHICLE AND TRAFFIC LAWS          I  40.678266 -74.002230  "
      ],
      "text/html": "<div>\n<style scoped>\n    .dataframe tbody tr th:only-of-type {\n        vertical-align: middle;\n    }\n\n    .dataframe tbody tr th {\n        vertical-align: top;\n    }\n\n    .dataframe thead th {\n        text-align: right;\n    }\n</style>\n<table border=\"1\" class=\"dataframe\">\n  <thead>\n    <tr style=\"text-align: right;\">\n      <th></th>\n      <th>PD_DESC</th>\n      <th>OFNS_DESC</th>\n      <th>LAW_CAT_CD</th>\n      <th>Latitude</th>\n      <th>Longitude</th>\n    </tr>\n  </thead>\n  <tbody>\n    <tr>\n      <th>3087</th>\n      <td>ADM.CODE,UNCLASSIFIED VIOLATIO</td>\n      <td>ADMINISTRATIVE CODE</td>\n      <td>I</td>\n      <td>40.648867</td>\n      <td>-73.950822</td>\n    </tr>\n    <tr>\n      <th>4423</th>\n      <td>IMPROPER LIGHTS</td>\n      <td>OTHER TRAFFIC INFRACTION</td>\n      <td>I</td>\n      <td>40.677615</td>\n      <td>-74.002745</td>\n    </tr>\n    <tr>\n      <th>4857</th>\n      <td>TRAFFIC,UNCLASSIFIED MISDEMEAN</td>\n      <td>VEHICLE AND TRAFFIC LAWS</td>\n      <td>I</td>\n      <td>40.683774</td>\n      <td>-73.986996</td>\n    </tr>\n    <tr>\n      <th>6109</th>\n      <td>NY STATE LAWS,UNCLASSIFIED VIO</td>\n      <td>OTHER STATE LAWS</td>\n      <td>I</td>\n      <td>40.659958</td>\n      <td>-73.994880</td>\n    </tr>\n    <tr>\n      <th>7729</th>\n      <td>FAIL TO SIGNAL</td>\n      <td>OTHER TRAFFIC INFRACTION</td>\n      <td>I</td>\n      <td>40.632642</td>\n      <td>-74.012536</td>\n    </tr>\n    <tr>\n      <th>7824</th>\n      <td>TRAFFIC,UNCLASSIFIED INFRACTIO</td>\n      <td>OTHER TRAFFIC INFRACTION</td>\n      <td>I</td>\n      <td>40.648474</td>\n      <td>-74.006823</td>\n    </tr>\n    <tr>\n      <th>8382</th>\n      <td>TRAFFIC,UNCLASSIFIED INFRACTIO</td>\n      <td>OTHER TRAFFIC INFRACTION</td>\n      <td>I</td>\n      <td>40.621501</td>\n      <td>-74.026215</td>\n    </tr>\n    <tr>\n      <th>8658</th>\n      <td>TRAFFIC,UNCLASSIFIED MISDEMEAN</td>\n      <td>VEHICLE AND TRAFFIC LAWS</td>\n      <td>I</td>\n      <td>40.674750</td>\n      <td>-73.997770</td>\n    </tr>\n    <tr>\n      <th>9526</th>\n      <td>TRAFFIC,UNCLASSIFIED INFRACTIO</td>\n      <td>OTHER TRAFFIC INFRACTION</td>\n      <td>I</td>\n      <td>40.676902</td>\n      <td>-73.900047</td>\n    </tr>\n    <tr>\n      <th>15185</th>\n      <td>TRAFFIC,UNCLASSIFIED INFRACTIO</td>\n      <td>OTHER TRAFFIC INFRACTION</td>\n      <td>I</td>\n      <td>40.674739</td>\n      <td>-74.000286</td>\n    </tr>\n    <tr>\n      <th>16602</th>\n      <td>TRAFFIC,UNCLASSIFIED MISDEMEAN</td>\n      <td>VEHICLE AND TRAFFIC LAWS</td>\n      <td>I</td>\n      <td>40.675790</td>\n      <td>-74.001397</td>\n    </tr>\n    <tr>\n      <th>20046</th>\n      <td>IMPROPER LIGHTS</td>\n      <td>OTHER TRAFFIC INFRACTION</td>\n      <td>I</td>\n      <td>40.678584</td>\n      <td>-74.003571</td>\n    </tr>\n    <tr>\n      <th>21770</th>\n      <td>TRAFFIC,UNCLASSIFIED INFRACTIO</td>\n      <td>OTHER TRAFFIC INFRACTION</td>\n      <td>I</td>\n      <td>40.622807</td>\n      <td>-74.028351</td>\n    </tr>\n    <tr>\n      <th>38210</th>\n      <td>LEAVING THE SCENE / PROPERTY DAMAGE / INJURED ...</td>\n      <td>OTHER TRAFFIC INFRACTION</td>\n      <td>I</td>\n      <td>40.576283</td>\n      <td>-73.987957</td>\n    </tr>\n    <tr>\n      <th>41177</th>\n      <td>LEAVING THE SCENE / PROPERTY DAMAGE / INJURED ...</td>\n      <td>OTHER TRAFFIC INFRACTION</td>\n      <td>I</td>\n      <td>40.664162</td>\n      <td>-73.946817</td>\n    </tr>\n    <tr>\n      <th>42939</th>\n      <td>LEAVING THE SCENE / PROPERTY DAMAGE / INJURED ...</td>\n      <td>OTHER TRAFFIC INFRACTION</td>\n      <td>I</td>\n      <td>40.726965</td>\n      <td>-73.953117</td>\n    </tr>\n    <tr>\n      <th>44782</th>\n      <td>TRAFFIC,UNCLASSIFIED INFRACTIO</td>\n      <td>OTHER TRAFFIC INFRACTION</td>\n      <td>I</td>\n      <td>40.655718</td>\n      <td>-73.945259</td>\n    </tr>\n    <tr>\n      <th>48833</th>\n      <td>TRAFFIC,UNCLASSIFIED INFRACTIO</td>\n      <td>OTHER TRAFFIC INFRACTION</td>\n      <td>I</td>\n      <td>40.676270</td>\n      <td>-73.892629</td>\n    </tr>\n    <tr>\n      <th>54637</th>\n      <td>UNLICENSED OPERATOR</td>\n      <td>MOVING INFRACTIONS</td>\n      <td>I</td>\n      <td>40.694075</td>\n      <td>-73.947496</td>\n    </tr>\n    <tr>\n      <th>55022</th>\n      <td>LEAVING THE SCENE / PROPERTY DAMAGE / INJURED ...</td>\n      <td>OTHER TRAFFIC INFRACTION</td>\n      <td>I</td>\n      <td>40.594063</td>\n      <td>-73.960869</td>\n    </tr>\n    <tr>\n      <th>61161</th>\n      <td>TRAFFIC,UNCLASSIFIED INFRACTIO</td>\n      <td>OTHER TRAFFIC INFRACTION</td>\n      <td>I</td>\n      <td>40.637226</td>\n      <td>-73.932736</td>\n    </tr>\n    <tr>\n      <th>62398</th>\n      <td>UNLICENSED OPERATOR</td>\n      <td>MOVING INFRACTIONS</td>\n      <td>I</td>\n      <td>40.658513</td>\n      <td>-73.914693</td>\n    </tr>\n    <tr>\n      <th>77080</th>\n      <td>UNLICENSED OPERATOR</td>\n      <td>MOVING INFRACTIONS</td>\n      <td>I</td>\n      <td>40.686952</td>\n      <td>-73.947531</td>\n    </tr>\n    <tr>\n      <th>90664</th>\n      <td>TRAFFIC,UNCLASSIFIED INFRACTIO</td>\n      <td>OTHER TRAFFIC INFRACTION</td>\n      <td>I</td>\n      <td>40.681601</td>\n      <td>-74.007926</td>\n    </tr>\n    <tr>\n      <th>90695</th>\n      <td>NY STATE LAWS,UNCLASSIFIED VIO</td>\n      <td>OTHER STATE LAWS</td>\n      <td>I</td>\n      <td>40.688624</td>\n      <td>-73.989170</td>\n    </tr>\n    <tr>\n      <th>93117</th>\n      <td>TRAFFIC,UNCLASSIFIED INFRACTIO</td>\n      <td>OTHER TRAFFIC INFRACTION</td>\n      <td>I</td>\n      <td>40.636115</td>\n      <td>-74.022913</td>\n    </tr>\n    <tr>\n      <th>95040</th>\n      <td>TRAFFIC,UNCLASSIFIED MISDEMEAN</td>\n      <td>VEHICLE AND TRAFFIC LAWS</td>\n      <td>I</td>\n      <td>40.678266</td>\n      <td>-74.002230</td>\n    </tr>\n  </tbody>\n</table>\n</div>"
     },
     "metadata": {},
     "execution_count": 8
    }
   ],
   "source": [
    "arrests[arrests['LAW_CAT_CD'] == 'I']"
   ]
  },
  {
   "source": [
    "Show some misdemeanor"
   ],
   "cell_type": "markdown",
   "metadata": {}
  },
  {
   "cell_type": "code",
   "execution_count": 9,
   "metadata": {},
   "outputs": [
    {
     "output_type": "execute_result",
     "data": {
      "text/plain": [
       "                               PD_DESC                       OFNS_DESC  \\\n",
       "5       LARCENY,PETIT FROM OPEN AREAS,                   PETIT LARCENY   \n",
       "6                            ASSAULT 3    ASSAULT 3 & RELATED OFFENSES   \n",
       "10      TRAFFIC,UNCLASSIFIED INFRACTIO        OTHER TRAFFIC INFRACTION   \n",
       "22      IMPERSONATION 2, PUBLIC SERVAN                          FRAUDS   \n",
       "40      TRAFFIC,UNCLASSIFIED MISDEMEAN        VEHICLE AND TRAFFIC LAWS   \n",
       "...                                ...                             ...   \n",
       "103322  PUBLIC ADMINISTATION,UNCLASS M  OFFENSES AGAINST PUBLIC ADMINI   \n",
       "103329             OBSTR BREATH/CIRCUL    ASSAULT 3 & RELATED OFFENSES   \n",
       "103341                       ASSAULT 3    ASSAULT 3 & RELATED OFFENSES   \n",
       "103353                RESISTING ARREST  OFFENSES AGAINST PUBLIC ADMINI   \n",
       "103354  LARCENY,PETIT FROM OPEN AREAS,                   PETIT LARCENY   \n",
       "\n",
       "       LAW_CAT_CD   Latitude  Longitude  \n",
       "5               M  40.609419 -73.929692  \n",
       "6               M  40.707934 -73.928931  \n",
       "10              M  40.579208 -73.981941  \n",
       "22              M  40.703414 -73.964743  \n",
       "40              M  40.623691 -74.027992  \n",
       "...           ...        ...        ...  \n",
       "103322          M  40.653931 -73.928665  \n",
       "103329          M  40.634480 -74.030976  \n",
       "103341          M  40.641280 -73.956395  \n",
       "103353          M  40.648997 -74.015249  \n",
       "103354          M  40.579956 -73.973232  \n",
       "\n",
       "[12951 rows x 5 columns]"
      ],
      "text/html": "<div>\n<style scoped>\n    .dataframe tbody tr th:only-of-type {\n        vertical-align: middle;\n    }\n\n    .dataframe tbody tr th {\n        vertical-align: top;\n    }\n\n    .dataframe thead th {\n        text-align: right;\n    }\n</style>\n<table border=\"1\" class=\"dataframe\">\n  <thead>\n    <tr style=\"text-align: right;\">\n      <th></th>\n      <th>PD_DESC</th>\n      <th>OFNS_DESC</th>\n      <th>LAW_CAT_CD</th>\n      <th>Latitude</th>\n      <th>Longitude</th>\n    </tr>\n  </thead>\n  <tbody>\n    <tr>\n      <th>5</th>\n      <td>LARCENY,PETIT FROM OPEN AREAS,</td>\n      <td>PETIT LARCENY</td>\n      <td>M</td>\n      <td>40.609419</td>\n      <td>-73.929692</td>\n    </tr>\n    <tr>\n      <th>6</th>\n      <td>ASSAULT 3</td>\n      <td>ASSAULT 3 &amp; RELATED OFFENSES</td>\n      <td>M</td>\n      <td>40.707934</td>\n      <td>-73.928931</td>\n    </tr>\n    <tr>\n      <th>10</th>\n      <td>TRAFFIC,UNCLASSIFIED INFRACTIO</td>\n      <td>OTHER TRAFFIC INFRACTION</td>\n      <td>M</td>\n      <td>40.579208</td>\n      <td>-73.981941</td>\n    </tr>\n    <tr>\n      <th>22</th>\n      <td>IMPERSONATION 2, PUBLIC SERVAN</td>\n      <td>FRAUDS</td>\n      <td>M</td>\n      <td>40.703414</td>\n      <td>-73.964743</td>\n    </tr>\n    <tr>\n      <th>40</th>\n      <td>TRAFFIC,UNCLASSIFIED MISDEMEAN</td>\n      <td>VEHICLE AND TRAFFIC LAWS</td>\n      <td>M</td>\n      <td>40.623691</td>\n      <td>-74.027992</td>\n    </tr>\n    <tr>\n      <th>...</th>\n      <td>...</td>\n      <td>...</td>\n      <td>...</td>\n      <td>...</td>\n      <td>...</td>\n    </tr>\n    <tr>\n      <th>103322</th>\n      <td>PUBLIC ADMINISTATION,UNCLASS M</td>\n      <td>OFFENSES AGAINST PUBLIC ADMINI</td>\n      <td>M</td>\n      <td>40.653931</td>\n      <td>-73.928665</td>\n    </tr>\n    <tr>\n      <th>103329</th>\n      <td>OBSTR BREATH/CIRCUL</td>\n      <td>ASSAULT 3 &amp; RELATED OFFENSES</td>\n      <td>M</td>\n      <td>40.634480</td>\n      <td>-74.030976</td>\n    </tr>\n    <tr>\n      <th>103341</th>\n      <td>ASSAULT 3</td>\n      <td>ASSAULT 3 &amp; RELATED OFFENSES</td>\n      <td>M</td>\n      <td>40.641280</td>\n      <td>-73.956395</td>\n    </tr>\n    <tr>\n      <th>103353</th>\n      <td>RESISTING ARREST</td>\n      <td>OFFENSES AGAINST PUBLIC ADMINI</td>\n      <td>M</td>\n      <td>40.648997</td>\n      <td>-74.015249</td>\n    </tr>\n    <tr>\n      <th>103354</th>\n      <td>LARCENY,PETIT FROM OPEN AREAS,</td>\n      <td>PETIT LARCENY</td>\n      <td>M</td>\n      <td>40.579956</td>\n      <td>-73.973232</td>\n    </tr>\n  </tbody>\n</table>\n<p>12951 rows × 5 columns</p>\n</div>"
     },
     "metadata": {},
     "execution_count": 9
    }
   ],
   "source": [
    "arrests[arrests['LAW_CAT_CD'] == 'M']"
   ]
  },
  {
   "source": [
    "Show some felonies"
   ],
   "cell_type": "markdown",
   "metadata": {}
  },
  {
   "cell_type": "code",
   "execution_count": 10,
   "metadata": {},
   "outputs": [
    {
     "output_type": "execute_result",
     "data": {
      "text/plain": [
       "                               PD_DESC                OFNS_DESC LAW_CAT_CD  \\\n",
       "0       FORGERY,ETC.,UNCLASSIFIED-FELO                  FORGERY          F   \n",
       "7                             SODOMY 1               SEX CRIMES          F   \n",
       "18            ASSAULT 2,1,UNCLASSIFIED           FELONY ASSAULT          F   \n",
       "20                   STRANGULATION 1ST           FELONY ASSAULT          F   \n",
       "29      ROBBERY,OPEN AREA UNCLASSIFIED                  ROBBERY          F   \n",
       "...                                ...                      ...        ...   \n",
       "103313       MAKING TERRORISTIC THREAT  MISCELLANEOUS PENAL LAW          F   \n",
       "103325        ASSAULT 2,1,UNCLASSIFIED           FELONY ASSAULT          F   \n",
       "103330    AGGRAVATED CRIMINAL CONTEMPT  MISCELLANEOUS PENAL LAW          F   \n",
       "103338   BURGLARY,UNCLASSIFIED,UNKNOWN                 BURGLARY          F   \n",
       "103350        ASSAULT 2,1,UNCLASSIFIED           FELONY ASSAULT          F   \n",
       "\n",
       "         Latitude  Longitude  \n",
       "0       40.655693 -73.899409  \n",
       "7       40.674583 -73.930222  \n",
       "18      40.706290 -73.950350  \n",
       "20      40.596446 -73.936781  \n",
       "29      40.666540 -73.879325  \n",
       "...           ...        ...  \n",
       "103313  40.674600 -73.930575  \n",
       "103325  40.688489 -73.983782  \n",
       "103330  40.688743 -73.944987  \n",
       "103338  40.664162 -73.946817  \n",
       "103350  40.726965 -73.953117  \n",
       "\n",
       "[14597 rows x 5 columns]"
      ],
      "text/html": "<div>\n<style scoped>\n    .dataframe tbody tr th:only-of-type {\n        vertical-align: middle;\n    }\n\n    .dataframe tbody tr th {\n        vertical-align: top;\n    }\n\n    .dataframe thead th {\n        text-align: right;\n    }\n</style>\n<table border=\"1\" class=\"dataframe\">\n  <thead>\n    <tr style=\"text-align: right;\">\n      <th></th>\n      <th>PD_DESC</th>\n      <th>OFNS_DESC</th>\n      <th>LAW_CAT_CD</th>\n      <th>Latitude</th>\n      <th>Longitude</th>\n    </tr>\n  </thead>\n  <tbody>\n    <tr>\n      <th>0</th>\n      <td>FORGERY,ETC.,UNCLASSIFIED-FELO</td>\n      <td>FORGERY</td>\n      <td>F</td>\n      <td>40.655693</td>\n      <td>-73.899409</td>\n    </tr>\n    <tr>\n      <th>7</th>\n      <td>SODOMY 1</td>\n      <td>SEX CRIMES</td>\n      <td>F</td>\n      <td>40.674583</td>\n      <td>-73.930222</td>\n    </tr>\n    <tr>\n      <th>18</th>\n      <td>ASSAULT 2,1,UNCLASSIFIED</td>\n      <td>FELONY ASSAULT</td>\n      <td>F</td>\n      <td>40.706290</td>\n      <td>-73.950350</td>\n    </tr>\n    <tr>\n      <th>20</th>\n      <td>STRANGULATION 1ST</td>\n      <td>FELONY ASSAULT</td>\n      <td>F</td>\n      <td>40.596446</td>\n      <td>-73.936781</td>\n    </tr>\n    <tr>\n      <th>29</th>\n      <td>ROBBERY,OPEN AREA UNCLASSIFIED</td>\n      <td>ROBBERY</td>\n      <td>F</td>\n      <td>40.666540</td>\n      <td>-73.879325</td>\n    </tr>\n    <tr>\n      <th>...</th>\n      <td>...</td>\n      <td>...</td>\n      <td>...</td>\n      <td>...</td>\n      <td>...</td>\n    </tr>\n    <tr>\n      <th>103313</th>\n      <td>MAKING TERRORISTIC THREAT</td>\n      <td>MISCELLANEOUS PENAL LAW</td>\n      <td>F</td>\n      <td>40.674600</td>\n      <td>-73.930575</td>\n    </tr>\n    <tr>\n      <th>103325</th>\n      <td>ASSAULT 2,1,UNCLASSIFIED</td>\n      <td>FELONY ASSAULT</td>\n      <td>F</td>\n      <td>40.688489</td>\n      <td>-73.983782</td>\n    </tr>\n    <tr>\n      <th>103330</th>\n      <td>AGGRAVATED CRIMINAL CONTEMPT</td>\n      <td>MISCELLANEOUS PENAL LAW</td>\n      <td>F</td>\n      <td>40.688743</td>\n      <td>-73.944987</td>\n    </tr>\n    <tr>\n      <th>103338</th>\n      <td>BURGLARY,UNCLASSIFIED,UNKNOWN</td>\n      <td>BURGLARY</td>\n      <td>F</td>\n      <td>40.664162</td>\n      <td>-73.946817</td>\n    </tr>\n    <tr>\n      <th>103350</th>\n      <td>ASSAULT 2,1,UNCLASSIFIED</td>\n      <td>FELONY ASSAULT</td>\n      <td>F</td>\n      <td>40.726965</td>\n      <td>-73.953117</td>\n    </tr>\n  </tbody>\n</table>\n<p>14597 rows × 5 columns</p>\n</div>"
     },
     "metadata": {},
     "execution_count": 10
    }
   ],
   "source": [
    "arrests[arrests['LAW_CAT_CD'] == 'F']"
   ]
  },
  {
   "cell_type": "code",
   "execution_count": 11,
   "metadata": {},
   "outputs": [
    {
     "output_type": "execute_result",
     "data": {
      "text/plain": [
       "                               PD_DESC                       OFNS_DESC  \\\n",
       "0       FORGERY,ETC.,UNCLASSIFIED-FELO                         FORGERY   \n",
       "5       LARCENY,PETIT FROM OPEN AREAS,                   PETIT LARCENY   \n",
       "6                            ASSAULT 3    ASSAULT 3 & RELATED OFFENSES   \n",
       "7                             SODOMY 1                      SEX CRIMES   \n",
       "10      TRAFFIC,UNCLASSIFIED INFRACTIO        OTHER TRAFFIC INFRACTION   \n",
       "...                                ...                             ...   \n",
       "103338   BURGLARY,UNCLASSIFIED,UNKNOWN                        BURGLARY   \n",
       "103341                       ASSAULT 3    ASSAULT 3 & RELATED OFFENSES   \n",
       "103350        ASSAULT 2,1,UNCLASSIFIED                  FELONY ASSAULT   \n",
       "103353                RESISTING ARREST  OFFENSES AGAINST PUBLIC ADMINI   \n",
       "103354  LARCENY,PETIT FROM OPEN AREAS,                   PETIT LARCENY   \n",
       "\n",
       "       LAW_CAT_CD   Latitude  Longitude  Weight  \n",
       "0               F  40.655693 -73.899409       5  \n",
       "5               M  40.609419 -73.929692       2  \n",
       "6               M  40.707934 -73.928931       2  \n",
       "7               F  40.674583 -73.930222       5  \n",
       "10              M  40.579208 -73.981941       2  \n",
       "...           ...        ...        ...     ...  \n",
       "103338          F  40.664162 -73.946817       5  \n",
       "103341          M  40.641280 -73.956395       2  \n",
       "103350          F  40.726965 -73.953117       5  \n",
       "103353          M  40.648997 -74.015249       2  \n",
       "103354          M  40.579956 -73.973232       2  \n",
       "\n",
       "[27962 rows x 6 columns]"
      ],
      "text/html": "<div>\n<style scoped>\n    .dataframe tbody tr th:only-of-type {\n        vertical-align: middle;\n    }\n\n    .dataframe tbody tr th {\n        vertical-align: top;\n    }\n\n    .dataframe thead th {\n        text-align: right;\n    }\n</style>\n<table border=\"1\" class=\"dataframe\">\n  <thead>\n    <tr style=\"text-align: right;\">\n      <th></th>\n      <th>PD_DESC</th>\n      <th>OFNS_DESC</th>\n      <th>LAW_CAT_CD</th>\n      <th>Latitude</th>\n      <th>Longitude</th>\n      <th>Weight</th>\n    </tr>\n  </thead>\n  <tbody>\n    <tr>\n      <th>0</th>\n      <td>FORGERY,ETC.,UNCLASSIFIED-FELO</td>\n      <td>FORGERY</td>\n      <td>F</td>\n      <td>40.655693</td>\n      <td>-73.899409</td>\n      <td>5</td>\n    </tr>\n    <tr>\n      <th>5</th>\n      <td>LARCENY,PETIT FROM OPEN AREAS,</td>\n      <td>PETIT LARCENY</td>\n      <td>M</td>\n      <td>40.609419</td>\n      <td>-73.929692</td>\n      <td>2</td>\n    </tr>\n    <tr>\n      <th>6</th>\n      <td>ASSAULT 3</td>\n      <td>ASSAULT 3 &amp; RELATED OFFENSES</td>\n      <td>M</td>\n      <td>40.707934</td>\n      <td>-73.928931</td>\n      <td>2</td>\n    </tr>\n    <tr>\n      <th>7</th>\n      <td>SODOMY 1</td>\n      <td>SEX CRIMES</td>\n      <td>F</td>\n      <td>40.674583</td>\n      <td>-73.930222</td>\n      <td>5</td>\n    </tr>\n    <tr>\n      <th>10</th>\n      <td>TRAFFIC,UNCLASSIFIED INFRACTIO</td>\n      <td>OTHER TRAFFIC INFRACTION</td>\n      <td>M</td>\n      <td>40.579208</td>\n      <td>-73.981941</td>\n      <td>2</td>\n    </tr>\n    <tr>\n      <th>...</th>\n      <td>...</td>\n      <td>...</td>\n      <td>...</td>\n      <td>...</td>\n      <td>...</td>\n      <td>...</td>\n    </tr>\n    <tr>\n      <th>103338</th>\n      <td>BURGLARY,UNCLASSIFIED,UNKNOWN</td>\n      <td>BURGLARY</td>\n      <td>F</td>\n      <td>40.664162</td>\n      <td>-73.946817</td>\n      <td>5</td>\n    </tr>\n    <tr>\n      <th>103341</th>\n      <td>ASSAULT 3</td>\n      <td>ASSAULT 3 &amp; RELATED OFFENSES</td>\n      <td>M</td>\n      <td>40.641280</td>\n      <td>-73.956395</td>\n      <td>2</td>\n    </tr>\n    <tr>\n      <th>103350</th>\n      <td>ASSAULT 2,1,UNCLASSIFIED</td>\n      <td>FELONY ASSAULT</td>\n      <td>F</td>\n      <td>40.726965</td>\n      <td>-73.953117</td>\n      <td>5</td>\n    </tr>\n    <tr>\n      <th>103353</th>\n      <td>RESISTING ARREST</td>\n      <td>OFFENSES AGAINST PUBLIC ADMINI</td>\n      <td>M</td>\n      <td>40.648997</td>\n      <td>-74.015249</td>\n      <td>2</td>\n    </tr>\n    <tr>\n      <th>103354</th>\n      <td>LARCENY,PETIT FROM OPEN AREAS,</td>\n      <td>PETIT LARCENY</td>\n      <td>M</td>\n      <td>40.579956</td>\n      <td>-73.973232</td>\n      <td>2</td>\n    </tr>\n  </tbody>\n</table>\n<p>27962 rows × 6 columns</p>\n</div>"
     },
     "metadata": {},
     "execution_count": 11
    }
   ],
   "source": [
    "from collections import defaultdict\n",
    "\n",
    "weigths = defaultdict(lambda : weigth_na)\n",
    "weigths['V'] = weigth_violation\n",
    "weigths['M'] = weigth_misdemeanor\n",
    "weigths['I'] = weigth_infraction\n",
    "weigths['F'] = weigth_felony\n",
    "\n",
    "arrests[\"Weight\"] = arrests.apply(lambda row: weigths[row[\"LAW_CAT_CD\"]], axis=1)\n",
    "arrests"
   ]
  },
  {
   "cell_type": "code",
   "execution_count": 12,
   "metadata": {},
   "outputs": [
    {
     "output_type": "execute_result",
     "data": {
      "text/plain": [
       "         Latitude  Longitude  Weight\n",
       "0       40.655693 -73.899409       5\n",
       "5       40.609419 -73.929692       2\n",
       "6       40.707934 -73.928931       2\n",
       "7       40.674583 -73.930222       5\n",
       "10      40.579208 -73.981941       2\n",
       "...           ...        ...     ...\n",
       "103338  40.664162 -73.946817       5\n",
       "103341  40.641280 -73.956395       2\n",
       "103350  40.726965 -73.953117       5\n",
       "103353  40.648997 -74.015249       2\n",
       "103354  40.579956 -73.973232       2\n",
       "\n",
       "[27962 rows x 3 columns]"
      ],
      "text/html": "<div>\n<style scoped>\n    .dataframe tbody tr th:only-of-type {\n        vertical-align: middle;\n    }\n\n    .dataframe tbody tr th {\n        vertical-align: top;\n    }\n\n    .dataframe thead th {\n        text-align: right;\n    }\n</style>\n<table border=\"1\" class=\"dataframe\">\n  <thead>\n    <tr style=\"text-align: right;\">\n      <th></th>\n      <th>Latitude</th>\n      <th>Longitude</th>\n      <th>Weight</th>\n    </tr>\n  </thead>\n  <tbody>\n    <tr>\n      <th>0</th>\n      <td>40.655693</td>\n      <td>-73.899409</td>\n      <td>5</td>\n    </tr>\n    <tr>\n      <th>5</th>\n      <td>40.609419</td>\n      <td>-73.929692</td>\n      <td>2</td>\n    </tr>\n    <tr>\n      <th>6</th>\n      <td>40.707934</td>\n      <td>-73.928931</td>\n      <td>2</td>\n    </tr>\n    <tr>\n      <th>7</th>\n      <td>40.674583</td>\n      <td>-73.930222</td>\n      <td>5</td>\n    </tr>\n    <tr>\n      <th>10</th>\n      <td>40.579208</td>\n      <td>-73.981941</td>\n      <td>2</td>\n    </tr>\n    <tr>\n      <th>...</th>\n      <td>...</td>\n      <td>...</td>\n      <td>...</td>\n    </tr>\n    <tr>\n      <th>103338</th>\n      <td>40.664162</td>\n      <td>-73.946817</td>\n      <td>5</td>\n    </tr>\n    <tr>\n      <th>103341</th>\n      <td>40.641280</td>\n      <td>-73.956395</td>\n      <td>2</td>\n    </tr>\n    <tr>\n      <th>103350</th>\n      <td>40.726965</td>\n      <td>-73.953117</td>\n      <td>5</td>\n    </tr>\n    <tr>\n      <th>103353</th>\n      <td>40.648997</td>\n      <td>-74.015249</td>\n      <td>2</td>\n    </tr>\n    <tr>\n      <th>103354</th>\n      <td>40.579956</td>\n      <td>-73.973232</td>\n      <td>2</td>\n    </tr>\n  </tbody>\n</table>\n<p>27962 rows × 3 columns</p>\n</div>"
     },
     "metadata": {},
     "execution_count": 12
    }
   ],
   "source": [
    "arrests.drop(columns=['PD_DESC','OFNS_DESC','LAW_CAT_CD'], inplace=True)\n",
    "arrests"
   ]
  },
  {
   "cell_type": "code",
   "execution_count": 13,
   "metadata": {},
   "outputs": [
    {
     "output_type": "execute_result",
     "data": {
      "text/plain": [
       "      INCIDENT_KEY  OCCUR_DATE OCCUR_TIME       BORO  PRECINCT  \\\n",
       "0        216972672  08/24/2020   15:11:00      BRONX        44   \n",
       "1        217953750  09/16/2020   16:50:00  MANHATTAN        33   \n",
       "2        217540562  09/07/2020   02:49:00   BROOKLYN        71   \n",
       "3        217773056  09/12/2020   00:40:00   BROOKLYN        75   \n",
       "4        218560117  09/30/2020   21:07:00   BROOKLYN        75   \n",
       "...            ...         ...        ...        ...       ...   \n",
       "1496     216360325  08/09/2020   22:40:00   BROOKLYN        79   \n",
       "1497     213748379  06/01/2020   19:14:00   BROOKLYN        83   \n",
       "1498     216927396  08/22/2020   06:00:00     QUEENS       113   \n",
       "1499     212640530  05/02/2020   19:50:00     QUEENS       114   \n",
       "1500     213099073  05/14/2020   01:03:00     QUEENS       100   \n",
       "\n",
       "      JURISDICTION_CODE              LOCATION_DESC  STATISTICAL_MURDER_FLAG  \\\n",
       "0                     0                        NaN                    False   \n",
       "1                     0                        NaN                    False   \n",
       "2                     0                        NaN                    False   \n",
       "3                     0                        NaN                    False   \n",
       "4                     2  MULTI DWELL - PUBLIC HOUS                    False   \n",
       "...                 ...                        ...                      ...   \n",
       "1496                  2  MULTI DWELL - PUBLIC HOUS                    False   \n",
       "1497                  0                        NaN                    False   \n",
       "1498                  0                        NaN                    False   \n",
       "1499                  0                        NaN                    False   \n",
       "1500                  0                        NaN                     True   \n",
       "\n",
       "     PERP_AGE_GROUP PERP_SEX       PERP_RACE VIC_AGE_GROUP VIC_SEX  \\\n",
       "0               NaN      NaN             NaN         18-24       M   \n",
       "1             25-44        M  WHITE HISPANIC         25-44       F   \n",
       "2               <18        M           BLACK         45-64       F   \n",
       "3               NaN      NaN             NaN         25-44       M   \n",
       "4               NaN      NaN             NaN         25-44       M   \n",
       "...             ...      ...             ...           ...     ...   \n",
       "1496            NaN      NaN             NaN         18-24       M   \n",
       "1497          18-24        M           BLACK         18-24       M   \n",
       "1498            NaN      NaN             NaN         25-44       M   \n",
       "1499            NaN      NaN             NaN         18-24       M   \n",
       "1500          25-44        M           BLACK         18-24       M   \n",
       "\n",
       "            VIC_RACE  X_COORD_CD  Y_COORD_CD   Latitude  Longitude  \\\n",
       "0              BLACK     1004279      244490  40.837729 -73.927618   \n",
       "1     WHITE HISPANIC      999855      244888  40.838831 -73.943605   \n",
       "2              BLACK      997889      182027  40.666297 -73.950838   \n",
       "3              BLACK     1015238      180730  40.662693 -73.888307   \n",
       "4              BLACK     1019084      183993  40.671635 -73.874428   \n",
       "...              ...         ...         ...        ...        ...   \n",
       "1496           BLACK      995619      190846  40.690506 -73.959006   \n",
       "1497           BLACK     1006880      190544  40.689655 -73.918400   \n",
       "1498           BLACK     1051329      196646  40.706179 -73.758061   \n",
       "1499  WHITE HISPANIC     1009645      213978  40.753968 -73.908341   \n",
       "1500           BLACK     1036176      153315  40.587347 -73.813049   \n",
       "\n",
       "                           New Georeferenced Column  \n",
       "0      POINT (-73.92761826599997 40.83772938900006)  \n",
       "1      POINT (-73.94360531399997 40.83883070900004)  \n",
       "2      POINT (-73.95083788699996 40.66629650100003)  \n",
       "3      POINT (-73.88830715999995 40.66269280500006)  \n",
       "4     POINT (-73.87442765599997 40.671634710000035)  \n",
       "...                                             ...  \n",
       "1496   POINT (-73.95900552099994 40.69050586900005)  \n",
       "1497  POINT (-73.91840006999998 40.689655320000035)  \n",
       "1498   POINT (-73.75806147399999 40.70617856900003)  \n",
       "1499  POINT (-73.90834136499996 40.753968462000046)  \n",
       "1500   POINT (-73.81304853899996 40.58734650400004)  \n",
       "\n",
       "[1501 rows x 19 columns]"
      ],
      "text/html": "<div>\n<style scoped>\n    .dataframe tbody tr th:only-of-type {\n        vertical-align: middle;\n    }\n\n    .dataframe tbody tr th {\n        vertical-align: top;\n    }\n\n    .dataframe thead th {\n        text-align: right;\n    }\n</style>\n<table border=\"1\" class=\"dataframe\">\n  <thead>\n    <tr style=\"text-align: right;\">\n      <th></th>\n      <th>INCIDENT_KEY</th>\n      <th>OCCUR_DATE</th>\n      <th>OCCUR_TIME</th>\n      <th>BORO</th>\n      <th>PRECINCT</th>\n      <th>JURISDICTION_CODE</th>\n      <th>LOCATION_DESC</th>\n      <th>STATISTICAL_MURDER_FLAG</th>\n      <th>PERP_AGE_GROUP</th>\n      <th>PERP_SEX</th>\n      <th>PERP_RACE</th>\n      <th>VIC_AGE_GROUP</th>\n      <th>VIC_SEX</th>\n      <th>VIC_RACE</th>\n      <th>X_COORD_CD</th>\n      <th>Y_COORD_CD</th>\n      <th>Latitude</th>\n      <th>Longitude</th>\n      <th>New Georeferenced Column</th>\n    </tr>\n  </thead>\n  <tbody>\n    <tr>\n      <th>0</th>\n      <td>216972672</td>\n      <td>08/24/2020</td>\n      <td>15:11:00</td>\n      <td>BRONX</td>\n      <td>44</td>\n      <td>0</td>\n      <td>NaN</td>\n      <td>False</td>\n      <td>NaN</td>\n      <td>NaN</td>\n      <td>NaN</td>\n      <td>18-24</td>\n      <td>M</td>\n      <td>BLACK</td>\n      <td>1004279</td>\n      <td>244490</td>\n      <td>40.837729</td>\n      <td>-73.927618</td>\n      <td>POINT (-73.92761826599997 40.83772938900006)</td>\n    </tr>\n    <tr>\n      <th>1</th>\n      <td>217953750</td>\n      <td>09/16/2020</td>\n      <td>16:50:00</td>\n      <td>MANHATTAN</td>\n      <td>33</td>\n      <td>0</td>\n      <td>NaN</td>\n      <td>False</td>\n      <td>25-44</td>\n      <td>M</td>\n      <td>WHITE HISPANIC</td>\n      <td>25-44</td>\n      <td>F</td>\n      <td>WHITE HISPANIC</td>\n      <td>999855</td>\n      <td>244888</td>\n      <td>40.838831</td>\n      <td>-73.943605</td>\n      <td>POINT (-73.94360531399997 40.83883070900004)</td>\n    </tr>\n    <tr>\n      <th>2</th>\n      <td>217540562</td>\n      <td>09/07/2020</td>\n      <td>02:49:00</td>\n      <td>BROOKLYN</td>\n      <td>71</td>\n      <td>0</td>\n      <td>NaN</td>\n      <td>False</td>\n      <td>&lt;18</td>\n      <td>M</td>\n      <td>BLACK</td>\n      <td>45-64</td>\n      <td>F</td>\n      <td>BLACK</td>\n      <td>997889</td>\n      <td>182027</td>\n      <td>40.666297</td>\n      <td>-73.950838</td>\n      <td>POINT (-73.95083788699996 40.66629650100003)</td>\n    </tr>\n    <tr>\n      <th>3</th>\n      <td>217773056</td>\n      <td>09/12/2020</td>\n      <td>00:40:00</td>\n      <td>BROOKLYN</td>\n      <td>75</td>\n      <td>0</td>\n      <td>NaN</td>\n      <td>False</td>\n      <td>NaN</td>\n      <td>NaN</td>\n      <td>NaN</td>\n      <td>25-44</td>\n      <td>M</td>\n      <td>BLACK</td>\n      <td>1015238</td>\n      <td>180730</td>\n      <td>40.662693</td>\n      <td>-73.888307</td>\n      <td>POINT (-73.88830715999995 40.66269280500006)</td>\n    </tr>\n    <tr>\n      <th>4</th>\n      <td>218560117</td>\n      <td>09/30/2020</td>\n      <td>21:07:00</td>\n      <td>BROOKLYN</td>\n      <td>75</td>\n      <td>2</td>\n      <td>MULTI DWELL - PUBLIC HOUS</td>\n      <td>False</td>\n      <td>NaN</td>\n      <td>NaN</td>\n      <td>NaN</td>\n      <td>25-44</td>\n      <td>M</td>\n      <td>BLACK</td>\n      <td>1019084</td>\n      <td>183993</td>\n      <td>40.671635</td>\n      <td>-73.874428</td>\n      <td>POINT (-73.87442765599997 40.671634710000035)</td>\n    </tr>\n    <tr>\n      <th>...</th>\n      <td>...</td>\n      <td>...</td>\n      <td>...</td>\n      <td>...</td>\n      <td>...</td>\n      <td>...</td>\n      <td>...</td>\n      <td>...</td>\n      <td>...</td>\n      <td>...</td>\n      <td>...</td>\n      <td>...</td>\n      <td>...</td>\n      <td>...</td>\n      <td>...</td>\n      <td>...</td>\n      <td>...</td>\n      <td>...</td>\n      <td>...</td>\n    </tr>\n    <tr>\n      <th>1496</th>\n      <td>216360325</td>\n      <td>08/09/2020</td>\n      <td>22:40:00</td>\n      <td>BROOKLYN</td>\n      <td>79</td>\n      <td>2</td>\n      <td>MULTI DWELL - PUBLIC HOUS</td>\n      <td>False</td>\n      <td>NaN</td>\n      <td>NaN</td>\n      <td>NaN</td>\n      <td>18-24</td>\n      <td>M</td>\n      <td>BLACK</td>\n      <td>995619</td>\n      <td>190846</td>\n      <td>40.690506</td>\n      <td>-73.959006</td>\n      <td>POINT (-73.95900552099994 40.69050586900005)</td>\n    </tr>\n    <tr>\n      <th>1497</th>\n      <td>213748379</td>\n      <td>06/01/2020</td>\n      <td>19:14:00</td>\n      <td>BROOKLYN</td>\n      <td>83</td>\n      <td>0</td>\n      <td>NaN</td>\n      <td>False</td>\n      <td>18-24</td>\n      <td>M</td>\n      <td>BLACK</td>\n      <td>18-24</td>\n      <td>M</td>\n      <td>BLACK</td>\n      <td>1006880</td>\n      <td>190544</td>\n      <td>40.689655</td>\n      <td>-73.918400</td>\n      <td>POINT (-73.91840006999998 40.689655320000035)</td>\n    </tr>\n    <tr>\n      <th>1498</th>\n      <td>216927396</td>\n      <td>08/22/2020</td>\n      <td>06:00:00</td>\n      <td>QUEENS</td>\n      <td>113</td>\n      <td>0</td>\n      <td>NaN</td>\n      <td>False</td>\n      <td>NaN</td>\n      <td>NaN</td>\n      <td>NaN</td>\n      <td>25-44</td>\n      <td>M</td>\n      <td>BLACK</td>\n      <td>1051329</td>\n      <td>196646</td>\n      <td>40.706179</td>\n      <td>-73.758061</td>\n      <td>POINT (-73.75806147399999 40.70617856900003)</td>\n    </tr>\n    <tr>\n      <th>1499</th>\n      <td>212640530</td>\n      <td>05/02/2020</td>\n      <td>19:50:00</td>\n      <td>QUEENS</td>\n      <td>114</td>\n      <td>0</td>\n      <td>NaN</td>\n      <td>False</td>\n      <td>NaN</td>\n      <td>NaN</td>\n      <td>NaN</td>\n      <td>18-24</td>\n      <td>M</td>\n      <td>WHITE HISPANIC</td>\n      <td>1009645</td>\n      <td>213978</td>\n      <td>40.753968</td>\n      <td>-73.908341</td>\n      <td>POINT (-73.90834136499996 40.753968462000046)</td>\n    </tr>\n    <tr>\n      <th>1500</th>\n      <td>213099073</td>\n      <td>05/14/2020</td>\n      <td>01:03:00</td>\n      <td>QUEENS</td>\n      <td>100</td>\n      <td>0</td>\n      <td>NaN</td>\n      <td>True</td>\n      <td>25-44</td>\n      <td>M</td>\n      <td>BLACK</td>\n      <td>18-24</td>\n      <td>M</td>\n      <td>BLACK</td>\n      <td>1036176</td>\n      <td>153315</td>\n      <td>40.587347</td>\n      <td>-73.813049</td>\n      <td>POINT (-73.81304853899996 40.58734650400004)</td>\n    </tr>\n  </tbody>\n</table>\n<p>1501 rows × 19 columns</p>\n</div>"
     },
     "metadata": {},
     "execution_count": 13
    }
   ],
   "source": [
    "shootings = pd.read_csv('./../data/original/NYPD_Shooting_Incident_Data__Year_To_Date_.csv')\n",
    "shootings"
   ]
  },
  {
   "source": [
    "Filter out shootings which did not happen in Brooklyn (BROOKLYN)"
   ],
   "cell_type": "markdown",
   "metadata": {}
  },
  {
   "cell_type": "code",
   "execution_count": 14,
   "metadata": {},
   "outputs": [
    {
     "output_type": "execute_result",
     "data": {
      "text/plain": [
       "      INCIDENT_KEY  OCCUR_DATE OCCUR_TIME      BORO  PRECINCT  \\\n",
       "2        217540562  09/07/2020   02:49:00  BROOKLYN        71   \n",
       "3        217773056  09/12/2020   00:40:00  BROOKLYN        75   \n",
       "4        218560117  09/30/2020   21:07:00  BROOKLYN        75   \n",
       "8        218567380  09/30/2020   01:52:00  BROOKLYN        60   \n",
       "9        217594075  09/08/2020   22:40:00  BROOKLYN        79   \n",
       "...            ...         ...        ...       ...       ...   \n",
       "1490     214948388  07/05/2020   00:43:00  BROOKLYN        75   \n",
       "1493     211964521  04/11/2020   19:58:00  BROOKLYN        77   \n",
       "1495     214513455  06/23/2020   22:04:00  BROOKLYN        63   \n",
       "1496     216360325  08/09/2020   22:40:00  BROOKLYN        79   \n",
       "1497     213748379  06/01/2020   19:14:00  BROOKLYN        83   \n",
       "\n",
       "      JURISDICTION_CODE              LOCATION_DESC  STATISTICAL_MURDER_FLAG  \\\n",
       "2                     0                        NaN                    False   \n",
       "3                     0                        NaN                    False   \n",
       "4                     2  MULTI DWELL - PUBLIC HOUS                    False   \n",
       "8                     0            COMMERCIAL BLDG                    False   \n",
       "9                     2  MULTI DWELL - PUBLIC HOUS                    False   \n",
       "...                 ...                        ...                      ...   \n",
       "1490                  0                        NaN                     True   \n",
       "1493                  0                        NaN                     True   \n",
       "1495                  0                  PVT HOUSE                    False   \n",
       "1496                  2  MULTI DWELL - PUBLIC HOUS                    False   \n",
       "1497                  0                        NaN                    False   \n",
       "\n",
       "     PERP_AGE_GROUP PERP_SEX PERP_RACE VIC_AGE_GROUP VIC_SEX        VIC_RACE  \\\n",
       "2               <18        M     BLACK         45-64       F           BLACK   \n",
       "3               NaN      NaN       NaN         25-44       M           BLACK   \n",
       "4               NaN      NaN       NaN         25-44       M           BLACK   \n",
       "8               NaN      NaN       NaN         25-44       M         UNKNOWN   \n",
       "9               NaN      NaN       NaN         45-64       F  WHITE HISPANIC   \n",
       "...             ...      ...       ...           ...     ...             ...   \n",
       "1490            NaN      NaN       NaN         18-24       M  BLACK HISPANIC   \n",
       "1493            NaN      NaN       NaN         25-44       M           BLACK   \n",
       "1495            NaN      NaN       NaN         25-44       U           BLACK   \n",
       "1496            NaN      NaN       NaN         18-24       M           BLACK   \n",
       "1497          18-24        M     BLACK         18-24       M           BLACK   \n",
       "\n",
       "      X_COORD_CD  Y_COORD_CD   Latitude  Longitude  \\\n",
       "2         997889      182027  40.666297 -73.950838   \n",
       "3        1015238      180730  40.662693 -73.888307   \n",
       "4        1019084      183993  40.671635 -73.874428   \n",
       "8         988584      150694  40.580303 -73.984399   \n",
       "9         998184      193621  40.698119 -73.949751   \n",
       "...          ...         ...        ...        ...   \n",
       "1490     1017869      184766  40.673761 -73.878804   \n",
       "1493     1004952      183648  40.670732 -73.925373   \n",
       "1495     1004029      167694  40.626944 -73.928747   \n",
       "1496      995619      190846  40.690506 -73.959006   \n",
       "1497     1006880      190544  40.689655 -73.918400   \n",
       "\n",
       "                           New Georeferenced Column  \n",
       "2      POINT (-73.95083788699996 40.66629650100003)  \n",
       "3      POINT (-73.88830715999995 40.66269280500006)  \n",
       "4     POINT (-73.87442765599997 40.671634710000035)  \n",
       "8      POINT (-73.98439908599995 40.58030340400006)  \n",
       "9     POINT (-73.94975054899999 40.698118935000025)  \n",
       "...                                             ...  \n",
       "1490  POINT (-73.87880377199998 40.673761118000066)  \n",
       "1493   POINT (-73.92537341399996 40.67073208700003)  \n",
       "1495   POINT (-73.92874748599996 40.62694393200008)  \n",
       "1496   POINT (-73.95900552099994 40.69050586900005)  \n",
       "1497  POINT (-73.91840006999998 40.689655320000035)  \n",
       "\n",
       "[636 rows x 19 columns]"
      ],
      "text/html": "<div>\n<style scoped>\n    .dataframe tbody tr th:only-of-type {\n        vertical-align: middle;\n    }\n\n    .dataframe tbody tr th {\n        vertical-align: top;\n    }\n\n    .dataframe thead th {\n        text-align: right;\n    }\n</style>\n<table border=\"1\" class=\"dataframe\">\n  <thead>\n    <tr style=\"text-align: right;\">\n      <th></th>\n      <th>INCIDENT_KEY</th>\n      <th>OCCUR_DATE</th>\n      <th>OCCUR_TIME</th>\n      <th>BORO</th>\n      <th>PRECINCT</th>\n      <th>JURISDICTION_CODE</th>\n      <th>LOCATION_DESC</th>\n      <th>STATISTICAL_MURDER_FLAG</th>\n      <th>PERP_AGE_GROUP</th>\n      <th>PERP_SEX</th>\n      <th>PERP_RACE</th>\n      <th>VIC_AGE_GROUP</th>\n      <th>VIC_SEX</th>\n      <th>VIC_RACE</th>\n      <th>X_COORD_CD</th>\n      <th>Y_COORD_CD</th>\n      <th>Latitude</th>\n      <th>Longitude</th>\n      <th>New Georeferenced Column</th>\n    </tr>\n  </thead>\n  <tbody>\n    <tr>\n      <th>2</th>\n      <td>217540562</td>\n      <td>09/07/2020</td>\n      <td>02:49:00</td>\n      <td>BROOKLYN</td>\n      <td>71</td>\n      <td>0</td>\n      <td>NaN</td>\n      <td>False</td>\n      <td>&lt;18</td>\n      <td>M</td>\n      <td>BLACK</td>\n      <td>45-64</td>\n      <td>F</td>\n      <td>BLACK</td>\n      <td>997889</td>\n      <td>182027</td>\n      <td>40.666297</td>\n      <td>-73.950838</td>\n      <td>POINT (-73.95083788699996 40.66629650100003)</td>\n    </tr>\n    <tr>\n      <th>3</th>\n      <td>217773056</td>\n      <td>09/12/2020</td>\n      <td>00:40:00</td>\n      <td>BROOKLYN</td>\n      <td>75</td>\n      <td>0</td>\n      <td>NaN</td>\n      <td>False</td>\n      <td>NaN</td>\n      <td>NaN</td>\n      <td>NaN</td>\n      <td>25-44</td>\n      <td>M</td>\n      <td>BLACK</td>\n      <td>1015238</td>\n      <td>180730</td>\n      <td>40.662693</td>\n      <td>-73.888307</td>\n      <td>POINT (-73.88830715999995 40.66269280500006)</td>\n    </tr>\n    <tr>\n      <th>4</th>\n      <td>218560117</td>\n      <td>09/30/2020</td>\n      <td>21:07:00</td>\n      <td>BROOKLYN</td>\n      <td>75</td>\n      <td>2</td>\n      <td>MULTI DWELL - PUBLIC HOUS</td>\n      <td>False</td>\n      <td>NaN</td>\n      <td>NaN</td>\n      <td>NaN</td>\n      <td>25-44</td>\n      <td>M</td>\n      <td>BLACK</td>\n      <td>1019084</td>\n      <td>183993</td>\n      <td>40.671635</td>\n      <td>-73.874428</td>\n      <td>POINT (-73.87442765599997 40.671634710000035)</td>\n    </tr>\n    <tr>\n      <th>8</th>\n      <td>218567380</td>\n      <td>09/30/2020</td>\n      <td>01:52:00</td>\n      <td>BROOKLYN</td>\n      <td>60</td>\n      <td>0</td>\n      <td>COMMERCIAL BLDG</td>\n      <td>False</td>\n      <td>NaN</td>\n      <td>NaN</td>\n      <td>NaN</td>\n      <td>25-44</td>\n      <td>M</td>\n      <td>UNKNOWN</td>\n      <td>988584</td>\n      <td>150694</td>\n      <td>40.580303</td>\n      <td>-73.984399</td>\n      <td>POINT (-73.98439908599995 40.58030340400006)</td>\n    </tr>\n    <tr>\n      <th>9</th>\n      <td>217594075</td>\n      <td>09/08/2020</td>\n      <td>22:40:00</td>\n      <td>BROOKLYN</td>\n      <td>79</td>\n      <td>2</td>\n      <td>MULTI DWELL - PUBLIC HOUS</td>\n      <td>False</td>\n      <td>NaN</td>\n      <td>NaN</td>\n      <td>NaN</td>\n      <td>45-64</td>\n      <td>F</td>\n      <td>WHITE HISPANIC</td>\n      <td>998184</td>\n      <td>193621</td>\n      <td>40.698119</td>\n      <td>-73.949751</td>\n      <td>POINT (-73.94975054899999 40.698118935000025)</td>\n    </tr>\n    <tr>\n      <th>...</th>\n      <td>...</td>\n      <td>...</td>\n      <td>...</td>\n      <td>...</td>\n      <td>...</td>\n      <td>...</td>\n      <td>...</td>\n      <td>...</td>\n      <td>...</td>\n      <td>...</td>\n      <td>...</td>\n      <td>...</td>\n      <td>...</td>\n      <td>...</td>\n      <td>...</td>\n      <td>...</td>\n      <td>...</td>\n      <td>...</td>\n      <td>...</td>\n    </tr>\n    <tr>\n      <th>1490</th>\n      <td>214948388</td>\n      <td>07/05/2020</td>\n      <td>00:43:00</td>\n      <td>BROOKLYN</td>\n      <td>75</td>\n      <td>0</td>\n      <td>NaN</td>\n      <td>True</td>\n      <td>NaN</td>\n      <td>NaN</td>\n      <td>NaN</td>\n      <td>18-24</td>\n      <td>M</td>\n      <td>BLACK HISPANIC</td>\n      <td>1017869</td>\n      <td>184766</td>\n      <td>40.673761</td>\n      <td>-73.878804</td>\n      <td>POINT (-73.87880377199998 40.673761118000066)</td>\n    </tr>\n    <tr>\n      <th>1493</th>\n      <td>211964521</td>\n      <td>04/11/2020</td>\n      <td>19:58:00</td>\n      <td>BROOKLYN</td>\n      <td>77</td>\n      <td>0</td>\n      <td>NaN</td>\n      <td>True</td>\n      <td>NaN</td>\n      <td>NaN</td>\n      <td>NaN</td>\n      <td>25-44</td>\n      <td>M</td>\n      <td>BLACK</td>\n      <td>1004952</td>\n      <td>183648</td>\n      <td>40.670732</td>\n      <td>-73.925373</td>\n      <td>POINT (-73.92537341399996 40.67073208700003)</td>\n    </tr>\n    <tr>\n      <th>1495</th>\n      <td>214513455</td>\n      <td>06/23/2020</td>\n      <td>22:04:00</td>\n      <td>BROOKLYN</td>\n      <td>63</td>\n      <td>0</td>\n      <td>PVT HOUSE</td>\n      <td>False</td>\n      <td>NaN</td>\n      <td>NaN</td>\n      <td>NaN</td>\n      <td>25-44</td>\n      <td>U</td>\n      <td>BLACK</td>\n      <td>1004029</td>\n      <td>167694</td>\n      <td>40.626944</td>\n      <td>-73.928747</td>\n      <td>POINT (-73.92874748599996 40.62694393200008)</td>\n    </tr>\n    <tr>\n      <th>1496</th>\n      <td>216360325</td>\n      <td>08/09/2020</td>\n      <td>22:40:00</td>\n      <td>BROOKLYN</td>\n      <td>79</td>\n      <td>2</td>\n      <td>MULTI DWELL - PUBLIC HOUS</td>\n      <td>False</td>\n      <td>NaN</td>\n      <td>NaN</td>\n      <td>NaN</td>\n      <td>18-24</td>\n      <td>M</td>\n      <td>BLACK</td>\n      <td>995619</td>\n      <td>190846</td>\n      <td>40.690506</td>\n      <td>-73.959006</td>\n      <td>POINT (-73.95900552099994 40.69050586900005)</td>\n    </tr>\n    <tr>\n      <th>1497</th>\n      <td>213748379</td>\n      <td>06/01/2020</td>\n      <td>19:14:00</td>\n      <td>BROOKLYN</td>\n      <td>83</td>\n      <td>0</td>\n      <td>NaN</td>\n      <td>False</td>\n      <td>18-24</td>\n      <td>M</td>\n      <td>BLACK</td>\n      <td>18-24</td>\n      <td>M</td>\n      <td>BLACK</td>\n      <td>1006880</td>\n      <td>190544</td>\n      <td>40.689655</td>\n      <td>-73.918400</td>\n      <td>POINT (-73.91840006999998 40.689655320000035)</td>\n    </tr>\n  </tbody>\n</table>\n<p>636 rows × 19 columns</p>\n</div>"
     },
     "metadata": {},
     "execution_count": 14
    }
   ],
   "source": [
    "shootings = shootings[shootings[\"BORO\"] == 'BROOKLYN']\n",
    "shootings"
   ]
  },
  {
   "source": [
    "Drop all columns except position and add a weigth (constant)"
   ],
   "cell_type": "markdown",
   "metadata": {}
  },
  {
   "source": [
    "shootings.drop(columns=['INCIDENT_KEY','OCCUR_DATE','OCCUR_TIME','BORO','PRECINCT','JURISDICTION_CODE','LOCATION_DESC','STATISTICAL_MURDER_FLAG','PERP_AGE_GROUP','PERP_SEX','PERP_RACE','VIC_AGE_GROUP','VIC_SEX','VIC_RACE','X_COORD_CD','Y_COORD_CD','New Georeferenced Column'], inplace=True)\n",
    "shootings['Weight'] = weigth_shooting\n",
    "shootings"
   ],
   "cell_type": "code",
   "metadata": {},
   "execution_count": 15,
   "outputs": [
    {
     "output_type": "execute_result",
     "data": {
      "text/plain": [
       "       Latitude  Longitude  Weight\n",
       "2     40.666297 -73.950838       8\n",
       "3     40.662693 -73.888307       8\n",
       "4     40.671635 -73.874428       8\n",
       "8     40.580303 -73.984399       8\n",
       "9     40.698119 -73.949751       8\n",
       "...         ...        ...     ...\n",
       "1490  40.673761 -73.878804       8\n",
       "1493  40.670732 -73.925373       8\n",
       "1495  40.626944 -73.928747       8\n",
       "1496  40.690506 -73.959006       8\n",
       "1497  40.689655 -73.918400       8\n",
       "\n",
       "[636 rows x 3 columns]"
      ],
      "text/html": "<div>\n<style scoped>\n    .dataframe tbody tr th:only-of-type {\n        vertical-align: middle;\n    }\n\n    .dataframe tbody tr th {\n        vertical-align: top;\n    }\n\n    .dataframe thead th {\n        text-align: right;\n    }\n</style>\n<table border=\"1\" class=\"dataframe\">\n  <thead>\n    <tr style=\"text-align: right;\">\n      <th></th>\n      <th>Latitude</th>\n      <th>Longitude</th>\n      <th>Weight</th>\n    </tr>\n  </thead>\n  <tbody>\n    <tr>\n      <th>2</th>\n      <td>40.666297</td>\n      <td>-73.950838</td>\n      <td>8</td>\n    </tr>\n    <tr>\n      <th>3</th>\n      <td>40.662693</td>\n      <td>-73.888307</td>\n      <td>8</td>\n    </tr>\n    <tr>\n      <th>4</th>\n      <td>40.671635</td>\n      <td>-73.874428</td>\n      <td>8</td>\n    </tr>\n    <tr>\n      <th>8</th>\n      <td>40.580303</td>\n      <td>-73.984399</td>\n      <td>8</td>\n    </tr>\n    <tr>\n      <th>9</th>\n      <td>40.698119</td>\n      <td>-73.949751</td>\n      <td>8</td>\n    </tr>\n    <tr>\n      <th>...</th>\n      <td>...</td>\n      <td>...</td>\n      <td>...</td>\n    </tr>\n    <tr>\n      <th>1490</th>\n      <td>40.673761</td>\n      <td>-73.878804</td>\n      <td>8</td>\n    </tr>\n    <tr>\n      <th>1493</th>\n      <td>40.670732</td>\n      <td>-73.925373</td>\n      <td>8</td>\n    </tr>\n    <tr>\n      <th>1495</th>\n      <td>40.626944</td>\n      <td>-73.928747</td>\n      <td>8</td>\n    </tr>\n    <tr>\n      <th>1496</th>\n      <td>40.690506</td>\n      <td>-73.959006</td>\n      <td>8</td>\n    </tr>\n    <tr>\n      <th>1497</th>\n      <td>40.689655</td>\n      <td>-73.918400</td>\n      <td>8</td>\n    </tr>\n  </tbody>\n</table>\n<p>636 rows × 3 columns</p>\n</div>"
     },
     "metadata": {},
     "execution_count": 15
    }
   ]
  },
  {
   "cell_type": "code",
   "execution_count": 16,
   "metadata": {},
   "outputs": [
    {
     "output_type": "execute_result",
     "data": {
      "text/plain": [
       "       Latitude  Longitude  Weight\n",
       "0     40.655693 -73.899409       5\n",
       "5     40.609419 -73.929692       2\n",
       "6     40.707934 -73.928931       2\n",
       "7     40.674583 -73.930222       5\n",
       "10    40.579208 -73.981941       2\n",
       "...         ...        ...     ...\n",
       "1490  40.673761 -73.878804       8\n",
       "1493  40.670732 -73.925373       8\n",
       "1495  40.626944 -73.928747       8\n",
       "1496  40.690506 -73.959006       8\n",
       "1497  40.689655 -73.918400       8\n",
       "\n",
       "[28598 rows x 3 columns]"
      ],
      "text/html": "<div>\n<style scoped>\n    .dataframe tbody tr th:only-of-type {\n        vertical-align: middle;\n    }\n\n    .dataframe tbody tr th {\n        vertical-align: top;\n    }\n\n    .dataframe thead th {\n        text-align: right;\n    }\n</style>\n<table border=\"1\" class=\"dataframe\">\n  <thead>\n    <tr style=\"text-align: right;\">\n      <th></th>\n      <th>Latitude</th>\n      <th>Longitude</th>\n      <th>Weight</th>\n    </tr>\n  </thead>\n  <tbody>\n    <tr>\n      <th>0</th>\n      <td>40.655693</td>\n      <td>-73.899409</td>\n      <td>5</td>\n    </tr>\n    <tr>\n      <th>5</th>\n      <td>40.609419</td>\n      <td>-73.929692</td>\n      <td>2</td>\n    </tr>\n    <tr>\n      <th>6</th>\n      <td>40.707934</td>\n      <td>-73.928931</td>\n      <td>2</td>\n    </tr>\n    <tr>\n      <th>7</th>\n      <td>40.674583</td>\n      <td>-73.930222</td>\n      <td>5</td>\n    </tr>\n    <tr>\n      <th>10</th>\n      <td>40.579208</td>\n      <td>-73.981941</td>\n      <td>2</td>\n    </tr>\n    <tr>\n      <th>...</th>\n      <td>...</td>\n      <td>...</td>\n      <td>...</td>\n    </tr>\n    <tr>\n      <th>1490</th>\n      <td>40.673761</td>\n      <td>-73.878804</td>\n      <td>8</td>\n    </tr>\n    <tr>\n      <th>1493</th>\n      <td>40.670732</td>\n      <td>-73.925373</td>\n      <td>8</td>\n    </tr>\n    <tr>\n      <th>1495</th>\n      <td>40.626944</td>\n      <td>-73.928747</td>\n      <td>8</td>\n    </tr>\n    <tr>\n      <th>1496</th>\n      <td>40.690506</td>\n      <td>-73.959006</td>\n      <td>8</td>\n    </tr>\n    <tr>\n      <th>1497</th>\n      <td>40.689655</td>\n      <td>-73.918400</td>\n      <td>8</td>\n    </tr>\n  </tbody>\n</table>\n<p>28598 rows × 3 columns</p>\n</div>"
     },
     "metadata": {},
     "execution_count": 16
    }
   ],
   "source": [
    "crimes = pd.concat([arrests, shootings])\n",
    "crimes.rename(columns = {'New Georeferenced Column':'location'}, inplace = True) \n",
    "crimes.to_csv('./../data/prepared/crimes.csv', ';')\n",
    "crimes"
   ]
  },
  {
   "cell_type": "code",
   "execution_count": null,
   "metadata": {},
   "outputs": [],
   "source": []
  }
 ]
}