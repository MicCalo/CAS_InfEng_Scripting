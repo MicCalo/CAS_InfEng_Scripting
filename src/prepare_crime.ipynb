{
 "metadata": {
  "language_info": {
   "codemirror_mode": {
    "name": "ipython",
    "version": 3
   },
   "file_extension": ".py",
   "mimetype": "text/x-python",
   "name": "python",
   "nbconvert_exporter": "python",
   "pygments_lexer": "ipython3",
   "version": "3.8.5-final"
  },
  "orig_nbformat": 2,
  "kernelspec": {
   "name": "python3",
   "display_name": "Python 3"
  }
 },
 "nbformat": 4,
 "nbformat_minor": 2,
 "cells": [
  {
   "cell_type": "code",
   "execution_count": 17,
   "metadata": {},
   "outputs": [],
   "source": [
    "import pandas as pd\n",
    "\n",
    "weigth_na = 1\n",
    "weigth_violation=1\n",
    "weigth_infraction=2\n",
    "weigth_misdemeanor=2\n",
    "weigth_felony=5\n",
    "weigth_shooting = 8"
   ]
  },
  {
   "cell_type": "code",
   "execution_count": 18,
   "metadata": {},
   "outputs": [
    {
     "output_type": "execute_result",
     "data": {
      "text/plain": [
       "        ARREST_KEY ARREST_DATE  PD_CD                         PD_DESC  KY_CD  \\\n",
       "0        218375425  09/26/2020  157.0                          RAPE 1  104.0   \n",
       "1        216884434  08/21/2020  175.0                SEXUAL ABUSE 3,2  233.0   \n",
       "2        216348943  08/09/2020  109.0        ASSAULT 2,1,UNCLASSIFIED  106.0   \n",
       "3        216186332  08/05/2020  157.0                          RAPE 1  104.0   \n",
       "4        217452757  09/05/2020  397.0  ROBBERY,OPEN AREA UNCLASSIFIED  105.0   \n",
       "...            ...         ...    ...                             ...    ...   \n",
       "103371   206920909  01/04/2020  397.0  ROBBERY,OPEN AREA UNCLASSIFIED  105.0   \n",
       "103372   206916505  01/03/2020  515.0     CONTROLLED SUBSTANCE,SALE 3  117.0   \n",
       "103373   206903442  01/02/2020  511.0  CONTROLLED SUBSTANCE, POSSESSI  235.0   \n",
       "103374   206918192  01/04/2020  681.0      CHILD, ENDANGERING WELFARE  233.0   \n",
       "103375   206893589  01/01/2020  101.0                       ASSAULT 3  344.0   \n",
       "\n",
       "                           OFNS_DESC    LAW_CODE LAW_CAT_CD ARREST_BORO  \\\n",
       "0                               RAPE  PL 1303501          F           M   \n",
       "1                         SEX CRIMES  PL 1305500          M           B   \n",
       "2                     FELONY ASSAULT  PL 1200501          F           B   \n",
       "3                               RAPE  PL 1303502          F           B   \n",
       "4                            ROBBERY  PL 160102A          F           B   \n",
       "...                              ...         ...        ...         ...   \n",
       "103371                       ROBBERY  PL 1600500          F           K   \n",
       "103372               DANGEROUS DRUGS  PL 2203901          F           B   \n",
       "103373               DANGEROUS DRUGS  PL 2200300          M           K   \n",
       "103374                    SEX CRIMES  PL 2601001          M           B   \n",
       "103375  ASSAULT 3 & RELATED OFFENSES  PL 1200001          M           K   \n",
       "\n",
       "        ARREST_PRECINCT  JURISDICTION_CODE AGE_GROUP PERP_SEX       PERP_RACE  \\\n",
       "0                     1                  0     25-44        M           WHITE   \n",
       "1                    43                  0     18-24        M           BLACK   \n",
       "2                    44                  0     25-44        F           BLACK   \n",
       "3                    40                  0     25-44        M  WHITE HISPANIC   \n",
       "4                    48                  0     25-44        M           BLACK   \n",
       "...                 ...                ...       ...      ...             ...   \n",
       "103371               81                  0     45-64        M           BLACK   \n",
       "103372               46                  0     25-44        M  WHITE HISPANIC   \n",
       "103373               81                  1     45-64        M  WHITE HISPANIC   \n",
       "103374               46                  0     25-44        M  BLACK HISPANIC   \n",
       "103375               63                  0     25-44        M           BLACK   \n",
       "\n",
       "        X_COORD_CD  Y_COORD_CD   Latitude  Longitude  \\\n",
       "0           982285      201682  40.720255 -74.007090   \n",
       "1          1020316      239179  40.823101 -73.869690   \n",
       "2          1007481      241648  40.829921 -73.916056   \n",
       "3          1004926      234532  40.810396 -73.925311   \n",
       "4          1015113      245325  40.839990 -73.888461   \n",
       "...            ...         ...        ...        ...   \n",
       "103371     1001470      186937  40.679767 -73.937917   \n",
       "103372     1007435      248210  40.847932 -73.916200   \n",
       "103373     1001284      193892  40.698857 -73.938570   \n",
       "103374     1011881      250411  40.853960 -73.900121   \n",
       "103375     1003600      168088  40.628026 -73.930292   \n",
       "\n",
       "                            New Georeferenced Column  \n",
       "0       POINT (-74.00709027999993 40.72025522300004)  \n",
       "1       POINT (-73.86969046099993 40.82310129900002)  \n",
       "2       POINT (-73.91605634499997 40.82992107800004)  \n",
       "3       POINT (-73.92531074499993 40.81039601900005)  \n",
       "4       POINT (-73.88846125799995 40.83999000400007)  \n",
       "...                                              ...  \n",
       "103371       POINT (-73.937917165 40.67976710800008)  \n",
       "103372  POINT (-73.91619988299993 40.84793197700003)  \n",
       "103373  POINT (-73.93857017799998 40.69885734300004)  \n",
       "103374  POINT (-73.90012087499997 40.85396027400003)  \n",
       "103375  POINT (-73.93029183099996 40.62802632700004)  \n",
       "\n",
       "[103376 rows x 19 columns]"
      ],
      "text/html": "<div>\n<style scoped>\n    .dataframe tbody tr th:only-of-type {\n        vertical-align: middle;\n    }\n\n    .dataframe tbody tr th {\n        vertical-align: top;\n    }\n\n    .dataframe thead th {\n        text-align: right;\n    }\n</style>\n<table border=\"1\" class=\"dataframe\">\n  <thead>\n    <tr style=\"text-align: right;\">\n      <th></th>\n      <th>ARREST_KEY</th>\n      <th>ARREST_DATE</th>\n      <th>PD_CD</th>\n      <th>PD_DESC</th>\n      <th>KY_CD</th>\n      <th>OFNS_DESC</th>\n      <th>LAW_CODE</th>\n      <th>LAW_CAT_CD</th>\n      <th>ARREST_BORO</th>\n      <th>ARREST_PRECINCT</th>\n      <th>JURISDICTION_CODE</th>\n      <th>AGE_GROUP</th>\n      <th>PERP_SEX</th>\n      <th>PERP_RACE</th>\n      <th>X_COORD_CD</th>\n      <th>Y_COORD_CD</th>\n      <th>Latitude</th>\n      <th>Longitude</th>\n      <th>New Georeferenced Column</th>\n    </tr>\n  </thead>\n  <tbody>\n    <tr>\n      <th>0</th>\n      <td>218375425</td>\n      <td>09/26/2020</td>\n      <td>157.0</td>\n      <td>RAPE 1</td>\n      <td>104.0</td>\n      <td>RAPE</td>\n      <td>PL 1303501</td>\n      <td>F</td>\n      <td>M</td>\n      <td>1</td>\n      <td>0</td>\n      <td>25-44</td>\n      <td>M</td>\n      <td>WHITE</td>\n      <td>982285</td>\n      <td>201682</td>\n      <td>40.720255</td>\n      <td>-74.007090</td>\n      <td>POINT (-74.00709027999993 40.72025522300004)</td>\n    </tr>\n    <tr>\n      <th>1</th>\n      <td>216884434</td>\n      <td>08/21/2020</td>\n      <td>175.0</td>\n      <td>SEXUAL ABUSE 3,2</td>\n      <td>233.0</td>\n      <td>SEX CRIMES</td>\n      <td>PL 1305500</td>\n      <td>M</td>\n      <td>B</td>\n      <td>43</td>\n      <td>0</td>\n      <td>18-24</td>\n      <td>M</td>\n      <td>BLACK</td>\n      <td>1020316</td>\n      <td>239179</td>\n      <td>40.823101</td>\n      <td>-73.869690</td>\n      <td>POINT (-73.86969046099993 40.82310129900002)</td>\n    </tr>\n    <tr>\n      <th>2</th>\n      <td>216348943</td>\n      <td>08/09/2020</td>\n      <td>109.0</td>\n      <td>ASSAULT 2,1,UNCLASSIFIED</td>\n      <td>106.0</td>\n      <td>FELONY ASSAULT</td>\n      <td>PL 1200501</td>\n      <td>F</td>\n      <td>B</td>\n      <td>44</td>\n      <td>0</td>\n      <td>25-44</td>\n      <td>F</td>\n      <td>BLACK</td>\n      <td>1007481</td>\n      <td>241648</td>\n      <td>40.829921</td>\n      <td>-73.916056</td>\n      <td>POINT (-73.91605634499997 40.82992107800004)</td>\n    </tr>\n    <tr>\n      <th>3</th>\n      <td>216186332</td>\n      <td>08/05/2020</td>\n      <td>157.0</td>\n      <td>RAPE 1</td>\n      <td>104.0</td>\n      <td>RAPE</td>\n      <td>PL 1303502</td>\n      <td>F</td>\n      <td>B</td>\n      <td>40</td>\n      <td>0</td>\n      <td>25-44</td>\n      <td>M</td>\n      <td>WHITE HISPANIC</td>\n      <td>1004926</td>\n      <td>234532</td>\n      <td>40.810396</td>\n      <td>-73.925311</td>\n      <td>POINT (-73.92531074499993 40.81039601900005)</td>\n    </tr>\n    <tr>\n      <th>4</th>\n      <td>217452757</td>\n      <td>09/05/2020</td>\n      <td>397.0</td>\n      <td>ROBBERY,OPEN AREA UNCLASSIFIED</td>\n      <td>105.0</td>\n      <td>ROBBERY</td>\n      <td>PL 160102A</td>\n      <td>F</td>\n      <td>B</td>\n      <td>48</td>\n      <td>0</td>\n      <td>25-44</td>\n      <td>M</td>\n      <td>BLACK</td>\n      <td>1015113</td>\n      <td>245325</td>\n      <td>40.839990</td>\n      <td>-73.888461</td>\n      <td>POINT (-73.88846125799995 40.83999000400007)</td>\n    </tr>\n    <tr>\n      <th>...</th>\n      <td>...</td>\n      <td>...</td>\n      <td>...</td>\n      <td>...</td>\n      <td>...</td>\n      <td>...</td>\n      <td>...</td>\n      <td>...</td>\n      <td>...</td>\n      <td>...</td>\n      <td>...</td>\n      <td>...</td>\n      <td>...</td>\n      <td>...</td>\n      <td>...</td>\n      <td>...</td>\n      <td>...</td>\n      <td>...</td>\n      <td>...</td>\n    </tr>\n    <tr>\n      <th>103371</th>\n      <td>206920909</td>\n      <td>01/04/2020</td>\n      <td>397.0</td>\n      <td>ROBBERY,OPEN AREA UNCLASSIFIED</td>\n      <td>105.0</td>\n      <td>ROBBERY</td>\n      <td>PL 1600500</td>\n      <td>F</td>\n      <td>K</td>\n      <td>81</td>\n      <td>0</td>\n      <td>45-64</td>\n      <td>M</td>\n      <td>BLACK</td>\n      <td>1001470</td>\n      <td>186937</td>\n      <td>40.679767</td>\n      <td>-73.937917</td>\n      <td>POINT (-73.937917165 40.67976710800008)</td>\n    </tr>\n    <tr>\n      <th>103372</th>\n      <td>206916505</td>\n      <td>01/03/2020</td>\n      <td>515.0</td>\n      <td>CONTROLLED SUBSTANCE,SALE 3</td>\n      <td>117.0</td>\n      <td>DANGEROUS DRUGS</td>\n      <td>PL 2203901</td>\n      <td>F</td>\n      <td>B</td>\n      <td>46</td>\n      <td>0</td>\n      <td>25-44</td>\n      <td>M</td>\n      <td>WHITE HISPANIC</td>\n      <td>1007435</td>\n      <td>248210</td>\n      <td>40.847932</td>\n      <td>-73.916200</td>\n      <td>POINT (-73.91619988299993 40.84793197700003)</td>\n    </tr>\n    <tr>\n      <th>103373</th>\n      <td>206903442</td>\n      <td>01/02/2020</td>\n      <td>511.0</td>\n      <td>CONTROLLED SUBSTANCE, POSSESSI</td>\n      <td>235.0</td>\n      <td>DANGEROUS DRUGS</td>\n      <td>PL 2200300</td>\n      <td>M</td>\n      <td>K</td>\n      <td>81</td>\n      <td>1</td>\n      <td>45-64</td>\n      <td>M</td>\n      <td>WHITE HISPANIC</td>\n      <td>1001284</td>\n      <td>193892</td>\n      <td>40.698857</td>\n      <td>-73.938570</td>\n      <td>POINT (-73.93857017799998 40.69885734300004)</td>\n    </tr>\n    <tr>\n      <th>103374</th>\n      <td>206918192</td>\n      <td>01/04/2020</td>\n      <td>681.0</td>\n      <td>CHILD, ENDANGERING WELFARE</td>\n      <td>233.0</td>\n      <td>SEX CRIMES</td>\n      <td>PL 2601001</td>\n      <td>M</td>\n      <td>B</td>\n      <td>46</td>\n      <td>0</td>\n      <td>25-44</td>\n      <td>M</td>\n      <td>BLACK HISPANIC</td>\n      <td>1011881</td>\n      <td>250411</td>\n      <td>40.853960</td>\n      <td>-73.900121</td>\n      <td>POINT (-73.90012087499997 40.85396027400003)</td>\n    </tr>\n    <tr>\n      <th>103375</th>\n      <td>206893589</td>\n      <td>01/01/2020</td>\n      <td>101.0</td>\n      <td>ASSAULT 3</td>\n      <td>344.0</td>\n      <td>ASSAULT 3 &amp; RELATED OFFENSES</td>\n      <td>PL 1200001</td>\n      <td>M</td>\n      <td>K</td>\n      <td>63</td>\n      <td>0</td>\n      <td>25-44</td>\n      <td>M</td>\n      <td>BLACK</td>\n      <td>1003600</td>\n      <td>168088</td>\n      <td>40.628026</td>\n      <td>-73.930292</td>\n      <td>POINT (-73.93029183099996 40.62802632700004)</td>\n    </tr>\n  </tbody>\n</table>\n<p>103376 rows × 19 columns</p>\n</div>"
     },
     "metadata": {},
     "execution_count": 18
    }
   ],
   "source": [
    "arrests = pd.read_csv('./../data/1_original/NYPD_Arrest_Data_Year_to_Date.csv')\n",
    "arrests"
   ]
  },
  {
   "source": [
    "Filter out arrests wich did not happen in Brooklyn (K)"
   ],
   "cell_type": "markdown",
   "metadata": {}
  },
  {
   "cell_type": "code",
   "execution_count": 19,
   "metadata": {},
   "outputs": [
    {
     "output_type": "execute_result",
     "data": {
      "text/plain": [
       "        ARREST_KEY ARREST_DATE  PD_CD                         PD_DESC  KY_CD  \\\n",
       "5        217412773  09/03/2020  157.0                          RAPE 1  104.0   \n",
       "7        217526617  09/07/2020  792.0        WEAPONS POSSESSION 1 & 2  118.0   \n",
       "8        218518385  09/29/2020  268.0              CRIMINAL MIS 2 & 3  121.0   \n",
       "9        218433006  09/28/2020  113.0           MENACING,UNCLASSIFIED  344.0   \n",
       "10       218545745  09/30/2020  268.0              CRIMINAL MIS 2 & 3  121.0   \n",
       "...            ...         ...    ...                             ...    ...   \n",
       "103362   206918342  01/04/2020  729.0  FORGERY,ETC.,UNCLASSIFIED-FELO  113.0   \n",
       "103369   207498195  01/06/2020  117.0         RECKLESS ENDANGERMENT 1  126.0   \n",
       "103371   206920909  01/04/2020  397.0  ROBBERY,OPEN AREA UNCLASSIFIED  105.0   \n",
       "103373   206903442  01/02/2020  511.0  CONTROLLED SUBSTANCE, POSSESSI  235.0   \n",
       "103375   206893589  01/01/2020  101.0                       ASSAULT 3  344.0   \n",
       "\n",
       "                             OFNS_DESC    LAW_CODE LAW_CAT_CD ARREST_BORO  \\\n",
       "5                                 RAPE  PL 1303501          F           K   \n",
       "7                    DANGEROUS WEAPONS  PL 2650303          F           K   \n",
       "8       CRIMINAL MISCHIEF & RELATED OF  PL 1450502          F           K   \n",
       "9         ASSAULT 3 & RELATED OFFENSES  PL 1201401          M           K   \n",
       "10      CRIMINAL MISCHIEF & RELATED OF  PL 1450502          F           K   \n",
       "...                                ...         ...        ...         ...   \n",
       "103362                         FORGERY  PL 1702500          F           K   \n",
       "103369         MISCELLANEOUS PENAL LAW  PL 1202500          F           K   \n",
       "103371                         ROBBERY  PL 1600500          F           K   \n",
       "103373                 DANGEROUS DRUGS  PL 2200300          M           K   \n",
       "103375    ASSAULT 3 & RELATED OFFENSES  PL 1200001          M           K   \n",
       "\n",
       "        ARREST_PRECINCT  JURISDICTION_CODE AGE_GROUP PERP_SEX       PERP_RACE  \\\n",
       "5                    77                  0     45-64        M           BLACK   \n",
       "7                    67                  0     18-24        M           BLACK   \n",
       "8                    66                  0     18-24        M           BLACK   \n",
       "9                    72                  0     25-44        M  WHITE HISPANIC   \n",
       "10                   88                  0     25-44        M  WHITE HISPANIC   \n",
       "...                 ...                ...       ...      ...             ...   \n",
       "103362               60                  0     25-44        M           BLACK   \n",
       "103369               75                  0     18-24        M  WHITE HISPANIC   \n",
       "103371               81                  0     45-64        M           BLACK   \n",
       "103373               81                  1     45-64        M  WHITE HISPANIC   \n",
       "103375               63                  0     25-44        M           BLACK   \n",
       "\n",
       "        X_COORD_CD  Y_COORD_CD   Latitude  Longitude  \\\n",
       "5          1003606      185050  40.674583 -73.930222   \n",
       "7          1003029      176696  40.651655 -73.932325   \n",
       "8           988164      170927  40.635839 -73.985899   \n",
       "9           981243      174752  40.646338 -74.010837   \n",
       "10          991703      192337  40.694602 -73.973125   \n",
       "...            ...         ...        ...        ...   \n",
       "103362      986713      149102  40.575934 -73.991135   \n",
       "103369     1018580      189299  40.686200 -73.876218   \n",
       "103371     1001470      186937  40.679767 -73.937917   \n",
       "103373     1001284      193892  40.698857 -73.938570   \n",
       "103375     1003600      168088  40.628026 -73.930292   \n",
       "\n",
       "                             New Georeferenced Column  \n",
       "5        POINT (-73.93022154099998 40.67458330800008)  \n",
       "7        POINT (-73.93232493699998 40.65165467100008)  \n",
       "8       POINT (-73.98589935799998 40.635839049000026)  \n",
       "9        POINT (-74.01083732399997 40.64633820900008)  \n",
       "10       POINT (-73.97312472899995 40.69460248300004)  \n",
       "...                                               ...  \n",
       "103362   POINT (-73.99113524499995 40.57593439500005)  \n",
       "103369  POINT (-73.87621750399995 40.686200436000036)  \n",
       "103371        POINT (-73.937917165 40.67976710800008)  \n",
       "103373   POINT (-73.93857017799998 40.69885734300004)  \n",
       "103375   POINT (-73.93029183099996 40.62802632700004)  \n",
       "\n",
       "[27962 rows x 19 columns]"
      ],
      "text/html": "<div>\n<style scoped>\n    .dataframe tbody tr th:only-of-type {\n        vertical-align: middle;\n    }\n\n    .dataframe tbody tr th {\n        vertical-align: top;\n    }\n\n    .dataframe thead th {\n        text-align: right;\n    }\n</style>\n<table border=\"1\" class=\"dataframe\">\n  <thead>\n    <tr style=\"text-align: right;\">\n      <th></th>\n      <th>ARREST_KEY</th>\n      <th>ARREST_DATE</th>\n      <th>PD_CD</th>\n      <th>PD_DESC</th>\n      <th>KY_CD</th>\n      <th>OFNS_DESC</th>\n      <th>LAW_CODE</th>\n      <th>LAW_CAT_CD</th>\n      <th>ARREST_BORO</th>\n      <th>ARREST_PRECINCT</th>\n      <th>JURISDICTION_CODE</th>\n      <th>AGE_GROUP</th>\n      <th>PERP_SEX</th>\n      <th>PERP_RACE</th>\n      <th>X_COORD_CD</th>\n      <th>Y_COORD_CD</th>\n      <th>Latitude</th>\n      <th>Longitude</th>\n      <th>New Georeferenced Column</th>\n    </tr>\n  </thead>\n  <tbody>\n    <tr>\n      <th>5</th>\n      <td>217412773</td>\n      <td>09/03/2020</td>\n      <td>157.0</td>\n      <td>RAPE 1</td>\n      <td>104.0</td>\n      <td>RAPE</td>\n      <td>PL 1303501</td>\n      <td>F</td>\n      <td>K</td>\n      <td>77</td>\n      <td>0</td>\n      <td>45-64</td>\n      <td>M</td>\n      <td>BLACK</td>\n      <td>1003606</td>\n      <td>185050</td>\n      <td>40.674583</td>\n      <td>-73.930222</td>\n      <td>POINT (-73.93022154099998 40.67458330800008)</td>\n    </tr>\n    <tr>\n      <th>7</th>\n      <td>217526617</td>\n      <td>09/07/2020</td>\n      <td>792.0</td>\n      <td>WEAPONS POSSESSION 1 &amp; 2</td>\n      <td>118.0</td>\n      <td>DANGEROUS WEAPONS</td>\n      <td>PL 2650303</td>\n      <td>F</td>\n      <td>K</td>\n      <td>67</td>\n      <td>0</td>\n      <td>18-24</td>\n      <td>M</td>\n      <td>BLACK</td>\n      <td>1003029</td>\n      <td>176696</td>\n      <td>40.651655</td>\n      <td>-73.932325</td>\n      <td>POINT (-73.93232493699998 40.65165467100008)</td>\n    </tr>\n    <tr>\n      <th>8</th>\n      <td>218518385</td>\n      <td>09/29/2020</td>\n      <td>268.0</td>\n      <td>CRIMINAL MIS 2 &amp; 3</td>\n      <td>121.0</td>\n      <td>CRIMINAL MISCHIEF &amp; RELATED OF</td>\n      <td>PL 1450502</td>\n      <td>F</td>\n      <td>K</td>\n      <td>66</td>\n      <td>0</td>\n      <td>18-24</td>\n      <td>M</td>\n      <td>BLACK</td>\n      <td>988164</td>\n      <td>170927</td>\n      <td>40.635839</td>\n      <td>-73.985899</td>\n      <td>POINT (-73.98589935799998 40.635839049000026)</td>\n    </tr>\n    <tr>\n      <th>9</th>\n      <td>218433006</td>\n      <td>09/28/2020</td>\n      <td>113.0</td>\n      <td>MENACING,UNCLASSIFIED</td>\n      <td>344.0</td>\n      <td>ASSAULT 3 &amp; RELATED OFFENSES</td>\n      <td>PL 1201401</td>\n      <td>M</td>\n      <td>K</td>\n      <td>72</td>\n      <td>0</td>\n      <td>25-44</td>\n      <td>M</td>\n      <td>WHITE HISPANIC</td>\n      <td>981243</td>\n      <td>174752</td>\n      <td>40.646338</td>\n      <td>-74.010837</td>\n      <td>POINT (-74.01083732399997 40.64633820900008)</td>\n    </tr>\n    <tr>\n      <th>10</th>\n      <td>218545745</td>\n      <td>09/30/2020</td>\n      <td>268.0</td>\n      <td>CRIMINAL MIS 2 &amp; 3</td>\n      <td>121.0</td>\n      <td>CRIMINAL MISCHIEF &amp; RELATED OF</td>\n      <td>PL 1450502</td>\n      <td>F</td>\n      <td>K</td>\n      <td>88</td>\n      <td>0</td>\n      <td>25-44</td>\n      <td>M</td>\n      <td>WHITE HISPANIC</td>\n      <td>991703</td>\n      <td>192337</td>\n      <td>40.694602</td>\n      <td>-73.973125</td>\n      <td>POINT (-73.97312472899995 40.69460248300004)</td>\n    </tr>\n    <tr>\n      <th>...</th>\n      <td>...</td>\n      <td>...</td>\n      <td>...</td>\n      <td>...</td>\n      <td>...</td>\n      <td>...</td>\n      <td>...</td>\n      <td>...</td>\n      <td>...</td>\n      <td>...</td>\n      <td>...</td>\n      <td>...</td>\n      <td>...</td>\n      <td>...</td>\n      <td>...</td>\n      <td>...</td>\n      <td>...</td>\n      <td>...</td>\n      <td>...</td>\n    </tr>\n    <tr>\n      <th>103362</th>\n      <td>206918342</td>\n      <td>01/04/2020</td>\n      <td>729.0</td>\n      <td>FORGERY,ETC.,UNCLASSIFIED-FELO</td>\n      <td>113.0</td>\n      <td>FORGERY</td>\n      <td>PL 1702500</td>\n      <td>F</td>\n      <td>K</td>\n      <td>60</td>\n      <td>0</td>\n      <td>25-44</td>\n      <td>M</td>\n      <td>BLACK</td>\n      <td>986713</td>\n      <td>149102</td>\n      <td>40.575934</td>\n      <td>-73.991135</td>\n      <td>POINT (-73.99113524499995 40.57593439500005)</td>\n    </tr>\n    <tr>\n      <th>103369</th>\n      <td>207498195</td>\n      <td>01/06/2020</td>\n      <td>117.0</td>\n      <td>RECKLESS ENDANGERMENT 1</td>\n      <td>126.0</td>\n      <td>MISCELLANEOUS PENAL LAW</td>\n      <td>PL 1202500</td>\n      <td>F</td>\n      <td>K</td>\n      <td>75</td>\n      <td>0</td>\n      <td>18-24</td>\n      <td>M</td>\n      <td>WHITE HISPANIC</td>\n      <td>1018580</td>\n      <td>189299</td>\n      <td>40.686200</td>\n      <td>-73.876218</td>\n      <td>POINT (-73.87621750399995 40.686200436000036)</td>\n    </tr>\n    <tr>\n      <th>103371</th>\n      <td>206920909</td>\n      <td>01/04/2020</td>\n      <td>397.0</td>\n      <td>ROBBERY,OPEN AREA UNCLASSIFIED</td>\n      <td>105.0</td>\n      <td>ROBBERY</td>\n      <td>PL 1600500</td>\n      <td>F</td>\n      <td>K</td>\n      <td>81</td>\n      <td>0</td>\n      <td>45-64</td>\n      <td>M</td>\n      <td>BLACK</td>\n      <td>1001470</td>\n      <td>186937</td>\n      <td>40.679767</td>\n      <td>-73.937917</td>\n      <td>POINT (-73.937917165 40.67976710800008)</td>\n    </tr>\n    <tr>\n      <th>103373</th>\n      <td>206903442</td>\n      <td>01/02/2020</td>\n      <td>511.0</td>\n      <td>CONTROLLED SUBSTANCE, POSSESSI</td>\n      <td>235.0</td>\n      <td>DANGEROUS DRUGS</td>\n      <td>PL 2200300</td>\n      <td>M</td>\n      <td>K</td>\n      <td>81</td>\n      <td>1</td>\n      <td>45-64</td>\n      <td>M</td>\n      <td>WHITE HISPANIC</td>\n      <td>1001284</td>\n      <td>193892</td>\n      <td>40.698857</td>\n      <td>-73.938570</td>\n      <td>POINT (-73.93857017799998 40.69885734300004)</td>\n    </tr>\n    <tr>\n      <th>103375</th>\n      <td>206893589</td>\n      <td>01/01/2020</td>\n      <td>101.0</td>\n      <td>ASSAULT 3</td>\n      <td>344.0</td>\n      <td>ASSAULT 3 &amp; RELATED OFFENSES</td>\n      <td>PL 1200001</td>\n      <td>M</td>\n      <td>K</td>\n      <td>63</td>\n      <td>0</td>\n      <td>25-44</td>\n      <td>M</td>\n      <td>BLACK</td>\n      <td>1003600</td>\n      <td>168088</td>\n      <td>40.628026</td>\n      <td>-73.930292</td>\n      <td>POINT (-73.93029183099996 40.62802632700004)</td>\n    </tr>\n  </tbody>\n</table>\n<p>27962 rows × 19 columns</p>\n</div>"
     },
     "metadata": {},
     "execution_count": 19
    }
   ],
   "source": [
    "arrests = arrests[arrests[\"ARREST_BORO\"] == 'K']\n",
    "arrests"
   ]
  },
  {
   "cell_type": "code",
   "execution_count": 20,
   "metadata": {},
   "outputs": [
    {
     "output_type": "execute_result",
     "data": {
      "text/plain": [
       "                               PD_DESC                       OFNS_DESC  \\\n",
       "5                               RAPE 1                            RAPE   \n",
       "7             WEAPONS POSSESSION 1 & 2               DANGEROUS WEAPONS   \n",
       "8                   CRIMINAL MIS 2 & 3  CRIMINAL MISCHIEF & RELATED OF   \n",
       "9                MENACING,UNCLASSIFIED    ASSAULT 3 & RELATED OFFENSES   \n",
       "10                  CRIMINAL MIS 2 & 3  CRIMINAL MISCHIEF & RELATED OF   \n",
       "...                                ...                             ...   \n",
       "103362  FORGERY,ETC.,UNCLASSIFIED-FELO                         FORGERY   \n",
       "103369         RECKLESS ENDANGERMENT 1         MISCELLANEOUS PENAL LAW   \n",
       "103371  ROBBERY,OPEN AREA UNCLASSIFIED                         ROBBERY   \n",
       "103373  CONTROLLED SUBSTANCE, POSSESSI                 DANGEROUS DRUGS   \n",
       "103375                       ASSAULT 3    ASSAULT 3 & RELATED OFFENSES   \n",
       "\n",
       "       LAW_CAT_CD   Latitude  Longitude  \n",
       "5               F  40.674583 -73.930222  \n",
       "7               F  40.651655 -73.932325  \n",
       "8               F  40.635839 -73.985899  \n",
       "9               M  40.646338 -74.010837  \n",
       "10              F  40.694602 -73.973125  \n",
       "...           ...        ...        ...  \n",
       "103362          F  40.575934 -73.991135  \n",
       "103369          F  40.686200 -73.876218  \n",
       "103371          F  40.679767 -73.937917  \n",
       "103373          M  40.698857 -73.938570  \n",
       "103375          M  40.628026 -73.930292  \n",
       "\n",
       "[27962 rows x 5 columns]"
      ],
      "text/html": "<div>\n<style scoped>\n    .dataframe tbody tr th:only-of-type {\n        vertical-align: middle;\n    }\n\n    .dataframe tbody tr th {\n        vertical-align: top;\n    }\n\n    .dataframe thead th {\n        text-align: right;\n    }\n</style>\n<table border=\"1\" class=\"dataframe\">\n  <thead>\n    <tr style=\"text-align: right;\">\n      <th></th>\n      <th>PD_DESC</th>\n      <th>OFNS_DESC</th>\n      <th>LAW_CAT_CD</th>\n      <th>Latitude</th>\n      <th>Longitude</th>\n    </tr>\n  </thead>\n  <tbody>\n    <tr>\n      <th>5</th>\n      <td>RAPE 1</td>\n      <td>RAPE</td>\n      <td>F</td>\n      <td>40.674583</td>\n      <td>-73.930222</td>\n    </tr>\n    <tr>\n      <th>7</th>\n      <td>WEAPONS POSSESSION 1 &amp; 2</td>\n      <td>DANGEROUS WEAPONS</td>\n      <td>F</td>\n      <td>40.651655</td>\n      <td>-73.932325</td>\n    </tr>\n    <tr>\n      <th>8</th>\n      <td>CRIMINAL MIS 2 &amp; 3</td>\n      <td>CRIMINAL MISCHIEF &amp; RELATED OF</td>\n      <td>F</td>\n      <td>40.635839</td>\n      <td>-73.985899</td>\n    </tr>\n    <tr>\n      <th>9</th>\n      <td>MENACING,UNCLASSIFIED</td>\n      <td>ASSAULT 3 &amp; RELATED OFFENSES</td>\n      <td>M</td>\n      <td>40.646338</td>\n      <td>-74.010837</td>\n    </tr>\n    <tr>\n      <th>10</th>\n      <td>CRIMINAL MIS 2 &amp; 3</td>\n      <td>CRIMINAL MISCHIEF &amp; RELATED OF</td>\n      <td>F</td>\n      <td>40.694602</td>\n      <td>-73.973125</td>\n    </tr>\n    <tr>\n      <th>...</th>\n      <td>...</td>\n      <td>...</td>\n      <td>...</td>\n      <td>...</td>\n      <td>...</td>\n    </tr>\n    <tr>\n      <th>103362</th>\n      <td>FORGERY,ETC.,UNCLASSIFIED-FELO</td>\n      <td>FORGERY</td>\n      <td>F</td>\n      <td>40.575934</td>\n      <td>-73.991135</td>\n    </tr>\n    <tr>\n      <th>103369</th>\n      <td>RECKLESS ENDANGERMENT 1</td>\n      <td>MISCELLANEOUS PENAL LAW</td>\n      <td>F</td>\n      <td>40.686200</td>\n      <td>-73.876218</td>\n    </tr>\n    <tr>\n      <th>103371</th>\n      <td>ROBBERY,OPEN AREA UNCLASSIFIED</td>\n      <td>ROBBERY</td>\n      <td>F</td>\n      <td>40.679767</td>\n      <td>-73.937917</td>\n    </tr>\n    <tr>\n      <th>103373</th>\n      <td>CONTROLLED SUBSTANCE, POSSESSI</td>\n      <td>DANGEROUS DRUGS</td>\n      <td>M</td>\n      <td>40.698857</td>\n      <td>-73.938570</td>\n    </tr>\n    <tr>\n      <th>103375</th>\n      <td>ASSAULT 3</td>\n      <td>ASSAULT 3 &amp; RELATED OFFENSES</td>\n      <td>M</td>\n      <td>40.628026</td>\n      <td>-73.930292</td>\n    </tr>\n  </tbody>\n</table>\n<p>27962 rows × 5 columns</p>\n</div>"
     },
     "metadata": {},
     "execution_count": 20
    }
   ],
   "source": [
    "arrests.drop(columns=['ARREST_KEY','ARREST_DATE','PD_CD','KY_CD','LAW_CODE','ARREST_BORO','ARREST_PRECINCT','JURISDICTION_CODE','AGE_GROUP','PERP_SEX','PERP_RACE','X_COORD_CD','Y_COORD_CD','New Georeferenced Column'], inplace=True)\n",
    "arrests"
   ]
  },
  {
   "cell_type": "code",
   "execution_count": 21,
   "metadata": {},
   "outputs": [
    {
     "output_type": "execute_result",
     "data": {
      "text/plain": [
       "array(['F', 'M', nan, 'V', 'I'], dtype=object)"
      ]
     },
     "metadata": {},
     "execution_count": 21
    }
   ],
   "source": [
    "arrests.LAW_CAT_CD.unique()"
   ]
  },
  {
   "source": [
    "There are following level of offense (LAW_CAT_CD)\n",
    "- V violation (de: 'Verstoss')\n",
    "- I infraction (de: 'Übertrettung')\n",
    "- M misdemeanor (de: 'Übertrettung')\n",
    "- F felony (de: 'Verbrechen')"
   ],
   "cell_type": "markdown",
   "metadata": {}
  },
  {
   "source": [
    "Show some where level of offense is 'Not available'"
   ],
   "cell_type": "markdown",
   "metadata": {}
  },
  {
   "cell_type": "code",
   "execution_count": 22,
   "metadata": {},
   "outputs": [
    {
     "output_type": "execute_result",
     "data": {
      "text/plain": [
       "                       PD_DESC              OFNS_DESC LAW_CAT_CD   Latitude  \\\n",
       "656     U.S. CODE UNCLASSIFIED  FOR OTHER AUTHORITIES        NaN  40.713038   \n",
       "851     U.S. CODE UNCLASSIFIED  FOR OTHER AUTHORITIES        NaN  40.616807   \n",
       "1129    U.S. CODE UNCLASSIFIED  FOR OTHER AUTHORITIES        NaN  40.697970   \n",
       "1460    U.S. CODE UNCLASSIFIED  FOR OTHER AUTHORITIES        NaN  40.617367   \n",
       "2371    U.S. CODE UNCLASSIFIED  FOR OTHER AUTHORITIES        NaN  40.617367   \n",
       "...                        ...                    ...        ...        ...   \n",
       "100613  U.S. CODE UNCLASSIFIED  FOR OTHER AUTHORITIES        NaN  40.697970   \n",
       "101573  U.S. CODE UNCLASSIFIED  FOR OTHER AUTHORITIES        NaN  40.697970   \n",
       "101919  U.S. CODE UNCLASSIFIED  FOR OTHER AUTHORITIES        NaN  40.675274   \n",
       "102611  U.S. CODE UNCLASSIFIED  FOR OTHER AUTHORITIES        NaN  40.665987   \n",
       "102672  U.S. CODE UNCLASSIFIED  FOR OTHER AUTHORITIES        NaN  40.675274   \n",
       "\n",
       "        Longitude  \n",
       "656    -73.960362  \n",
       "851    -74.009280  \n",
       "1129   -73.989933  \n",
       "1460   -74.008700  \n",
       "2371   -74.008700  \n",
       "...           ...  \n",
       "100613 -73.989933  \n",
       "101573 -73.989933  \n",
       "101919 -73.991165  \n",
       "102611 -73.918076  \n",
       "102672 -73.991165  \n",
       "\n",
       "[153 rows x 5 columns]"
      ],
      "text/html": "<div>\n<style scoped>\n    .dataframe tbody tr th:only-of-type {\n        vertical-align: middle;\n    }\n\n    .dataframe tbody tr th {\n        vertical-align: top;\n    }\n\n    .dataframe thead th {\n        text-align: right;\n    }\n</style>\n<table border=\"1\" class=\"dataframe\">\n  <thead>\n    <tr style=\"text-align: right;\">\n      <th></th>\n      <th>PD_DESC</th>\n      <th>OFNS_DESC</th>\n      <th>LAW_CAT_CD</th>\n      <th>Latitude</th>\n      <th>Longitude</th>\n    </tr>\n  </thead>\n  <tbody>\n    <tr>\n      <th>656</th>\n      <td>U.S. CODE UNCLASSIFIED</td>\n      <td>FOR OTHER AUTHORITIES</td>\n      <td>NaN</td>\n      <td>40.713038</td>\n      <td>-73.960362</td>\n    </tr>\n    <tr>\n      <th>851</th>\n      <td>U.S. CODE UNCLASSIFIED</td>\n      <td>FOR OTHER AUTHORITIES</td>\n      <td>NaN</td>\n      <td>40.616807</td>\n      <td>-74.009280</td>\n    </tr>\n    <tr>\n      <th>1129</th>\n      <td>U.S. CODE UNCLASSIFIED</td>\n      <td>FOR OTHER AUTHORITIES</td>\n      <td>NaN</td>\n      <td>40.697970</td>\n      <td>-73.989933</td>\n    </tr>\n    <tr>\n      <th>1460</th>\n      <td>U.S. CODE UNCLASSIFIED</td>\n      <td>FOR OTHER AUTHORITIES</td>\n      <td>NaN</td>\n      <td>40.617367</td>\n      <td>-74.008700</td>\n    </tr>\n    <tr>\n      <th>2371</th>\n      <td>U.S. CODE UNCLASSIFIED</td>\n      <td>FOR OTHER AUTHORITIES</td>\n      <td>NaN</td>\n      <td>40.617367</td>\n      <td>-74.008700</td>\n    </tr>\n    <tr>\n      <th>...</th>\n      <td>...</td>\n      <td>...</td>\n      <td>...</td>\n      <td>...</td>\n      <td>...</td>\n    </tr>\n    <tr>\n      <th>100613</th>\n      <td>U.S. CODE UNCLASSIFIED</td>\n      <td>FOR OTHER AUTHORITIES</td>\n      <td>NaN</td>\n      <td>40.697970</td>\n      <td>-73.989933</td>\n    </tr>\n    <tr>\n      <th>101573</th>\n      <td>U.S. CODE UNCLASSIFIED</td>\n      <td>FOR OTHER AUTHORITIES</td>\n      <td>NaN</td>\n      <td>40.697970</td>\n      <td>-73.989933</td>\n    </tr>\n    <tr>\n      <th>101919</th>\n      <td>U.S. CODE UNCLASSIFIED</td>\n      <td>FOR OTHER AUTHORITIES</td>\n      <td>NaN</td>\n      <td>40.675274</td>\n      <td>-73.991165</td>\n    </tr>\n    <tr>\n      <th>102611</th>\n      <td>U.S. CODE UNCLASSIFIED</td>\n      <td>FOR OTHER AUTHORITIES</td>\n      <td>NaN</td>\n      <td>40.665987</td>\n      <td>-73.918076</td>\n    </tr>\n    <tr>\n      <th>102672</th>\n      <td>U.S. CODE UNCLASSIFIED</td>\n      <td>FOR OTHER AUTHORITIES</td>\n      <td>NaN</td>\n      <td>40.675274</td>\n      <td>-73.991165</td>\n    </tr>\n  </tbody>\n</table>\n<p>153 rows × 5 columns</p>\n</div>"
     },
     "metadata": {},
     "execution_count": 22
    }
   ],
   "source": [
    "arrests[pd.isna(arrests['LAW_CAT_CD'])]"
   ]
  },
  {
   "source": [
    "Show some violations"
   ],
   "cell_type": "markdown",
   "metadata": {}
  },
  {
   "cell_type": "code",
   "execution_count": 23,
   "metadata": {},
   "outputs": [
    {
     "output_type": "execute_result",
     "data": {
      "text/plain": [
       "                               PD_DESC            OFNS_DESC LAW_CAT_CD  \\\n",
       "5190    NY STATE LAWS,UNCLASSIFIED VIO     OTHER STATE LAWS          V   \n",
       "7432    ADM.CODE,UNCLASSIFIED VIOLATIO  ADMINISTRATIVE CODE          V   \n",
       "7672    NY STATE LAWS,UNCLASSIFIED VIO     OTHER STATE LAWS          V   \n",
       "8597    NY STATE LAWS,UNCLASSIFIED VIO     OTHER STATE LAWS          V   \n",
       "11190               DISORDERLY CONDUCT   DISORDERLY CONDUCT          V   \n",
       "...                                ...                  ...        ...   \n",
       "102863       A.B.C.,FALSE PROOF OF AGE     OTHER STATE LAWS          V   \n",
       "103088  NY STATE LAWS,UNCLASSIFIED VIO     OTHER STATE LAWS          V   \n",
       "103220  NY STATE LAWS,UNCLASSIFIED VIO     OTHER STATE LAWS          V   \n",
       "103321  ALCOHOLIC BEVERAGES,PUBLIC CON  ADMINISTRATIVE CODE          V   \n",
       "103333  ALCOHOLIC BEVERAGES,PUBLIC CON  ADMINISTRATIVE CODE          V   \n",
       "\n",
       "         Latitude  Longitude  \n",
       "5190    40.667794 -73.884413  \n",
       "7432    40.687280 -73.944696  \n",
       "7672    40.602071 -74.002692  \n",
       "8597    40.666950 -73.929909  \n",
       "11190   40.613514 -73.997801  \n",
       "...           ...        ...  \n",
       "102863  40.686210 -73.950737  \n",
       "103088  40.575574 -73.981204  \n",
       "103220  40.575574 -73.981204  \n",
       "103321  40.699797 -73.981670  \n",
       "103333  40.695141 -73.975126  \n",
       "\n",
       "[234 rows x 5 columns]"
      ],
      "text/html": "<div>\n<style scoped>\n    .dataframe tbody tr th:only-of-type {\n        vertical-align: middle;\n    }\n\n    .dataframe tbody tr th {\n        vertical-align: top;\n    }\n\n    .dataframe thead th {\n        text-align: right;\n    }\n</style>\n<table border=\"1\" class=\"dataframe\">\n  <thead>\n    <tr style=\"text-align: right;\">\n      <th></th>\n      <th>PD_DESC</th>\n      <th>OFNS_DESC</th>\n      <th>LAW_CAT_CD</th>\n      <th>Latitude</th>\n      <th>Longitude</th>\n    </tr>\n  </thead>\n  <tbody>\n    <tr>\n      <th>5190</th>\n      <td>NY STATE LAWS,UNCLASSIFIED VIO</td>\n      <td>OTHER STATE LAWS</td>\n      <td>V</td>\n      <td>40.667794</td>\n      <td>-73.884413</td>\n    </tr>\n    <tr>\n      <th>7432</th>\n      <td>ADM.CODE,UNCLASSIFIED VIOLATIO</td>\n      <td>ADMINISTRATIVE CODE</td>\n      <td>V</td>\n      <td>40.687280</td>\n      <td>-73.944696</td>\n    </tr>\n    <tr>\n      <th>7672</th>\n      <td>NY STATE LAWS,UNCLASSIFIED VIO</td>\n      <td>OTHER STATE LAWS</td>\n      <td>V</td>\n      <td>40.602071</td>\n      <td>-74.002692</td>\n    </tr>\n    <tr>\n      <th>8597</th>\n      <td>NY STATE LAWS,UNCLASSIFIED VIO</td>\n      <td>OTHER STATE LAWS</td>\n      <td>V</td>\n      <td>40.666950</td>\n      <td>-73.929909</td>\n    </tr>\n    <tr>\n      <th>11190</th>\n      <td>DISORDERLY CONDUCT</td>\n      <td>DISORDERLY CONDUCT</td>\n      <td>V</td>\n      <td>40.613514</td>\n      <td>-73.997801</td>\n    </tr>\n    <tr>\n      <th>...</th>\n      <td>...</td>\n      <td>...</td>\n      <td>...</td>\n      <td>...</td>\n      <td>...</td>\n    </tr>\n    <tr>\n      <th>102863</th>\n      <td>A.B.C.,FALSE PROOF OF AGE</td>\n      <td>OTHER STATE LAWS</td>\n      <td>V</td>\n      <td>40.686210</td>\n      <td>-73.950737</td>\n    </tr>\n    <tr>\n      <th>103088</th>\n      <td>NY STATE LAWS,UNCLASSIFIED VIO</td>\n      <td>OTHER STATE LAWS</td>\n      <td>V</td>\n      <td>40.575574</td>\n      <td>-73.981204</td>\n    </tr>\n    <tr>\n      <th>103220</th>\n      <td>NY STATE LAWS,UNCLASSIFIED VIO</td>\n      <td>OTHER STATE LAWS</td>\n      <td>V</td>\n      <td>40.575574</td>\n      <td>-73.981204</td>\n    </tr>\n    <tr>\n      <th>103321</th>\n      <td>ALCOHOLIC BEVERAGES,PUBLIC CON</td>\n      <td>ADMINISTRATIVE CODE</td>\n      <td>V</td>\n      <td>40.699797</td>\n      <td>-73.981670</td>\n    </tr>\n    <tr>\n      <th>103333</th>\n      <td>ALCOHOLIC BEVERAGES,PUBLIC CON</td>\n      <td>ADMINISTRATIVE CODE</td>\n      <td>V</td>\n      <td>40.695141</td>\n      <td>-73.975126</td>\n    </tr>\n  </tbody>\n</table>\n<p>234 rows × 5 columns</p>\n</div>"
     },
     "metadata": {},
     "execution_count": 23
    }
   ],
   "source": [
    "arrests[arrests['LAW_CAT_CD'] == 'V']"
   ]
  },
  {
   "source": [
    "Show some infractions"
   ],
   "cell_type": "markdown",
   "metadata": {}
  },
  {
   "cell_type": "code",
   "execution_count": 24,
   "metadata": {},
   "outputs": [
    {
     "output_type": "execute_result",
     "data": {
      "text/plain": [
       "                                                  PD_DESC  \\\n",
       "13119   LEAVING THE SCENE / PROPERTY DAMAGE / INJURED ...   \n",
       "16086   LEAVING THE SCENE / PROPERTY DAMAGE / INJURED ...   \n",
       "17848   LEAVING THE SCENE / PROPERTY DAMAGE / INJURED ...   \n",
       "19691                      TRAFFIC,UNCLASSIFIED INFRACTIO   \n",
       "23742                      TRAFFIC,UNCLASSIFIED INFRACTIO   \n",
       "29546                                 UNLICENSED OPERATOR   \n",
       "29931   LEAVING THE SCENE / PROPERTY DAMAGE / INJURED ...   \n",
       "36075                      TRAFFIC,UNCLASSIFIED INFRACTIO   \n",
       "37312                                 UNLICENSED OPERATOR   \n",
       "52011                                 UNLICENSED OPERATOR   \n",
       "65607                      TRAFFIC,UNCLASSIFIED INFRACTIO   \n",
       "65639                      NY STATE LAWS,UNCLASSIFIED VIO   \n",
       "68061                      TRAFFIC,UNCLASSIFIED INFRACTIO   \n",
       "69988                      TRAFFIC,UNCLASSIFIED MISDEMEAN   \n",
       "81413                      ADM.CODE,UNCLASSIFIED VIOLATIO   \n",
       "82747                                     IMPROPER LIGHTS   \n",
       "83181                      TRAFFIC,UNCLASSIFIED MISDEMEAN   \n",
       "84433                      NY STATE LAWS,UNCLASSIFIED VIO   \n",
       "86050                                      FAIL TO SIGNAL   \n",
       "86145                      TRAFFIC,UNCLASSIFIED INFRACTIO   \n",
       "86701                      TRAFFIC,UNCLASSIFIED INFRACTIO   \n",
       "86976                      TRAFFIC,UNCLASSIFIED MISDEMEAN   \n",
       "87843                      TRAFFIC,UNCLASSIFIED INFRACTIO   \n",
       "93497                      TRAFFIC,UNCLASSIFIED INFRACTIO   \n",
       "94913                      TRAFFIC,UNCLASSIFIED MISDEMEAN   \n",
       "98354                                     IMPROPER LIGHTS   \n",
       "100062                     TRAFFIC,UNCLASSIFIED INFRACTIO   \n",
       "\n",
       "                       OFNS_DESC LAW_CAT_CD   Latitude  Longitude  \n",
       "13119   OTHER TRAFFIC INFRACTION          I  40.576283 -73.987957  \n",
       "16086   OTHER TRAFFIC INFRACTION          I  40.664162 -73.946817  \n",
       "17848   OTHER TRAFFIC INFRACTION          I  40.726965 -73.953117  \n",
       "19691   OTHER TRAFFIC INFRACTION          I  40.655718 -73.945259  \n",
       "23742   OTHER TRAFFIC INFRACTION          I  40.676270 -73.892629  \n",
       "29546         MOVING INFRACTIONS          I  40.694075 -73.947496  \n",
       "29931   OTHER TRAFFIC INFRACTION          I  40.594063 -73.960869  \n",
       "36075   OTHER TRAFFIC INFRACTION          I  40.637226 -73.932736  \n",
       "37312         MOVING INFRACTIONS          I  40.658513 -73.914693  \n",
       "52011         MOVING INFRACTIONS          I  40.686952 -73.947531  \n",
       "65607   OTHER TRAFFIC INFRACTION          I  40.681601 -74.007926  \n",
       "65639           OTHER STATE LAWS          I  40.688624 -73.989170  \n",
       "68061   OTHER TRAFFIC INFRACTION          I  40.636115 -74.022913  \n",
       "69988   VEHICLE AND TRAFFIC LAWS          I  40.678266 -74.002230  \n",
       "81413        ADMINISTRATIVE CODE          I  40.648867 -73.950822  \n",
       "82747   OTHER TRAFFIC INFRACTION          I  40.677615 -74.002745  \n",
       "83181   VEHICLE AND TRAFFIC LAWS          I  40.683774 -73.986996  \n",
       "84433           OTHER STATE LAWS          I  40.659958 -73.994880  \n",
       "86050   OTHER TRAFFIC INFRACTION          I  40.632642 -74.012536  \n",
       "86145   OTHER TRAFFIC INFRACTION          I  40.648474 -74.006823  \n",
       "86701   OTHER TRAFFIC INFRACTION          I  40.621501 -74.026215  \n",
       "86976   VEHICLE AND TRAFFIC LAWS          I  40.674750 -73.997770  \n",
       "87843   OTHER TRAFFIC INFRACTION          I  40.676902 -73.900047  \n",
       "93497   OTHER TRAFFIC INFRACTION          I  40.674739 -74.000286  \n",
       "94913   VEHICLE AND TRAFFIC LAWS          I  40.675790 -74.001397  \n",
       "98354   OTHER TRAFFIC INFRACTION          I  40.678584 -74.003571  \n",
       "100062  OTHER TRAFFIC INFRACTION          I  40.622807 -74.028351  "
      ],
      "text/html": "<div>\n<style scoped>\n    .dataframe tbody tr th:only-of-type {\n        vertical-align: middle;\n    }\n\n    .dataframe tbody tr th {\n        vertical-align: top;\n    }\n\n    .dataframe thead th {\n        text-align: right;\n    }\n</style>\n<table border=\"1\" class=\"dataframe\">\n  <thead>\n    <tr style=\"text-align: right;\">\n      <th></th>\n      <th>PD_DESC</th>\n      <th>OFNS_DESC</th>\n      <th>LAW_CAT_CD</th>\n      <th>Latitude</th>\n      <th>Longitude</th>\n    </tr>\n  </thead>\n  <tbody>\n    <tr>\n      <th>13119</th>\n      <td>LEAVING THE SCENE / PROPERTY DAMAGE / INJURED ...</td>\n      <td>OTHER TRAFFIC INFRACTION</td>\n      <td>I</td>\n      <td>40.576283</td>\n      <td>-73.987957</td>\n    </tr>\n    <tr>\n      <th>16086</th>\n      <td>LEAVING THE SCENE / PROPERTY DAMAGE / INJURED ...</td>\n      <td>OTHER TRAFFIC INFRACTION</td>\n      <td>I</td>\n      <td>40.664162</td>\n      <td>-73.946817</td>\n    </tr>\n    <tr>\n      <th>17848</th>\n      <td>LEAVING THE SCENE / PROPERTY DAMAGE / INJURED ...</td>\n      <td>OTHER TRAFFIC INFRACTION</td>\n      <td>I</td>\n      <td>40.726965</td>\n      <td>-73.953117</td>\n    </tr>\n    <tr>\n      <th>19691</th>\n      <td>TRAFFIC,UNCLASSIFIED INFRACTIO</td>\n      <td>OTHER TRAFFIC INFRACTION</td>\n      <td>I</td>\n      <td>40.655718</td>\n      <td>-73.945259</td>\n    </tr>\n    <tr>\n      <th>23742</th>\n      <td>TRAFFIC,UNCLASSIFIED INFRACTIO</td>\n      <td>OTHER TRAFFIC INFRACTION</td>\n      <td>I</td>\n      <td>40.676270</td>\n      <td>-73.892629</td>\n    </tr>\n    <tr>\n      <th>29546</th>\n      <td>UNLICENSED OPERATOR</td>\n      <td>MOVING INFRACTIONS</td>\n      <td>I</td>\n      <td>40.694075</td>\n      <td>-73.947496</td>\n    </tr>\n    <tr>\n      <th>29931</th>\n      <td>LEAVING THE SCENE / PROPERTY DAMAGE / INJURED ...</td>\n      <td>OTHER TRAFFIC INFRACTION</td>\n      <td>I</td>\n      <td>40.594063</td>\n      <td>-73.960869</td>\n    </tr>\n    <tr>\n      <th>36075</th>\n      <td>TRAFFIC,UNCLASSIFIED INFRACTIO</td>\n      <td>OTHER TRAFFIC INFRACTION</td>\n      <td>I</td>\n      <td>40.637226</td>\n      <td>-73.932736</td>\n    </tr>\n    <tr>\n      <th>37312</th>\n      <td>UNLICENSED OPERATOR</td>\n      <td>MOVING INFRACTIONS</td>\n      <td>I</td>\n      <td>40.658513</td>\n      <td>-73.914693</td>\n    </tr>\n    <tr>\n      <th>52011</th>\n      <td>UNLICENSED OPERATOR</td>\n      <td>MOVING INFRACTIONS</td>\n      <td>I</td>\n      <td>40.686952</td>\n      <td>-73.947531</td>\n    </tr>\n    <tr>\n      <th>65607</th>\n      <td>TRAFFIC,UNCLASSIFIED INFRACTIO</td>\n      <td>OTHER TRAFFIC INFRACTION</td>\n      <td>I</td>\n      <td>40.681601</td>\n      <td>-74.007926</td>\n    </tr>\n    <tr>\n      <th>65639</th>\n      <td>NY STATE LAWS,UNCLASSIFIED VIO</td>\n      <td>OTHER STATE LAWS</td>\n      <td>I</td>\n      <td>40.688624</td>\n      <td>-73.989170</td>\n    </tr>\n    <tr>\n      <th>68061</th>\n      <td>TRAFFIC,UNCLASSIFIED INFRACTIO</td>\n      <td>OTHER TRAFFIC INFRACTION</td>\n      <td>I</td>\n      <td>40.636115</td>\n      <td>-74.022913</td>\n    </tr>\n    <tr>\n      <th>69988</th>\n      <td>TRAFFIC,UNCLASSIFIED MISDEMEAN</td>\n      <td>VEHICLE AND TRAFFIC LAWS</td>\n      <td>I</td>\n      <td>40.678266</td>\n      <td>-74.002230</td>\n    </tr>\n    <tr>\n      <th>81413</th>\n      <td>ADM.CODE,UNCLASSIFIED VIOLATIO</td>\n      <td>ADMINISTRATIVE CODE</td>\n      <td>I</td>\n      <td>40.648867</td>\n      <td>-73.950822</td>\n    </tr>\n    <tr>\n      <th>82747</th>\n      <td>IMPROPER LIGHTS</td>\n      <td>OTHER TRAFFIC INFRACTION</td>\n      <td>I</td>\n      <td>40.677615</td>\n      <td>-74.002745</td>\n    </tr>\n    <tr>\n      <th>83181</th>\n      <td>TRAFFIC,UNCLASSIFIED MISDEMEAN</td>\n      <td>VEHICLE AND TRAFFIC LAWS</td>\n      <td>I</td>\n      <td>40.683774</td>\n      <td>-73.986996</td>\n    </tr>\n    <tr>\n      <th>84433</th>\n      <td>NY STATE LAWS,UNCLASSIFIED VIO</td>\n      <td>OTHER STATE LAWS</td>\n      <td>I</td>\n      <td>40.659958</td>\n      <td>-73.994880</td>\n    </tr>\n    <tr>\n      <th>86050</th>\n      <td>FAIL TO SIGNAL</td>\n      <td>OTHER TRAFFIC INFRACTION</td>\n      <td>I</td>\n      <td>40.632642</td>\n      <td>-74.012536</td>\n    </tr>\n    <tr>\n      <th>86145</th>\n      <td>TRAFFIC,UNCLASSIFIED INFRACTIO</td>\n      <td>OTHER TRAFFIC INFRACTION</td>\n      <td>I</td>\n      <td>40.648474</td>\n      <td>-74.006823</td>\n    </tr>\n    <tr>\n      <th>86701</th>\n      <td>TRAFFIC,UNCLASSIFIED INFRACTIO</td>\n      <td>OTHER TRAFFIC INFRACTION</td>\n      <td>I</td>\n      <td>40.621501</td>\n      <td>-74.026215</td>\n    </tr>\n    <tr>\n      <th>86976</th>\n      <td>TRAFFIC,UNCLASSIFIED MISDEMEAN</td>\n      <td>VEHICLE AND TRAFFIC LAWS</td>\n      <td>I</td>\n      <td>40.674750</td>\n      <td>-73.997770</td>\n    </tr>\n    <tr>\n      <th>87843</th>\n      <td>TRAFFIC,UNCLASSIFIED INFRACTIO</td>\n      <td>OTHER TRAFFIC INFRACTION</td>\n      <td>I</td>\n      <td>40.676902</td>\n      <td>-73.900047</td>\n    </tr>\n    <tr>\n      <th>93497</th>\n      <td>TRAFFIC,UNCLASSIFIED INFRACTIO</td>\n      <td>OTHER TRAFFIC INFRACTION</td>\n      <td>I</td>\n      <td>40.674739</td>\n      <td>-74.000286</td>\n    </tr>\n    <tr>\n      <th>94913</th>\n      <td>TRAFFIC,UNCLASSIFIED MISDEMEAN</td>\n      <td>VEHICLE AND TRAFFIC LAWS</td>\n      <td>I</td>\n      <td>40.675790</td>\n      <td>-74.001397</td>\n    </tr>\n    <tr>\n      <th>98354</th>\n      <td>IMPROPER LIGHTS</td>\n      <td>OTHER TRAFFIC INFRACTION</td>\n      <td>I</td>\n      <td>40.678584</td>\n      <td>-74.003571</td>\n    </tr>\n    <tr>\n      <th>100062</th>\n      <td>TRAFFIC,UNCLASSIFIED INFRACTIO</td>\n      <td>OTHER TRAFFIC INFRACTION</td>\n      <td>I</td>\n      <td>40.622807</td>\n      <td>-74.028351</td>\n    </tr>\n  </tbody>\n</table>\n</div>"
     },
     "metadata": {},
     "execution_count": 24
    }
   ],
   "source": [
    "arrests[arrests['LAW_CAT_CD'] == 'I']"
   ]
  },
  {
   "source": [
    "Show some misdemeanor"
   ],
   "cell_type": "markdown",
   "metadata": {}
  },
  {
   "cell_type": "code",
   "execution_count": 25,
   "metadata": {},
   "outputs": [
    {
     "output_type": "execute_result",
     "data": {
      "text/plain": [
       "                                 PD_DESC                       OFNS_DESC  \\\n",
       "9                  MENACING,UNCLASSIFIED    ASSAULT 3 & RELATED OFFENSES   \n",
       "18           BURGLARS TOOLS,UNCLASSIFIED                 BURGLAR'S TOOLS   \n",
       "21                             ASSAULT 3    ASSAULT 3 & RELATED OFFENSES   \n",
       "24        LARCENY,PETIT FROM OPEN AREAS,                   PETIT LARCENY   \n",
       "33        LARCENY,PETIT FROM OPEN AREAS,                   PETIT LARCENY   \n",
       "...                                  ...                             ...   \n",
       "103349                         ASSAULT 3    ASSAULT 3 & RELATED OFFENSES   \n",
       "103356  CRIMINAL MISCHIEF,UNCLASSIFIED 4  CRIMINAL MISCHIEF & RELATED OF   \n",
       "103360    LARCENY,PETIT FROM OPEN AREAS,                   PETIT LARCENY   \n",
       "103373    CONTROLLED SUBSTANCE, POSSESSI                 DANGEROUS DRUGS   \n",
       "103375                         ASSAULT 3    ASSAULT 3 & RELATED OFFENSES   \n",
       "\n",
       "       LAW_CAT_CD   Latitude  Longitude  \n",
       "9               M  40.646338 -74.010837  \n",
       "18              M  40.696185 -73.980358  \n",
       "21              M  40.640145 -74.017264  \n",
       "24              M  40.683363 -73.974867  \n",
       "33              M  40.599969 -73.946151  \n",
       "...           ...        ...        ...  \n",
       "103349          M  40.671111 -73.913563  \n",
       "103356          M  40.671111 -73.913563  \n",
       "103360          M  40.683701 -74.000506  \n",
       "103373          M  40.698857 -73.938570  \n",
       "103375          M  40.628026 -73.930292  \n",
       "\n",
       "[12951 rows x 5 columns]"
      ],
      "text/html": "<div>\n<style scoped>\n    .dataframe tbody tr th:only-of-type {\n        vertical-align: middle;\n    }\n\n    .dataframe tbody tr th {\n        vertical-align: top;\n    }\n\n    .dataframe thead th {\n        text-align: right;\n    }\n</style>\n<table border=\"1\" class=\"dataframe\">\n  <thead>\n    <tr style=\"text-align: right;\">\n      <th></th>\n      <th>PD_DESC</th>\n      <th>OFNS_DESC</th>\n      <th>LAW_CAT_CD</th>\n      <th>Latitude</th>\n      <th>Longitude</th>\n    </tr>\n  </thead>\n  <tbody>\n    <tr>\n      <th>9</th>\n      <td>MENACING,UNCLASSIFIED</td>\n      <td>ASSAULT 3 &amp; RELATED OFFENSES</td>\n      <td>M</td>\n      <td>40.646338</td>\n      <td>-74.010837</td>\n    </tr>\n    <tr>\n      <th>18</th>\n      <td>BURGLARS TOOLS,UNCLASSIFIED</td>\n      <td>BURGLAR'S TOOLS</td>\n      <td>M</td>\n      <td>40.696185</td>\n      <td>-73.980358</td>\n    </tr>\n    <tr>\n      <th>21</th>\n      <td>ASSAULT 3</td>\n      <td>ASSAULT 3 &amp; RELATED OFFENSES</td>\n      <td>M</td>\n      <td>40.640145</td>\n      <td>-74.017264</td>\n    </tr>\n    <tr>\n      <th>24</th>\n      <td>LARCENY,PETIT FROM OPEN AREAS,</td>\n      <td>PETIT LARCENY</td>\n      <td>M</td>\n      <td>40.683363</td>\n      <td>-73.974867</td>\n    </tr>\n    <tr>\n      <th>33</th>\n      <td>LARCENY,PETIT FROM OPEN AREAS,</td>\n      <td>PETIT LARCENY</td>\n      <td>M</td>\n      <td>40.599969</td>\n      <td>-73.946151</td>\n    </tr>\n    <tr>\n      <th>...</th>\n      <td>...</td>\n      <td>...</td>\n      <td>...</td>\n      <td>...</td>\n      <td>...</td>\n    </tr>\n    <tr>\n      <th>103349</th>\n      <td>ASSAULT 3</td>\n      <td>ASSAULT 3 &amp; RELATED OFFENSES</td>\n      <td>M</td>\n      <td>40.671111</td>\n      <td>-73.913563</td>\n    </tr>\n    <tr>\n      <th>103356</th>\n      <td>CRIMINAL MISCHIEF,UNCLASSIFIED 4</td>\n      <td>CRIMINAL MISCHIEF &amp; RELATED OF</td>\n      <td>M</td>\n      <td>40.671111</td>\n      <td>-73.913563</td>\n    </tr>\n    <tr>\n      <th>103360</th>\n      <td>LARCENY,PETIT FROM OPEN AREAS,</td>\n      <td>PETIT LARCENY</td>\n      <td>M</td>\n      <td>40.683701</td>\n      <td>-74.000506</td>\n    </tr>\n    <tr>\n      <th>103373</th>\n      <td>CONTROLLED SUBSTANCE, POSSESSI</td>\n      <td>DANGEROUS DRUGS</td>\n      <td>M</td>\n      <td>40.698857</td>\n      <td>-73.938570</td>\n    </tr>\n    <tr>\n      <th>103375</th>\n      <td>ASSAULT 3</td>\n      <td>ASSAULT 3 &amp; RELATED OFFENSES</td>\n      <td>M</td>\n      <td>40.628026</td>\n      <td>-73.930292</td>\n    </tr>\n  </tbody>\n</table>\n<p>12951 rows × 5 columns</p>\n</div>"
     },
     "metadata": {},
     "execution_count": 25
    }
   ],
   "source": [
    "arrests[arrests['LAW_CAT_CD'] == 'M']"
   ]
  },
  {
   "source": [
    "Show some felonies"
   ],
   "cell_type": "markdown",
   "metadata": {}
  },
  {
   "cell_type": "code",
   "execution_count": 26,
   "metadata": {},
   "outputs": [
    {
     "output_type": "execute_result",
     "data": {
      "text/plain": [
       "                               PD_DESC                       OFNS_DESC  \\\n",
       "5                               RAPE 1                            RAPE   \n",
       "7             WEAPONS POSSESSION 1 & 2               DANGEROUS WEAPONS   \n",
       "8                   CRIMINAL MIS 2 & 3  CRIMINAL MISCHIEF & RELATED OF   \n",
       "10                  CRIMINAL MIS 2 & 3  CRIMINAL MISCHIEF & RELATED OF   \n",
       "17      ROBBERY,OPEN AREA UNCLASSIFIED                         ROBBERY   \n",
       "...                                ...                             ...   \n",
       "103350  PUBLIC ADMINISTRATION,UNCLASSI         MISCELLANEOUS PENAL LAW   \n",
       "103354  CONTROLLED SUBSTANCE,INTENT TO                 DANGEROUS DRUGS   \n",
       "103362  FORGERY,ETC.,UNCLASSIFIED-FELO                         FORGERY   \n",
       "103369         RECKLESS ENDANGERMENT 1         MISCELLANEOUS PENAL LAW   \n",
       "103371  ROBBERY,OPEN AREA UNCLASSIFIED                         ROBBERY   \n",
       "\n",
       "       LAW_CAT_CD   Latitude  Longitude  \n",
       "5               F  40.674583 -73.930222  \n",
       "7               F  40.651655 -73.932325  \n",
       "8               F  40.635839 -73.985899  \n",
       "10              F  40.694602 -73.973125  \n",
       "17              F  40.706290 -73.950350  \n",
       "...           ...        ...        ...  \n",
       "103350          F  40.611446 -74.011855  \n",
       "103354          F  40.689405 -73.981117  \n",
       "103362          F  40.575934 -73.991135  \n",
       "103369          F  40.686200 -73.876218  \n",
       "103371          F  40.679767 -73.937917  \n",
       "\n",
       "[14597 rows x 5 columns]"
      ],
      "text/html": "<div>\n<style scoped>\n    .dataframe tbody tr th:only-of-type {\n        vertical-align: middle;\n    }\n\n    .dataframe tbody tr th {\n        vertical-align: top;\n    }\n\n    .dataframe thead th {\n        text-align: right;\n    }\n</style>\n<table border=\"1\" class=\"dataframe\">\n  <thead>\n    <tr style=\"text-align: right;\">\n      <th></th>\n      <th>PD_DESC</th>\n      <th>OFNS_DESC</th>\n      <th>LAW_CAT_CD</th>\n      <th>Latitude</th>\n      <th>Longitude</th>\n    </tr>\n  </thead>\n  <tbody>\n    <tr>\n      <th>5</th>\n      <td>RAPE 1</td>\n      <td>RAPE</td>\n      <td>F</td>\n      <td>40.674583</td>\n      <td>-73.930222</td>\n    </tr>\n    <tr>\n      <th>7</th>\n      <td>WEAPONS POSSESSION 1 &amp; 2</td>\n      <td>DANGEROUS WEAPONS</td>\n      <td>F</td>\n      <td>40.651655</td>\n      <td>-73.932325</td>\n    </tr>\n    <tr>\n      <th>8</th>\n      <td>CRIMINAL MIS 2 &amp; 3</td>\n      <td>CRIMINAL MISCHIEF &amp; RELATED OF</td>\n      <td>F</td>\n      <td>40.635839</td>\n      <td>-73.985899</td>\n    </tr>\n    <tr>\n      <th>10</th>\n      <td>CRIMINAL MIS 2 &amp; 3</td>\n      <td>CRIMINAL MISCHIEF &amp; RELATED OF</td>\n      <td>F</td>\n      <td>40.694602</td>\n      <td>-73.973125</td>\n    </tr>\n    <tr>\n      <th>17</th>\n      <td>ROBBERY,OPEN AREA UNCLASSIFIED</td>\n      <td>ROBBERY</td>\n      <td>F</td>\n      <td>40.706290</td>\n      <td>-73.950350</td>\n    </tr>\n    <tr>\n      <th>...</th>\n      <td>...</td>\n      <td>...</td>\n      <td>...</td>\n      <td>...</td>\n      <td>...</td>\n    </tr>\n    <tr>\n      <th>103350</th>\n      <td>PUBLIC ADMINISTRATION,UNCLASSI</td>\n      <td>MISCELLANEOUS PENAL LAW</td>\n      <td>F</td>\n      <td>40.611446</td>\n      <td>-74.011855</td>\n    </tr>\n    <tr>\n      <th>103354</th>\n      <td>CONTROLLED SUBSTANCE,INTENT TO</td>\n      <td>DANGEROUS DRUGS</td>\n      <td>F</td>\n      <td>40.689405</td>\n      <td>-73.981117</td>\n    </tr>\n    <tr>\n      <th>103362</th>\n      <td>FORGERY,ETC.,UNCLASSIFIED-FELO</td>\n      <td>FORGERY</td>\n      <td>F</td>\n      <td>40.575934</td>\n      <td>-73.991135</td>\n    </tr>\n    <tr>\n      <th>103369</th>\n      <td>RECKLESS ENDANGERMENT 1</td>\n      <td>MISCELLANEOUS PENAL LAW</td>\n      <td>F</td>\n      <td>40.686200</td>\n      <td>-73.876218</td>\n    </tr>\n    <tr>\n      <th>103371</th>\n      <td>ROBBERY,OPEN AREA UNCLASSIFIED</td>\n      <td>ROBBERY</td>\n      <td>F</td>\n      <td>40.679767</td>\n      <td>-73.937917</td>\n    </tr>\n  </tbody>\n</table>\n<p>14597 rows × 5 columns</p>\n</div>"
     },
     "metadata": {},
     "execution_count": 26
    }
   ],
   "source": [
    "arrests[arrests['LAW_CAT_CD'] == 'F']"
   ]
  },
  {
   "cell_type": "code",
   "execution_count": 27,
   "metadata": {},
   "outputs": [
    {
     "output_type": "execute_result",
     "data": {
      "text/plain": [
       "                               PD_DESC                       OFNS_DESC  \\\n",
       "5                               RAPE 1                            RAPE   \n",
       "7             WEAPONS POSSESSION 1 & 2               DANGEROUS WEAPONS   \n",
       "8                   CRIMINAL MIS 2 & 3  CRIMINAL MISCHIEF & RELATED OF   \n",
       "9                MENACING,UNCLASSIFIED    ASSAULT 3 & RELATED OFFENSES   \n",
       "10                  CRIMINAL MIS 2 & 3  CRIMINAL MISCHIEF & RELATED OF   \n",
       "...                                ...                             ...   \n",
       "103362  FORGERY,ETC.,UNCLASSIFIED-FELO                         FORGERY   \n",
       "103369         RECKLESS ENDANGERMENT 1         MISCELLANEOUS PENAL LAW   \n",
       "103371  ROBBERY,OPEN AREA UNCLASSIFIED                         ROBBERY   \n",
       "103373  CONTROLLED SUBSTANCE, POSSESSI                 DANGEROUS DRUGS   \n",
       "103375                       ASSAULT 3    ASSAULT 3 & RELATED OFFENSES   \n",
       "\n",
       "       LAW_CAT_CD   Latitude  Longitude  Weight  \n",
       "5               F  40.674583 -73.930222       5  \n",
       "7               F  40.651655 -73.932325       5  \n",
       "8               F  40.635839 -73.985899       5  \n",
       "9               M  40.646338 -74.010837       2  \n",
       "10              F  40.694602 -73.973125       5  \n",
       "...           ...        ...        ...     ...  \n",
       "103362          F  40.575934 -73.991135       5  \n",
       "103369          F  40.686200 -73.876218       5  \n",
       "103371          F  40.679767 -73.937917       5  \n",
       "103373          M  40.698857 -73.938570       2  \n",
       "103375          M  40.628026 -73.930292       2  \n",
       "\n",
       "[27962 rows x 6 columns]"
      ],
      "text/html": "<div>\n<style scoped>\n    .dataframe tbody tr th:only-of-type {\n        vertical-align: middle;\n    }\n\n    .dataframe tbody tr th {\n        vertical-align: top;\n    }\n\n    .dataframe thead th {\n        text-align: right;\n    }\n</style>\n<table border=\"1\" class=\"dataframe\">\n  <thead>\n    <tr style=\"text-align: right;\">\n      <th></th>\n      <th>PD_DESC</th>\n      <th>OFNS_DESC</th>\n      <th>LAW_CAT_CD</th>\n      <th>Latitude</th>\n      <th>Longitude</th>\n      <th>Weight</th>\n    </tr>\n  </thead>\n  <tbody>\n    <tr>\n      <th>5</th>\n      <td>RAPE 1</td>\n      <td>RAPE</td>\n      <td>F</td>\n      <td>40.674583</td>\n      <td>-73.930222</td>\n      <td>5</td>\n    </tr>\n    <tr>\n      <th>7</th>\n      <td>WEAPONS POSSESSION 1 &amp; 2</td>\n      <td>DANGEROUS WEAPONS</td>\n      <td>F</td>\n      <td>40.651655</td>\n      <td>-73.932325</td>\n      <td>5</td>\n    </tr>\n    <tr>\n      <th>8</th>\n      <td>CRIMINAL MIS 2 &amp; 3</td>\n      <td>CRIMINAL MISCHIEF &amp; RELATED OF</td>\n      <td>F</td>\n      <td>40.635839</td>\n      <td>-73.985899</td>\n      <td>5</td>\n    </tr>\n    <tr>\n      <th>9</th>\n      <td>MENACING,UNCLASSIFIED</td>\n      <td>ASSAULT 3 &amp; RELATED OFFENSES</td>\n      <td>M</td>\n      <td>40.646338</td>\n      <td>-74.010837</td>\n      <td>2</td>\n    </tr>\n    <tr>\n      <th>10</th>\n      <td>CRIMINAL MIS 2 &amp; 3</td>\n      <td>CRIMINAL MISCHIEF &amp; RELATED OF</td>\n      <td>F</td>\n      <td>40.694602</td>\n      <td>-73.973125</td>\n      <td>5</td>\n    </tr>\n    <tr>\n      <th>...</th>\n      <td>...</td>\n      <td>...</td>\n      <td>...</td>\n      <td>...</td>\n      <td>...</td>\n      <td>...</td>\n    </tr>\n    <tr>\n      <th>103362</th>\n      <td>FORGERY,ETC.,UNCLASSIFIED-FELO</td>\n      <td>FORGERY</td>\n      <td>F</td>\n      <td>40.575934</td>\n      <td>-73.991135</td>\n      <td>5</td>\n    </tr>\n    <tr>\n      <th>103369</th>\n      <td>RECKLESS ENDANGERMENT 1</td>\n      <td>MISCELLANEOUS PENAL LAW</td>\n      <td>F</td>\n      <td>40.686200</td>\n      <td>-73.876218</td>\n      <td>5</td>\n    </tr>\n    <tr>\n      <th>103371</th>\n      <td>ROBBERY,OPEN AREA UNCLASSIFIED</td>\n      <td>ROBBERY</td>\n      <td>F</td>\n      <td>40.679767</td>\n      <td>-73.937917</td>\n      <td>5</td>\n    </tr>\n    <tr>\n      <th>103373</th>\n      <td>CONTROLLED SUBSTANCE, POSSESSI</td>\n      <td>DANGEROUS DRUGS</td>\n      <td>M</td>\n      <td>40.698857</td>\n      <td>-73.938570</td>\n      <td>2</td>\n    </tr>\n    <tr>\n      <th>103375</th>\n      <td>ASSAULT 3</td>\n      <td>ASSAULT 3 &amp; RELATED OFFENSES</td>\n      <td>M</td>\n      <td>40.628026</td>\n      <td>-73.930292</td>\n      <td>2</td>\n    </tr>\n  </tbody>\n</table>\n<p>27962 rows × 6 columns</p>\n</div>"
     },
     "metadata": {},
     "execution_count": 27
    }
   ],
   "source": [
    "from collections import defaultdict\n",
    "\n",
    "weigths = defaultdict(lambda : weigth_na)\n",
    "weigths['V'] = weigth_violation\n",
    "weigths['M'] = weigth_misdemeanor\n",
    "weigths['I'] = weigth_infraction\n",
    "weigths['F'] = weigth_felony\n",
    "\n",
    "arrests[\"Weight\"] = arrests.apply(lambda row: weigths[row[\"LAW_CAT_CD\"]], axis=1)\n",
    "arrests"
   ]
  },
  {
   "cell_type": "code",
   "execution_count": 28,
   "metadata": {},
   "outputs": [
    {
     "output_type": "execute_result",
     "data": {
      "text/plain": [
       "         Latitude  Longitude  Weight\n",
       "5       40.674583 -73.930222       5\n",
       "7       40.651655 -73.932325       5\n",
       "8       40.635839 -73.985899       5\n",
       "9       40.646338 -74.010837       2\n",
       "10      40.694602 -73.973125       5\n",
       "...           ...        ...     ...\n",
       "103362  40.575934 -73.991135       5\n",
       "103369  40.686200 -73.876218       5\n",
       "103371  40.679767 -73.937917       5\n",
       "103373  40.698857 -73.938570       2\n",
       "103375  40.628026 -73.930292       2\n",
       "\n",
       "[27962 rows x 3 columns]"
      ],
      "text/html": "<div>\n<style scoped>\n    .dataframe tbody tr th:only-of-type {\n        vertical-align: middle;\n    }\n\n    .dataframe tbody tr th {\n        vertical-align: top;\n    }\n\n    .dataframe thead th {\n        text-align: right;\n    }\n</style>\n<table border=\"1\" class=\"dataframe\">\n  <thead>\n    <tr style=\"text-align: right;\">\n      <th></th>\n      <th>Latitude</th>\n      <th>Longitude</th>\n      <th>Weight</th>\n    </tr>\n  </thead>\n  <tbody>\n    <tr>\n      <th>5</th>\n      <td>40.674583</td>\n      <td>-73.930222</td>\n      <td>5</td>\n    </tr>\n    <tr>\n      <th>7</th>\n      <td>40.651655</td>\n      <td>-73.932325</td>\n      <td>5</td>\n    </tr>\n    <tr>\n      <th>8</th>\n      <td>40.635839</td>\n      <td>-73.985899</td>\n      <td>5</td>\n    </tr>\n    <tr>\n      <th>9</th>\n      <td>40.646338</td>\n      <td>-74.010837</td>\n      <td>2</td>\n    </tr>\n    <tr>\n      <th>10</th>\n      <td>40.694602</td>\n      <td>-73.973125</td>\n      <td>5</td>\n    </tr>\n    <tr>\n      <th>...</th>\n      <td>...</td>\n      <td>...</td>\n      <td>...</td>\n    </tr>\n    <tr>\n      <th>103362</th>\n      <td>40.575934</td>\n      <td>-73.991135</td>\n      <td>5</td>\n    </tr>\n    <tr>\n      <th>103369</th>\n      <td>40.686200</td>\n      <td>-73.876218</td>\n      <td>5</td>\n    </tr>\n    <tr>\n      <th>103371</th>\n      <td>40.679767</td>\n      <td>-73.937917</td>\n      <td>5</td>\n    </tr>\n    <tr>\n      <th>103373</th>\n      <td>40.698857</td>\n      <td>-73.938570</td>\n      <td>2</td>\n    </tr>\n    <tr>\n      <th>103375</th>\n      <td>40.628026</td>\n      <td>-73.930292</td>\n      <td>2</td>\n    </tr>\n  </tbody>\n</table>\n<p>27962 rows × 3 columns</p>\n</div>"
     },
     "metadata": {},
     "execution_count": 28
    }
   ],
   "source": [
    "arrests.drop(columns=['PD_DESC','OFNS_DESC','LAW_CAT_CD'], inplace=True)\n",
    "arrests"
   ]
  },
  {
   "cell_type": "code",
   "execution_count": 29,
   "metadata": {},
   "outputs": [
    {
     "output_type": "execute_result",
     "data": {
      "text/plain": [
       "      INCIDENT_KEY  OCCUR_DATE OCCUR_TIME       BORO  PRECINCT  \\\n",
       "0        216972672  08/24/2020   15:11:00      BRONX        44   \n",
       "1        217953750  09/16/2020   16:50:00  MANHATTAN        33   \n",
       "2        217540562  09/07/2020   02:49:00   BROOKLYN        71   \n",
       "3        217773056  09/12/2020   00:40:00   BROOKLYN        75   \n",
       "4        218560117  09/30/2020   21:07:00   BROOKLYN        75   \n",
       "...            ...         ...        ...        ...       ...   \n",
       "1496     216360325  08/09/2020   22:40:00   BROOKLYN        79   \n",
       "1497     213748379  06/01/2020   19:14:00   BROOKLYN        83   \n",
       "1498     216927396  08/22/2020   06:00:00     QUEENS       113   \n",
       "1499     212640530  05/02/2020   19:50:00     QUEENS       114   \n",
       "1500     213099073  05/14/2020   01:03:00     QUEENS       100   \n",
       "\n",
       "      JURISDICTION_CODE              LOCATION_DESC  STATISTICAL_MURDER_FLAG  \\\n",
       "0                     0                        NaN                    False   \n",
       "1                     0                        NaN                    False   \n",
       "2                     0                        NaN                    False   \n",
       "3                     0                        NaN                    False   \n",
       "4                     2  MULTI DWELL - PUBLIC HOUS                    False   \n",
       "...                 ...                        ...                      ...   \n",
       "1496                  2  MULTI DWELL - PUBLIC HOUS                    False   \n",
       "1497                  0                        NaN                    False   \n",
       "1498                  0                        NaN                    False   \n",
       "1499                  0                        NaN                    False   \n",
       "1500                  0                        NaN                     True   \n",
       "\n",
       "     PERP_AGE_GROUP PERP_SEX       PERP_RACE VIC_AGE_GROUP VIC_SEX  \\\n",
       "0               NaN      NaN             NaN         18-24       M   \n",
       "1             25-44        M  WHITE HISPANIC         25-44       F   \n",
       "2               <18        M           BLACK         45-64       F   \n",
       "3               NaN      NaN             NaN         25-44       M   \n",
       "4               NaN      NaN             NaN         25-44       M   \n",
       "...             ...      ...             ...           ...     ...   \n",
       "1496            NaN      NaN             NaN         18-24       M   \n",
       "1497          18-24        M           BLACK         18-24       M   \n",
       "1498            NaN      NaN             NaN         25-44       M   \n",
       "1499            NaN      NaN             NaN         18-24       M   \n",
       "1500          25-44        M           BLACK         18-24       M   \n",
       "\n",
       "            VIC_RACE  X_COORD_CD  Y_COORD_CD   Latitude  Longitude  \\\n",
       "0              BLACK     1004279      244490  40.837729 -73.927618   \n",
       "1     WHITE HISPANIC      999855      244888  40.838831 -73.943605   \n",
       "2              BLACK      997889      182027  40.666297 -73.950838   \n",
       "3              BLACK     1015238      180730  40.662693 -73.888307   \n",
       "4              BLACK     1019084      183993  40.671635 -73.874428   \n",
       "...              ...         ...         ...        ...        ...   \n",
       "1496           BLACK      995619      190846  40.690506 -73.959006   \n",
       "1497           BLACK     1006880      190544  40.689655 -73.918400   \n",
       "1498           BLACK     1051329      196646  40.706179 -73.758061   \n",
       "1499  WHITE HISPANIC     1009645      213978  40.753968 -73.908341   \n",
       "1500           BLACK     1036176      153315  40.587347 -73.813049   \n",
       "\n",
       "                           New Georeferenced Column  \n",
       "0      POINT (-73.92761826599997 40.83772938900006)  \n",
       "1      POINT (-73.94360531399997 40.83883070900004)  \n",
       "2      POINT (-73.95083788699996 40.66629650100003)  \n",
       "3      POINT (-73.88830715999995 40.66269280500006)  \n",
       "4     POINT (-73.87442765599997 40.671634710000035)  \n",
       "...                                             ...  \n",
       "1496   POINT (-73.95900552099994 40.69050586900005)  \n",
       "1497  POINT (-73.91840006999998 40.689655320000035)  \n",
       "1498   POINT (-73.75806147399999 40.70617856900003)  \n",
       "1499  POINT (-73.90834136499996 40.753968462000046)  \n",
       "1500   POINT (-73.81304853899996 40.58734650400004)  \n",
       "\n",
       "[1501 rows x 19 columns]"
      ],
      "text/html": "<div>\n<style scoped>\n    .dataframe tbody tr th:only-of-type {\n        vertical-align: middle;\n    }\n\n    .dataframe tbody tr th {\n        vertical-align: top;\n    }\n\n    .dataframe thead th {\n        text-align: right;\n    }\n</style>\n<table border=\"1\" class=\"dataframe\">\n  <thead>\n    <tr style=\"text-align: right;\">\n      <th></th>\n      <th>INCIDENT_KEY</th>\n      <th>OCCUR_DATE</th>\n      <th>OCCUR_TIME</th>\n      <th>BORO</th>\n      <th>PRECINCT</th>\n      <th>JURISDICTION_CODE</th>\n      <th>LOCATION_DESC</th>\n      <th>STATISTICAL_MURDER_FLAG</th>\n      <th>PERP_AGE_GROUP</th>\n      <th>PERP_SEX</th>\n      <th>PERP_RACE</th>\n      <th>VIC_AGE_GROUP</th>\n      <th>VIC_SEX</th>\n      <th>VIC_RACE</th>\n      <th>X_COORD_CD</th>\n      <th>Y_COORD_CD</th>\n      <th>Latitude</th>\n      <th>Longitude</th>\n      <th>New Georeferenced Column</th>\n    </tr>\n  </thead>\n  <tbody>\n    <tr>\n      <th>0</th>\n      <td>216972672</td>\n      <td>08/24/2020</td>\n      <td>15:11:00</td>\n      <td>BRONX</td>\n      <td>44</td>\n      <td>0</td>\n      <td>NaN</td>\n      <td>False</td>\n      <td>NaN</td>\n      <td>NaN</td>\n      <td>NaN</td>\n      <td>18-24</td>\n      <td>M</td>\n      <td>BLACK</td>\n      <td>1004279</td>\n      <td>244490</td>\n      <td>40.837729</td>\n      <td>-73.927618</td>\n      <td>POINT (-73.92761826599997 40.83772938900006)</td>\n    </tr>\n    <tr>\n      <th>1</th>\n      <td>217953750</td>\n      <td>09/16/2020</td>\n      <td>16:50:00</td>\n      <td>MANHATTAN</td>\n      <td>33</td>\n      <td>0</td>\n      <td>NaN</td>\n      <td>False</td>\n      <td>25-44</td>\n      <td>M</td>\n      <td>WHITE HISPANIC</td>\n      <td>25-44</td>\n      <td>F</td>\n      <td>WHITE HISPANIC</td>\n      <td>999855</td>\n      <td>244888</td>\n      <td>40.838831</td>\n      <td>-73.943605</td>\n      <td>POINT (-73.94360531399997 40.83883070900004)</td>\n    </tr>\n    <tr>\n      <th>2</th>\n      <td>217540562</td>\n      <td>09/07/2020</td>\n      <td>02:49:00</td>\n      <td>BROOKLYN</td>\n      <td>71</td>\n      <td>0</td>\n      <td>NaN</td>\n      <td>False</td>\n      <td>&lt;18</td>\n      <td>M</td>\n      <td>BLACK</td>\n      <td>45-64</td>\n      <td>F</td>\n      <td>BLACK</td>\n      <td>997889</td>\n      <td>182027</td>\n      <td>40.666297</td>\n      <td>-73.950838</td>\n      <td>POINT (-73.95083788699996 40.66629650100003)</td>\n    </tr>\n    <tr>\n      <th>3</th>\n      <td>217773056</td>\n      <td>09/12/2020</td>\n      <td>00:40:00</td>\n      <td>BROOKLYN</td>\n      <td>75</td>\n      <td>0</td>\n      <td>NaN</td>\n      <td>False</td>\n      <td>NaN</td>\n      <td>NaN</td>\n      <td>NaN</td>\n      <td>25-44</td>\n      <td>M</td>\n      <td>BLACK</td>\n      <td>1015238</td>\n      <td>180730</td>\n      <td>40.662693</td>\n      <td>-73.888307</td>\n      <td>POINT (-73.88830715999995 40.66269280500006)</td>\n    </tr>\n    <tr>\n      <th>4</th>\n      <td>218560117</td>\n      <td>09/30/2020</td>\n      <td>21:07:00</td>\n      <td>BROOKLYN</td>\n      <td>75</td>\n      <td>2</td>\n      <td>MULTI DWELL - PUBLIC HOUS</td>\n      <td>False</td>\n      <td>NaN</td>\n      <td>NaN</td>\n      <td>NaN</td>\n      <td>25-44</td>\n      <td>M</td>\n      <td>BLACK</td>\n      <td>1019084</td>\n      <td>183993</td>\n      <td>40.671635</td>\n      <td>-73.874428</td>\n      <td>POINT (-73.87442765599997 40.671634710000035)</td>\n    </tr>\n    <tr>\n      <th>...</th>\n      <td>...</td>\n      <td>...</td>\n      <td>...</td>\n      <td>...</td>\n      <td>...</td>\n      <td>...</td>\n      <td>...</td>\n      <td>...</td>\n      <td>...</td>\n      <td>...</td>\n      <td>...</td>\n      <td>...</td>\n      <td>...</td>\n      <td>...</td>\n      <td>...</td>\n      <td>...</td>\n      <td>...</td>\n      <td>...</td>\n      <td>...</td>\n    </tr>\n    <tr>\n      <th>1496</th>\n      <td>216360325</td>\n      <td>08/09/2020</td>\n      <td>22:40:00</td>\n      <td>BROOKLYN</td>\n      <td>79</td>\n      <td>2</td>\n      <td>MULTI DWELL - PUBLIC HOUS</td>\n      <td>False</td>\n      <td>NaN</td>\n      <td>NaN</td>\n      <td>NaN</td>\n      <td>18-24</td>\n      <td>M</td>\n      <td>BLACK</td>\n      <td>995619</td>\n      <td>190846</td>\n      <td>40.690506</td>\n      <td>-73.959006</td>\n      <td>POINT (-73.95900552099994 40.69050586900005)</td>\n    </tr>\n    <tr>\n      <th>1497</th>\n      <td>213748379</td>\n      <td>06/01/2020</td>\n      <td>19:14:00</td>\n      <td>BROOKLYN</td>\n      <td>83</td>\n      <td>0</td>\n      <td>NaN</td>\n      <td>False</td>\n      <td>18-24</td>\n      <td>M</td>\n      <td>BLACK</td>\n      <td>18-24</td>\n      <td>M</td>\n      <td>BLACK</td>\n      <td>1006880</td>\n      <td>190544</td>\n      <td>40.689655</td>\n      <td>-73.918400</td>\n      <td>POINT (-73.91840006999998 40.689655320000035)</td>\n    </tr>\n    <tr>\n      <th>1498</th>\n      <td>216927396</td>\n      <td>08/22/2020</td>\n      <td>06:00:00</td>\n      <td>QUEENS</td>\n      <td>113</td>\n      <td>0</td>\n      <td>NaN</td>\n      <td>False</td>\n      <td>NaN</td>\n      <td>NaN</td>\n      <td>NaN</td>\n      <td>25-44</td>\n      <td>M</td>\n      <td>BLACK</td>\n      <td>1051329</td>\n      <td>196646</td>\n      <td>40.706179</td>\n      <td>-73.758061</td>\n      <td>POINT (-73.75806147399999 40.70617856900003)</td>\n    </tr>\n    <tr>\n      <th>1499</th>\n      <td>212640530</td>\n      <td>05/02/2020</td>\n      <td>19:50:00</td>\n      <td>QUEENS</td>\n      <td>114</td>\n      <td>0</td>\n      <td>NaN</td>\n      <td>False</td>\n      <td>NaN</td>\n      <td>NaN</td>\n      <td>NaN</td>\n      <td>18-24</td>\n      <td>M</td>\n      <td>WHITE HISPANIC</td>\n      <td>1009645</td>\n      <td>213978</td>\n      <td>40.753968</td>\n      <td>-73.908341</td>\n      <td>POINT (-73.90834136499996 40.753968462000046)</td>\n    </tr>\n    <tr>\n      <th>1500</th>\n      <td>213099073</td>\n      <td>05/14/2020</td>\n      <td>01:03:00</td>\n      <td>QUEENS</td>\n      <td>100</td>\n      <td>0</td>\n      <td>NaN</td>\n      <td>True</td>\n      <td>25-44</td>\n      <td>M</td>\n      <td>BLACK</td>\n      <td>18-24</td>\n      <td>M</td>\n      <td>BLACK</td>\n      <td>1036176</td>\n      <td>153315</td>\n      <td>40.587347</td>\n      <td>-73.813049</td>\n      <td>POINT (-73.81304853899996 40.58734650400004)</td>\n    </tr>\n  </tbody>\n</table>\n<p>1501 rows × 19 columns</p>\n</div>"
     },
     "metadata": {},
     "execution_count": 29
    }
   ],
   "source": [
    "shootings = pd.read_csv('./../data/1_original/NYPD_Shooting_Incident_Data_Year_To_Date.csv')\n",
    "shootings"
   ]
  },
  {
   "source": [
    "Filter out shootings which did not happen in Brooklyn (BROOKLYN)"
   ],
   "cell_type": "markdown",
   "metadata": {}
  },
  {
   "cell_type": "code",
   "execution_count": 30,
   "metadata": {},
   "outputs": [
    {
     "output_type": "execute_result",
     "data": {
      "text/plain": [
       "      INCIDENT_KEY  OCCUR_DATE OCCUR_TIME      BORO  PRECINCT  \\\n",
       "2        217540562  09/07/2020   02:49:00  BROOKLYN        71   \n",
       "3        217773056  09/12/2020   00:40:00  BROOKLYN        75   \n",
       "4        218560117  09/30/2020   21:07:00  BROOKLYN        75   \n",
       "8        218567380  09/30/2020   01:52:00  BROOKLYN        60   \n",
       "9        217594075  09/08/2020   22:40:00  BROOKLYN        79   \n",
       "...            ...         ...        ...       ...       ...   \n",
       "1490     214948388  07/05/2020   00:43:00  BROOKLYN        75   \n",
       "1493     211964521  04/11/2020   19:58:00  BROOKLYN        77   \n",
       "1495     214513455  06/23/2020   22:04:00  BROOKLYN        63   \n",
       "1496     216360325  08/09/2020   22:40:00  BROOKLYN        79   \n",
       "1497     213748379  06/01/2020   19:14:00  BROOKLYN        83   \n",
       "\n",
       "      JURISDICTION_CODE              LOCATION_DESC  STATISTICAL_MURDER_FLAG  \\\n",
       "2                     0                        NaN                    False   \n",
       "3                     0                        NaN                    False   \n",
       "4                     2  MULTI DWELL - PUBLIC HOUS                    False   \n",
       "8                     0            COMMERCIAL BLDG                    False   \n",
       "9                     2  MULTI DWELL - PUBLIC HOUS                    False   \n",
       "...                 ...                        ...                      ...   \n",
       "1490                  0                        NaN                     True   \n",
       "1493                  0                        NaN                     True   \n",
       "1495                  0                  PVT HOUSE                    False   \n",
       "1496                  2  MULTI DWELL - PUBLIC HOUS                    False   \n",
       "1497                  0                        NaN                    False   \n",
       "\n",
       "     PERP_AGE_GROUP PERP_SEX PERP_RACE VIC_AGE_GROUP VIC_SEX        VIC_RACE  \\\n",
       "2               <18        M     BLACK         45-64       F           BLACK   \n",
       "3               NaN      NaN       NaN         25-44       M           BLACK   \n",
       "4               NaN      NaN       NaN         25-44       M           BLACK   \n",
       "8               NaN      NaN       NaN         25-44       M         UNKNOWN   \n",
       "9               NaN      NaN       NaN         45-64       F  WHITE HISPANIC   \n",
       "...             ...      ...       ...           ...     ...             ...   \n",
       "1490            NaN      NaN       NaN         18-24       M  BLACK HISPANIC   \n",
       "1493            NaN      NaN       NaN         25-44       M           BLACK   \n",
       "1495            NaN      NaN       NaN         25-44       U           BLACK   \n",
       "1496            NaN      NaN       NaN         18-24       M           BLACK   \n",
       "1497          18-24        M     BLACK         18-24       M           BLACK   \n",
       "\n",
       "      X_COORD_CD  Y_COORD_CD   Latitude  Longitude  \\\n",
       "2         997889      182027  40.666297 -73.950838   \n",
       "3        1015238      180730  40.662693 -73.888307   \n",
       "4        1019084      183993  40.671635 -73.874428   \n",
       "8         988584      150694  40.580303 -73.984399   \n",
       "9         998184      193621  40.698119 -73.949751   \n",
       "...          ...         ...        ...        ...   \n",
       "1490     1017869      184766  40.673761 -73.878804   \n",
       "1493     1004952      183648  40.670732 -73.925373   \n",
       "1495     1004029      167694  40.626944 -73.928747   \n",
       "1496      995619      190846  40.690506 -73.959006   \n",
       "1497     1006880      190544  40.689655 -73.918400   \n",
       "\n",
       "                           New Georeferenced Column  \n",
       "2      POINT (-73.95083788699996 40.66629650100003)  \n",
       "3      POINT (-73.88830715999995 40.66269280500006)  \n",
       "4     POINT (-73.87442765599997 40.671634710000035)  \n",
       "8      POINT (-73.98439908599995 40.58030340400006)  \n",
       "9     POINT (-73.94975054899999 40.698118935000025)  \n",
       "...                                             ...  \n",
       "1490  POINT (-73.87880377199998 40.673761118000066)  \n",
       "1493   POINT (-73.92537341399996 40.67073208700003)  \n",
       "1495   POINT (-73.92874748599996 40.62694393200008)  \n",
       "1496   POINT (-73.95900552099994 40.69050586900005)  \n",
       "1497  POINT (-73.91840006999998 40.689655320000035)  \n",
       "\n",
       "[636 rows x 19 columns]"
      ],
      "text/html": "<div>\n<style scoped>\n    .dataframe tbody tr th:only-of-type {\n        vertical-align: middle;\n    }\n\n    .dataframe tbody tr th {\n        vertical-align: top;\n    }\n\n    .dataframe thead th {\n        text-align: right;\n    }\n</style>\n<table border=\"1\" class=\"dataframe\">\n  <thead>\n    <tr style=\"text-align: right;\">\n      <th></th>\n      <th>INCIDENT_KEY</th>\n      <th>OCCUR_DATE</th>\n      <th>OCCUR_TIME</th>\n      <th>BORO</th>\n      <th>PRECINCT</th>\n      <th>JURISDICTION_CODE</th>\n      <th>LOCATION_DESC</th>\n      <th>STATISTICAL_MURDER_FLAG</th>\n      <th>PERP_AGE_GROUP</th>\n      <th>PERP_SEX</th>\n      <th>PERP_RACE</th>\n      <th>VIC_AGE_GROUP</th>\n      <th>VIC_SEX</th>\n      <th>VIC_RACE</th>\n      <th>X_COORD_CD</th>\n      <th>Y_COORD_CD</th>\n      <th>Latitude</th>\n      <th>Longitude</th>\n      <th>New Georeferenced Column</th>\n    </tr>\n  </thead>\n  <tbody>\n    <tr>\n      <th>2</th>\n      <td>217540562</td>\n      <td>09/07/2020</td>\n      <td>02:49:00</td>\n      <td>BROOKLYN</td>\n      <td>71</td>\n      <td>0</td>\n      <td>NaN</td>\n      <td>False</td>\n      <td>&lt;18</td>\n      <td>M</td>\n      <td>BLACK</td>\n      <td>45-64</td>\n      <td>F</td>\n      <td>BLACK</td>\n      <td>997889</td>\n      <td>182027</td>\n      <td>40.666297</td>\n      <td>-73.950838</td>\n      <td>POINT (-73.95083788699996 40.66629650100003)</td>\n    </tr>\n    <tr>\n      <th>3</th>\n      <td>217773056</td>\n      <td>09/12/2020</td>\n      <td>00:40:00</td>\n      <td>BROOKLYN</td>\n      <td>75</td>\n      <td>0</td>\n      <td>NaN</td>\n      <td>False</td>\n      <td>NaN</td>\n      <td>NaN</td>\n      <td>NaN</td>\n      <td>25-44</td>\n      <td>M</td>\n      <td>BLACK</td>\n      <td>1015238</td>\n      <td>180730</td>\n      <td>40.662693</td>\n      <td>-73.888307</td>\n      <td>POINT (-73.88830715999995 40.66269280500006)</td>\n    </tr>\n    <tr>\n      <th>4</th>\n      <td>218560117</td>\n      <td>09/30/2020</td>\n      <td>21:07:00</td>\n      <td>BROOKLYN</td>\n      <td>75</td>\n      <td>2</td>\n      <td>MULTI DWELL - PUBLIC HOUS</td>\n      <td>False</td>\n      <td>NaN</td>\n      <td>NaN</td>\n      <td>NaN</td>\n      <td>25-44</td>\n      <td>M</td>\n      <td>BLACK</td>\n      <td>1019084</td>\n      <td>183993</td>\n      <td>40.671635</td>\n      <td>-73.874428</td>\n      <td>POINT (-73.87442765599997 40.671634710000035)</td>\n    </tr>\n    <tr>\n      <th>8</th>\n      <td>218567380</td>\n      <td>09/30/2020</td>\n      <td>01:52:00</td>\n      <td>BROOKLYN</td>\n      <td>60</td>\n      <td>0</td>\n      <td>COMMERCIAL BLDG</td>\n      <td>False</td>\n      <td>NaN</td>\n      <td>NaN</td>\n      <td>NaN</td>\n      <td>25-44</td>\n      <td>M</td>\n      <td>UNKNOWN</td>\n      <td>988584</td>\n      <td>150694</td>\n      <td>40.580303</td>\n      <td>-73.984399</td>\n      <td>POINT (-73.98439908599995 40.58030340400006)</td>\n    </tr>\n    <tr>\n      <th>9</th>\n      <td>217594075</td>\n      <td>09/08/2020</td>\n      <td>22:40:00</td>\n      <td>BROOKLYN</td>\n      <td>79</td>\n      <td>2</td>\n      <td>MULTI DWELL - PUBLIC HOUS</td>\n      <td>False</td>\n      <td>NaN</td>\n      <td>NaN</td>\n      <td>NaN</td>\n      <td>45-64</td>\n      <td>F</td>\n      <td>WHITE HISPANIC</td>\n      <td>998184</td>\n      <td>193621</td>\n      <td>40.698119</td>\n      <td>-73.949751</td>\n      <td>POINT (-73.94975054899999 40.698118935000025)</td>\n    </tr>\n    <tr>\n      <th>...</th>\n      <td>...</td>\n      <td>...</td>\n      <td>...</td>\n      <td>...</td>\n      <td>...</td>\n      <td>...</td>\n      <td>...</td>\n      <td>...</td>\n      <td>...</td>\n      <td>...</td>\n      <td>...</td>\n      <td>...</td>\n      <td>...</td>\n      <td>...</td>\n      <td>...</td>\n      <td>...</td>\n      <td>...</td>\n      <td>...</td>\n      <td>...</td>\n    </tr>\n    <tr>\n      <th>1490</th>\n      <td>214948388</td>\n      <td>07/05/2020</td>\n      <td>00:43:00</td>\n      <td>BROOKLYN</td>\n      <td>75</td>\n      <td>0</td>\n      <td>NaN</td>\n      <td>True</td>\n      <td>NaN</td>\n      <td>NaN</td>\n      <td>NaN</td>\n      <td>18-24</td>\n      <td>M</td>\n      <td>BLACK HISPANIC</td>\n      <td>1017869</td>\n      <td>184766</td>\n      <td>40.673761</td>\n      <td>-73.878804</td>\n      <td>POINT (-73.87880377199998 40.673761118000066)</td>\n    </tr>\n    <tr>\n      <th>1493</th>\n      <td>211964521</td>\n      <td>04/11/2020</td>\n      <td>19:58:00</td>\n      <td>BROOKLYN</td>\n      <td>77</td>\n      <td>0</td>\n      <td>NaN</td>\n      <td>True</td>\n      <td>NaN</td>\n      <td>NaN</td>\n      <td>NaN</td>\n      <td>25-44</td>\n      <td>M</td>\n      <td>BLACK</td>\n      <td>1004952</td>\n      <td>183648</td>\n      <td>40.670732</td>\n      <td>-73.925373</td>\n      <td>POINT (-73.92537341399996 40.67073208700003)</td>\n    </tr>\n    <tr>\n      <th>1495</th>\n      <td>214513455</td>\n      <td>06/23/2020</td>\n      <td>22:04:00</td>\n      <td>BROOKLYN</td>\n      <td>63</td>\n      <td>0</td>\n      <td>PVT HOUSE</td>\n      <td>False</td>\n      <td>NaN</td>\n      <td>NaN</td>\n      <td>NaN</td>\n      <td>25-44</td>\n      <td>U</td>\n      <td>BLACK</td>\n      <td>1004029</td>\n      <td>167694</td>\n      <td>40.626944</td>\n      <td>-73.928747</td>\n      <td>POINT (-73.92874748599996 40.62694393200008)</td>\n    </tr>\n    <tr>\n      <th>1496</th>\n      <td>216360325</td>\n      <td>08/09/2020</td>\n      <td>22:40:00</td>\n      <td>BROOKLYN</td>\n      <td>79</td>\n      <td>2</td>\n      <td>MULTI DWELL - PUBLIC HOUS</td>\n      <td>False</td>\n      <td>NaN</td>\n      <td>NaN</td>\n      <td>NaN</td>\n      <td>18-24</td>\n      <td>M</td>\n      <td>BLACK</td>\n      <td>995619</td>\n      <td>190846</td>\n      <td>40.690506</td>\n      <td>-73.959006</td>\n      <td>POINT (-73.95900552099994 40.69050586900005)</td>\n    </tr>\n    <tr>\n      <th>1497</th>\n      <td>213748379</td>\n      <td>06/01/2020</td>\n      <td>19:14:00</td>\n      <td>BROOKLYN</td>\n      <td>83</td>\n      <td>0</td>\n      <td>NaN</td>\n      <td>False</td>\n      <td>18-24</td>\n      <td>M</td>\n      <td>BLACK</td>\n      <td>18-24</td>\n      <td>M</td>\n      <td>BLACK</td>\n      <td>1006880</td>\n      <td>190544</td>\n      <td>40.689655</td>\n      <td>-73.918400</td>\n      <td>POINT (-73.91840006999998 40.689655320000035)</td>\n    </tr>\n  </tbody>\n</table>\n<p>636 rows × 19 columns</p>\n</div>"
     },
     "metadata": {},
     "execution_count": 30
    }
   ],
   "source": [
    "shootings = shootings[shootings[\"BORO\"] == 'BROOKLYN']\n",
    "shootings"
   ]
  },
  {
   "source": [
    "Drop all columns except position and add a weigth (constant)"
   ],
   "cell_type": "markdown",
   "metadata": {}
  },
  {
   "source": [
    "shootings.drop(columns=['INCIDENT_KEY','OCCUR_DATE','OCCUR_TIME','BORO','PRECINCT','JURISDICTION_CODE','LOCATION_DESC','STATISTICAL_MURDER_FLAG','PERP_AGE_GROUP','PERP_SEX','PERP_RACE','VIC_AGE_GROUP','VIC_SEX','VIC_RACE','X_COORD_CD','Y_COORD_CD','New Georeferenced Column'], inplace=True)\n",
    "shootings['Weight'] = weigth_shooting\n",
    "shootings"
   ],
   "cell_type": "code",
   "metadata": {},
   "execution_count": 31,
   "outputs": [
    {
     "output_type": "execute_result",
     "data": {
      "text/plain": [
       "       Latitude  Longitude  Weight\n",
       "2     40.666297 -73.950838       8\n",
       "3     40.662693 -73.888307       8\n",
       "4     40.671635 -73.874428       8\n",
       "8     40.580303 -73.984399       8\n",
       "9     40.698119 -73.949751       8\n",
       "...         ...        ...     ...\n",
       "1490  40.673761 -73.878804       8\n",
       "1493  40.670732 -73.925373       8\n",
       "1495  40.626944 -73.928747       8\n",
       "1496  40.690506 -73.959006       8\n",
       "1497  40.689655 -73.918400       8\n",
       "\n",
       "[636 rows x 3 columns]"
      ],
      "text/html": "<div>\n<style scoped>\n    .dataframe tbody tr th:only-of-type {\n        vertical-align: middle;\n    }\n\n    .dataframe tbody tr th {\n        vertical-align: top;\n    }\n\n    .dataframe thead th {\n        text-align: right;\n    }\n</style>\n<table border=\"1\" class=\"dataframe\">\n  <thead>\n    <tr style=\"text-align: right;\">\n      <th></th>\n      <th>Latitude</th>\n      <th>Longitude</th>\n      <th>Weight</th>\n    </tr>\n  </thead>\n  <tbody>\n    <tr>\n      <th>2</th>\n      <td>40.666297</td>\n      <td>-73.950838</td>\n      <td>8</td>\n    </tr>\n    <tr>\n      <th>3</th>\n      <td>40.662693</td>\n      <td>-73.888307</td>\n      <td>8</td>\n    </tr>\n    <tr>\n      <th>4</th>\n      <td>40.671635</td>\n      <td>-73.874428</td>\n      <td>8</td>\n    </tr>\n    <tr>\n      <th>8</th>\n      <td>40.580303</td>\n      <td>-73.984399</td>\n      <td>8</td>\n    </tr>\n    <tr>\n      <th>9</th>\n      <td>40.698119</td>\n      <td>-73.949751</td>\n      <td>8</td>\n    </tr>\n    <tr>\n      <th>...</th>\n      <td>...</td>\n      <td>...</td>\n      <td>...</td>\n    </tr>\n    <tr>\n      <th>1490</th>\n      <td>40.673761</td>\n      <td>-73.878804</td>\n      <td>8</td>\n    </tr>\n    <tr>\n      <th>1493</th>\n      <td>40.670732</td>\n      <td>-73.925373</td>\n      <td>8</td>\n    </tr>\n    <tr>\n      <th>1495</th>\n      <td>40.626944</td>\n      <td>-73.928747</td>\n      <td>8</td>\n    </tr>\n    <tr>\n      <th>1496</th>\n      <td>40.690506</td>\n      <td>-73.959006</td>\n      <td>8</td>\n    </tr>\n    <tr>\n      <th>1497</th>\n      <td>40.689655</td>\n      <td>-73.918400</td>\n      <td>8</td>\n    </tr>\n  </tbody>\n</table>\n<p>636 rows × 3 columns</p>\n</div>"
     },
     "metadata": {},
     "execution_count": 31
    }
   ]
  },
  {
   "cell_type": "code",
   "execution_count": 32,
   "metadata": {},
   "outputs": [
    {
     "output_type": "execute_result",
     "data": {
      "text/plain": [
       "       Latitude  Longitude  Weight\n",
       "5     40.674583 -73.930222       5\n",
       "7     40.651655 -73.932325       5\n",
       "8     40.635839 -73.985899       5\n",
       "9     40.646338 -74.010837       2\n",
       "10    40.694602 -73.973125       5\n",
       "...         ...        ...     ...\n",
       "1490  40.673761 -73.878804       8\n",
       "1493  40.670732 -73.925373       8\n",
       "1495  40.626944 -73.928747       8\n",
       "1496  40.690506 -73.959006       8\n",
       "1497  40.689655 -73.918400       8\n",
       "\n",
       "[28598 rows x 3 columns]"
      ],
      "text/html": "<div>\n<style scoped>\n    .dataframe tbody tr th:only-of-type {\n        vertical-align: middle;\n    }\n\n    .dataframe tbody tr th {\n        vertical-align: top;\n    }\n\n    .dataframe thead th {\n        text-align: right;\n    }\n</style>\n<table border=\"1\" class=\"dataframe\">\n  <thead>\n    <tr style=\"text-align: right;\">\n      <th></th>\n      <th>Latitude</th>\n      <th>Longitude</th>\n      <th>Weight</th>\n    </tr>\n  </thead>\n  <tbody>\n    <tr>\n      <th>5</th>\n      <td>40.674583</td>\n      <td>-73.930222</td>\n      <td>5</td>\n    </tr>\n    <tr>\n      <th>7</th>\n      <td>40.651655</td>\n      <td>-73.932325</td>\n      <td>5</td>\n    </tr>\n    <tr>\n      <th>8</th>\n      <td>40.635839</td>\n      <td>-73.985899</td>\n      <td>5</td>\n    </tr>\n    <tr>\n      <th>9</th>\n      <td>40.646338</td>\n      <td>-74.010837</td>\n      <td>2</td>\n    </tr>\n    <tr>\n      <th>10</th>\n      <td>40.694602</td>\n      <td>-73.973125</td>\n      <td>5</td>\n    </tr>\n    <tr>\n      <th>...</th>\n      <td>...</td>\n      <td>...</td>\n      <td>...</td>\n    </tr>\n    <tr>\n      <th>1490</th>\n      <td>40.673761</td>\n      <td>-73.878804</td>\n      <td>8</td>\n    </tr>\n    <tr>\n      <th>1493</th>\n      <td>40.670732</td>\n      <td>-73.925373</td>\n      <td>8</td>\n    </tr>\n    <tr>\n      <th>1495</th>\n      <td>40.626944</td>\n      <td>-73.928747</td>\n      <td>8</td>\n    </tr>\n    <tr>\n      <th>1496</th>\n      <td>40.690506</td>\n      <td>-73.959006</td>\n      <td>8</td>\n    </tr>\n    <tr>\n      <th>1497</th>\n      <td>40.689655</td>\n      <td>-73.918400</td>\n      <td>8</td>\n    </tr>\n  </tbody>\n</table>\n<p>28598 rows × 3 columns</p>\n</div>"
     },
     "metadata": {},
     "execution_count": 32
    }
   ],
   "source": [
    "crimes = pd.concat([arrests, shootings])\n",
    "crimes.rename(columns = {'New Georeferenced Column':'location'}, inplace = True) \n",
    "crimes.to_csv('./../data/3_prepared/crimes.csv', ';')\n",
    "crimes"
   ]
  },
  {
   "cell_type": "code",
   "execution_count": null,
   "metadata": {},
   "outputs": [],
   "source": []
  }
 ]
}