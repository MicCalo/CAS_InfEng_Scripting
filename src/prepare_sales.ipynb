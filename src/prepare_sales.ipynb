{
 "cells": [
  {
   "cell_type": "markdown",
   "metadata": {},
   "source": [
    "Read the sales data Excel sheet. There are 4 rows preceeding the header"
   ]
  },
  {
   "cell_type": "code",
   "execution_count": 7,
   "metadata": {},
   "outputs": [
    {
     "output_type": "execute_result",
     "data": {
      "text/plain": [
       "       BOROUGH     NEIGHBORHOOD  BUILDING CLASS CATEGORY TAX CLASS AT PRESENT  \\\n",
       "0            3       BATH BEACH  01 ONE FAMILY DWELLINGS                    1   \n",
       "1            3       BATH BEACH  01 ONE FAMILY DWELLINGS                    1   \n",
       "2            3       BATH BEACH  01 ONE FAMILY DWELLINGS                    1   \n",
       "3            3       BATH BEACH  01 ONE FAMILY DWELLINGS                    1   \n",
       "4            3       BATH BEACH  01 ONE FAMILY DWELLINGS                    1   \n",
       "...        ...              ...                      ...                  ...   \n",
       "18470        3  WYCKOFF HEIGHTS   41 TAX CLASS 4 - OTHER                    4   \n",
       "18471        3  WYCKOFF HEIGHTS   41 TAX CLASS 4 - OTHER                    4   \n",
       "18472        3  WYCKOFF HEIGHTS   41 TAX CLASS 4 - OTHER                    4   \n",
       "18473        3  WYCKOFF HEIGHTS         44 CONDO PARKING                    4   \n",
       "18474        3  WYCKOFF HEIGHTS         44 CONDO PARKING                    4   \n",
       "\n",
       "       BLOCK   LOT  EASE-MENT BUILDING CLASS AT PRESENT  \\\n",
       "0       6359    70        NaN                        S1   \n",
       "1       6360    48        NaN                        A5   \n",
       "2       6367    24        NaN                        A9   \n",
       "3       6371    19        NaN                        A9   \n",
       "4       6371    60        NaN                        A9   \n",
       "...      ...   ...        ...                       ...   \n",
       "18470   3407    21        NaN                        Z9   \n",
       "18471   3407    21        NaN                        Z9   \n",
       "18472   3407    26        NaN                        Z9   \n",
       "18473   3328  1086        NaN                        RP   \n",
       "18474   3328  1123        NaN                        RP   \n",
       "\n",
       "                      ADDRESS APARTMENT NUMBER  ...  RESIDENTIAL UNITS  \\\n",
       "0            8684 15TH AVENUE              NaN  ...                1.0   \n",
       "1          14 BAY 10TH STREET              NaN  ...                1.0   \n",
       "2        8645 BAY 16TH STREET              NaN  ...                1.0   \n",
       "3          79 BAY 20TH STREET              NaN  ...                1.0   \n",
       "4            8620 19TH AVENUE              NaN  ...                1.0   \n",
       "...                       ...              ...  ...                ...   \n",
       "18470    376 WEIRFIELD STREET              NaN  ...                0.0   \n",
       "18471    376 WEIRFIELD STREET              NaN  ...                0.0   \n",
       "18472    378 WEIRFIELD STREET              NaN  ...                0.0   \n",
       "18473       358 GROVE ST, P25              P25  ...                NaN   \n",
       "18474  358 GROVE STREET, CB10             CB10  ...                NaN   \n",
       "\n",
       "       COMMERCIAL UNITS  TOTAL UNITS  LAND SQUARE FEET  GROSS SQUARE FEET  \\\n",
       "0                   1.0          2.0            1933.0             4080.0   \n",
       "1                   0.0          1.0            2513.0             1428.0   \n",
       "2                   0.0          1.0            1571.0             1456.0   \n",
       "3                   0.0          1.0            2320.0             1566.0   \n",
       "4                   0.0          1.0            2417.0             2106.0   \n",
       "...                 ...          ...               ...                ...   \n",
       "18470               0.0          0.0           10058.0                0.0   \n",
       "18471               0.0          0.0           10058.0                0.0   \n",
       "18472               0.0          0.0            2150.0                0.0   \n",
       "18473               1.0          1.0               NaN                NaN   \n",
       "18474               1.0          1.0               NaN                NaN   \n",
       "\n",
       "       YEAR BUILT  TAX CLASS AT TIME OF SALE  BUILDING CLASS AT TIME OF SALE  \\\n",
       "0          1930.0                          1                              S1   \n",
       "1          1930.0                          1                              A5   \n",
       "2          1935.0                          1                              A9   \n",
       "3          1930.0                          1                              A9   \n",
       "4          1930.0                          1                              A9   \n",
       "...           ...                        ...                             ...   \n",
       "18470         NaN                          4                              Z9   \n",
       "18471         NaN                          4                              Z9   \n",
       "18472         NaN                          4                              Z9   \n",
       "18473         NaN                          4                              RP   \n",
       "18474         NaN                          4                              RP   \n",
       "\n",
       "      SALE PRICE  SALE DATE  \n",
       "0        1300000 2020-04-28  \n",
       "1         849000 2020-03-18  \n",
       "2         830000 2020-06-26  \n",
       "3              0 2020-02-21  \n",
       "4        1188000 2020-07-20  \n",
       "...          ...        ...  \n",
       "18470    3965000 2020-10-30  \n",
       "18471          0 2020-08-19  \n",
       "18472    3965000 2020-10-30  \n",
       "18473          1 2020-03-09  \n",
       "18474     485000 2020-02-20  \n",
       "\n",
       "[18475 rows x 21 columns]"
      ],
      "text/html": "<div>\n<style scoped>\n    .dataframe tbody tr th:only-of-type {\n        vertical-align: middle;\n    }\n\n    .dataframe tbody tr th {\n        vertical-align: top;\n    }\n\n    .dataframe thead th {\n        text-align: right;\n    }\n</style>\n<table border=\"1\" class=\"dataframe\">\n  <thead>\n    <tr style=\"text-align: right;\">\n      <th></th>\n      <th>BOROUGH</th>\n      <th>NEIGHBORHOOD</th>\n      <th>BUILDING CLASS CATEGORY</th>\n      <th>TAX CLASS AT PRESENT</th>\n      <th>BLOCK</th>\n      <th>LOT</th>\n      <th>EASE-MENT</th>\n      <th>BUILDING CLASS AT PRESENT</th>\n      <th>ADDRESS</th>\n      <th>APARTMENT NUMBER</th>\n      <th>...</th>\n      <th>RESIDENTIAL UNITS</th>\n      <th>COMMERCIAL UNITS</th>\n      <th>TOTAL UNITS</th>\n      <th>LAND SQUARE FEET</th>\n      <th>GROSS SQUARE FEET</th>\n      <th>YEAR BUILT</th>\n      <th>TAX CLASS AT TIME OF SALE</th>\n      <th>BUILDING CLASS AT TIME OF SALE</th>\n      <th>SALE PRICE</th>\n      <th>SALE DATE</th>\n    </tr>\n  </thead>\n  <tbody>\n    <tr>\n      <th>0</th>\n      <td>3</td>\n      <td>BATH BEACH</td>\n      <td>01 ONE FAMILY DWELLINGS</td>\n      <td>1</td>\n      <td>6359</td>\n      <td>70</td>\n      <td>NaN</td>\n      <td>S1</td>\n      <td>8684 15TH AVENUE</td>\n      <td>NaN</td>\n      <td>...</td>\n      <td>1.0</td>\n      <td>1.0</td>\n      <td>2.0</td>\n      <td>1933.0</td>\n      <td>4080.0</td>\n      <td>1930.0</td>\n      <td>1</td>\n      <td>S1</td>\n      <td>1300000</td>\n      <td>2020-04-28</td>\n    </tr>\n    <tr>\n      <th>1</th>\n      <td>3</td>\n      <td>BATH BEACH</td>\n      <td>01 ONE FAMILY DWELLINGS</td>\n      <td>1</td>\n      <td>6360</td>\n      <td>48</td>\n      <td>NaN</td>\n      <td>A5</td>\n      <td>14 BAY 10TH STREET</td>\n      <td>NaN</td>\n      <td>...</td>\n      <td>1.0</td>\n      <td>0.0</td>\n      <td>1.0</td>\n      <td>2513.0</td>\n      <td>1428.0</td>\n      <td>1930.0</td>\n      <td>1</td>\n      <td>A5</td>\n      <td>849000</td>\n      <td>2020-03-18</td>\n    </tr>\n    <tr>\n      <th>2</th>\n      <td>3</td>\n      <td>BATH BEACH</td>\n      <td>01 ONE FAMILY DWELLINGS</td>\n      <td>1</td>\n      <td>6367</td>\n      <td>24</td>\n      <td>NaN</td>\n      <td>A9</td>\n      <td>8645 BAY 16TH STREET</td>\n      <td>NaN</td>\n      <td>...</td>\n      <td>1.0</td>\n      <td>0.0</td>\n      <td>1.0</td>\n      <td>1571.0</td>\n      <td>1456.0</td>\n      <td>1935.0</td>\n      <td>1</td>\n      <td>A9</td>\n      <td>830000</td>\n      <td>2020-06-26</td>\n    </tr>\n    <tr>\n      <th>3</th>\n      <td>3</td>\n      <td>BATH BEACH</td>\n      <td>01 ONE FAMILY DWELLINGS</td>\n      <td>1</td>\n      <td>6371</td>\n      <td>19</td>\n      <td>NaN</td>\n      <td>A9</td>\n      <td>79 BAY 20TH STREET</td>\n      <td>NaN</td>\n      <td>...</td>\n      <td>1.0</td>\n      <td>0.0</td>\n      <td>1.0</td>\n      <td>2320.0</td>\n      <td>1566.0</td>\n      <td>1930.0</td>\n      <td>1</td>\n      <td>A9</td>\n      <td>0</td>\n      <td>2020-02-21</td>\n    </tr>\n    <tr>\n      <th>4</th>\n      <td>3</td>\n      <td>BATH BEACH</td>\n      <td>01 ONE FAMILY DWELLINGS</td>\n      <td>1</td>\n      <td>6371</td>\n      <td>60</td>\n      <td>NaN</td>\n      <td>A9</td>\n      <td>8620 19TH AVENUE</td>\n      <td>NaN</td>\n      <td>...</td>\n      <td>1.0</td>\n      <td>0.0</td>\n      <td>1.0</td>\n      <td>2417.0</td>\n      <td>2106.0</td>\n      <td>1930.0</td>\n      <td>1</td>\n      <td>A9</td>\n      <td>1188000</td>\n      <td>2020-07-20</td>\n    </tr>\n    <tr>\n      <th>...</th>\n      <td>...</td>\n      <td>...</td>\n      <td>...</td>\n      <td>...</td>\n      <td>...</td>\n      <td>...</td>\n      <td>...</td>\n      <td>...</td>\n      <td>...</td>\n      <td>...</td>\n      <td>...</td>\n      <td>...</td>\n      <td>...</td>\n      <td>...</td>\n      <td>...</td>\n      <td>...</td>\n      <td>...</td>\n      <td>...</td>\n      <td>...</td>\n      <td>...</td>\n      <td>...</td>\n    </tr>\n    <tr>\n      <th>18470</th>\n      <td>3</td>\n      <td>WYCKOFF HEIGHTS</td>\n      <td>41 TAX CLASS 4 - OTHER</td>\n      <td>4</td>\n      <td>3407</td>\n      <td>21</td>\n      <td>NaN</td>\n      <td>Z9</td>\n      <td>376 WEIRFIELD STREET</td>\n      <td>NaN</td>\n      <td>...</td>\n      <td>0.0</td>\n      <td>0.0</td>\n      <td>0.0</td>\n      <td>10058.0</td>\n      <td>0.0</td>\n      <td>NaN</td>\n      <td>4</td>\n      <td>Z9</td>\n      <td>3965000</td>\n      <td>2020-10-30</td>\n    </tr>\n    <tr>\n      <th>18471</th>\n      <td>3</td>\n      <td>WYCKOFF HEIGHTS</td>\n      <td>41 TAX CLASS 4 - OTHER</td>\n      <td>4</td>\n      <td>3407</td>\n      <td>21</td>\n      <td>NaN</td>\n      <td>Z9</td>\n      <td>376 WEIRFIELD STREET</td>\n      <td>NaN</td>\n      <td>...</td>\n      <td>0.0</td>\n      <td>0.0</td>\n      <td>0.0</td>\n      <td>10058.0</td>\n      <td>0.0</td>\n      <td>NaN</td>\n      <td>4</td>\n      <td>Z9</td>\n      <td>0</td>\n      <td>2020-08-19</td>\n    </tr>\n    <tr>\n      <th>18472</th>\n      <td>3</td>\n      <td>WYCKOFF HEIGHTS</td>\n      <td>41 TAX CLASS 4 - OTHER</td>\n      <td>4</td>\n      <td>3407</td>\n      <td>26</td>\n      <td>NaN</td>\n      <td>Z9</td>\n      <td>378 WEIRFIELD STREET</td>\n      <td>NaN</td>\n      <td>...</td>\n      <td>0.0</td>\n      <td>0.0</td>\n      <td>0.0</td>\n      <td>2150.0</td>\n      <td>0.0</td>\n      <td>NaN</td>\n      <td>4</td>\n      <td>Z9</td>\n      <td>3965000</td>\n      <td>2020-10-30</td>\n    </tr>\n    <tr>\n      <th>18473</th>\n      <td>3</td>\n      <td>WYCKOFF HEIGHTS</td>\n      <td>44 CONDO PARKING</td>\n      <td>4</td>\n      <td>3328</td>\n      <td>1086</td>\n      <td>NaN</td>\n      <td>RP</td>\n      <td>358 GROVE ST, P25</td>\n      <td>P25</td>\n      <td>...</td>\n      <td>NaN</td>\n      <td>1.0</td>\n      <td>1.0</td>\n      <td>NaN</td>\n      <td>NaN</td>\n      <td>NaN</td>\n      <td>4</td>\n      <td>RP</td>\n      <td>1</td>\n      <td>2020-03-09</td>\n    </tr>\n    <tr>\n      <th>18474</th>\n      <td>3</td>\n      <td>WYCKOFF HEIGHTS</td>\n      <td>44 CONDO PARKING</td>\n      <td>4</td>\n      <td>3328</td>\n      <td>1123</td>\n      <td>NaN</td>\n      <td>RP</td>\n      <td>358 GROVE STREET, CB10</td>\n      <td>CB10</td>\n      <td>...</td>\n      <td>NaN</td>\n      <td>1.0</td>\n      <td>1.0</td>\n      <td>NaN</td>\n      <td>NaN</td>\n      <td>NaN</td>\n      <td>4</td>\n      <td>RP</td>\n      <td>485000</td>\n      <td>2020-02-20</td>\n    </tr>\n  </tbody>\n</table>\n<p>18475 rows × 21 columns</p>\n</div>"
     },
     "metadata": {},
     "execution_count": 7
    }
   ],
   "source": [
    "import pandas as pd\n",
    "\n",
    "sales = pd.read_excel('../data/1_original/rollingsales_brooklyn.xls', header=4)\n",
    "sales"
   ]
  },
  {
   "source": [
    "Filter out \n",
    "- garages, offices, etc (keep only familiy dwelling) \n",
    "- entries with price of $10 and below (assuming if one gets a dwelling gifted, this buyer guide is not used)\n",
    "- entries with gross square feet of zero"
   ],
   "cell_type": "markdown",
   "metadata": {}
  },
  {
   "cell_type": "code",
   "execution_count": 8,
   "metadata": {},
   "outputs": [],
   "source": [
    "building_classes = [\"01 ONE FAMILY DWELLINGS\", \"02 TWO FAMILY DWELLINGS\", \"03 THREE FAMILY DWELLINGS\"]\n",
    "\n",
    "sales = sales[(sales[\"BUILDING CLASS CATEGORY\"].isin(building_classes)) & (sales[\"SALE PRICE\"] > 10) & (sales[\"GROSS SQUARE FEET\"] > 0)].copy()"
   ]
  },
  {
   "source": [
    "Get rid of unused columns"
   ],
   "cell_type": "markdown",
   "metadata": {}
  },
  {
   "source": [
    "sales.drop(columns=[\"BOROUGH\",\"NEIGHBORHOOD\",\"TAX CLASS AT PRESENT\",\"BLOCK\",\"LOT\",\"EASE-MENT\",\"BUILDING CLASS AT PRESENT\",\"APARTMENT NUMBER\",\"TOTAL UNITS\",\"TAX CLASS AT TIME OF SALE\",\"BUILDING CLASS AT TIME OF SALE\",\"SALE DATE\", \"RESIDENTIAL UNITS\",\"COMMERCIAL UNITS\",\"ADDRESS\",\"LAND SQUARE FEET\", \"YEAR BUILT\", \"BUILDING CLASS CATEGORY\"], inplace=True)\n",
    "\n",
    "sales"
   ],
   "cell_type": "code",
   "metadata": {},
   "execution_count": 9,
   "outputs": [
    {
     "output_type": "execute_result",
     "data": {
      "text/plain": [
       "       ZIP CODE  GROSS SQUARE FEET  SALE PRICE\n",
       "0         11228             4080.0     1300000\n",
       "1         11228             1428.0      849000\n",
       "2         11214             1456.0      830000\n",
       "4         11214             2106.0     1188000\n",
       "5         11228             1804.0      975000\n",
       "...         ...                ...         ...\n",
       "18407     11237             2940.0     1075000\n",
       "18414     11237             2700.0     1035000\n",
       "18415     11237             2700.0     1300000\n",
       "18416     11237             2700.0      980000\n",
       "18417     11237             3480.0      900000\n",
       "\n",
       "[4703 rows x 3 columns]"
      ],
      "text/html": "<div>\n<style scoped>\n    .dataframe tbody tr th:only-of-type {\n        vertical-align: middle;\n    }\n\n    .dataframe tbody tr th {\n        vertical-align: top;\n    }\n\n    .dataframe thead th {\n        text-align: right;\n    }\n</style>\n<table border=\"1\" class=\"dataframe\">\n  <thead>\n    <tr style=\"text-align: right;\">\n      <th></th>\n      <th>ZIP CODE</th>\n      <th>GROSS SQUARE FEET</th>\n      <th>SALE PRICE</th>\n    </tr>\n  </thead>\n  <tbody>\n    <tr>\n      <th>0</th>\n      <td>11228</td>\n      <td>4080.0</td>\n      <td>1300000</td>\n    </tr>\n    <tr>\n      <th>1</th>\n      <td>11228</td>\n      <td>1428.0</td>\n      <td>849000</td>\n    </tr>\n    <tr>\n      <th>2</th>\n      <td>11214</td>\n      <td>1456.0</td>\n      <td>830000</td>\n    </tr>\n    <tr>\n      <th>4</th>\n      <td>11214</td>\n      <td>2106.0</td>\n      <td>1188000</td>\n    </tr>\n    <tr>\n      <th>5</th>\n      <td>11228</td>\n      <td>1804.0</td>\n      <td>975000</td>\n    </tr>\n    <tr>\n      <th>...</th>\n      <td>...</td>\n      <td>...</td>\n      <td>...</td>\n    </tr>\n    <tr>\n      <th>18407</th>\n      <td>11237</td>\n      <td>2940.0</td>\n      <td>1075000</td>\n    </tr>\n    <tr>\n      <th>18414</th>\n      <td>11237</td>\n      <td>2700.0</td>\n      <td>1035000</td>\n    </tr>\n    <tr>\n      <th>18415</th>\n      <td>11237</td>\n      <td>2700.0</td>\n      <td>1300000</td>\n    </tr>\n    <tr>\n      <th>18416</th>\n      <td>11237</td>\n      <td>2700.0</td>\n      <td>980000</td>\n    </tr>\n    <tr>\n      <th>18417</th>\n      <td>11237</td>\n      <td>3480.0</td>\n      <td>900000</td>\n    </tr>\n  </tbody>\n</table>\n<p>4703 rows × 3 columns</p>\n</div>"
     },
     "metadata": {},
     "execution_count": 9
    }
   ]
  },
  {
   "source": [
    "Calculate a new column: Price per gross square feet\n",
    "(see https://home.akitabox.com/blog/gross-square-footage-definitions)"
   ],
   "cell_type": "markdown",
   "metadata": {}
  },
  {
   "cell_type": "code",
   "execution_count": 10,
   "metadata": {},
   "outputs": [
    {
     "output_type": "execute_result",
     "data": {
      "text/plain": [
       "       ZIP CODE  GROSS SQUARE FEET  SALE PRICE  PRICE PER GSQ\n",
       "0         11228             4080.0     1300000     318.627451\n",
       "1         11228             1428.0      849000     594.537815\n",
       "2         11214             1456.0      830000     570.054945\n",
       "4         11214             2106.0     1188000     564.102564\n",
       "5         11228             1804.0      975000     540.465632\n",
       "...         ...                ...         ...            ...\n",
       "18407     11237             2940.0     1075000     365.646259\n",
       "18414     11237             2700.0     1035000     383.333333\n",
       "18415     11237             2700.0     1300000     481.481481\n",
       "18416     11237             2700.0      980000     362.962963\n",
       "18417     11237             3480.0      900000     258.620690\n",
       "\n",
       "[4703 rows x 4 columns]"
      ],
      "text/html": "<div>\n<style scoped>\n    .dataframe tbody tr th:only-of-type {\n        vertical-align: middle;\n    }\n\n    .dataframe tbody tr th {\n        vertical-align: top;\n    }\n\n    .dataframe thead th {\n        text-align: right;\n    }\n</style>\n<table border=\"1\" class=\"dataframe\">\n  <thead>\n    <tr style=\"text-align: right;\">\n      <th></th>\n      <th>ZIP CODE</th>\n      <th>GROSS SQUARE FEET</th>\n      <th>SALE PRICE</th>\n      <th>PRICE PER GSQ</th>\n    </tr>\n  </thead>\n  <tbody>\n    <tr>\n      <th>0</th>\n      <td>11228</td>\n      <td>4080.0</td>\n      <td>1300000</td>\n      <td>318.627451</td>\n    </tr>\n    <tr>\n      <th>1</th>\n      <td>11228</td>\n      <td>1428.0</td>\n      <td>849000</td>\n      <td>594.537815</td>\n    </tr>\n    <tr>\n      <th>2</th>\n      <td>11214</td>\n      <td>1456.0</td>\n      <td>830000</td>\n      <td>570.054945</td>\n    </tr>\n    <tr>\n      <th>4</th>\n      <td>11214</td>\n      <td>2106.0</td>\n      <td>1188000</td>\n      <td>564.102564</td>\n    </tr>\n    <tr>\n      <th>5</th>\n      <td>11228</td>\n      <td>1804.0</td>\n      <td>975000</td>\n      <td>540.465632</td>\n    </tr>\n    <tr>\n      <th>...</th>\n      <td>...</td>\n      <td>...</td>\n      <td>...</td>\n      <td>...</td>\n    </tr>\n    <tr>\n      <th>18407</th>\n      <td>11237</td>\n      <td>2940.0</td>\n      <td>1075000</td>\n      <td>365.646259</td>\n    </tr>\n    <tr>\n      <th>18414</th>\n      <td>11237</td>\n      <td>2700.0</td>\n      <td>1035000</td>\n      <td>383.333333</td>\n    </tr>\n    <tr>\n      <th>18415</th>\n      <td>11237</td>\n      <td>2700.0</td>\n      <td>1300000</td>\n      <td>481.481481</td>\n    </tr>\n    <tr>\n      <th>18416</th>\n      <td>11237</td>\n      <td>2700.0</td>\n      <td>980000</td>\n      <td>362.962963</td>\n    </tr>\n    <tr>\n      <th>18417</th>\n      <td>11237</td>\n      <td>3480.0</td>\n      <td>900000</td>\n      <td>258.620690</td>\n    </tr>\n  </tbody>\n</table>\n<p>4703 rows × 4 columns</p>\n</div>"
     },
     "metadata": {},
     "execution_count": 10
    }
   ],
   "source": [
    "sales[\"PRICE PER GSQ\"] = sales[\"SALE PRICE\"] / sales[\"GROSS SQUARE FEET\"]\n",
    "sales"
   ]
  },
  {
   "source": [
    "group the sales by ZIP CODE. And then index must be removed, otherwise Folium/Colorpleth gets into troubles later"
   ],
   "cell_type": "markdown",
   "metadata": {}
  },
  {
   "cell_type": "code",
   "execution_count": 11,
   "metadata": {},
   "outputs": [
    {
     "output_type": "execute_result",
     "data": {
      "text/plain": [
       "   ZIP CODE  GROSS SQUARE FEET    SALE PRICE  PRICE PER GSQ\n",
       "0     11201        3390.250000  7.172004e+06    2223.469918\n",
       "1     11203        1753.069767  6.171186e+05     367.874395\n",
       "2     11204        2043.782313  1.155987e+06     608.351331\n",
       "3     11205        2842.794872  1.894212e+06     703.602411\n",
       "4     11206        2760.326087  1.845439e+06     677.738777"
      ],
      "text/html": "<div>\n<style scoped>\n    .dataframe tbody tr th:only-of-type {\n        vertical-align: middle;\n    }\n\n    .dataframe tbody tr th {\n        vertical-align: top;\n    }\n\n    .dataframe thead th {\n        text-align: right;\n    }\n</style>\n<table border=\"1\" class=\"dataframe\">\n  <thead>\n    <tr style=\"text-align: right;\">\n      <th></th>\n      <th>ZIP CODE</th>\n      <th>GROSS SQUARE FEET</th>\n      <th>SALE PRICE</th>\n      <th>PRICE PER GSQ</th>\n    </tr>\n  </thead>\n  <tbody>\n    <tr>\n      <th>0</th>\n      <td>11201</td>\n      <td>3390.250000</td>\n      <td>7.172004e+06</td>\n      <td>2223.469918</td>\n    </tr>\n    <tr>\n      <th>1</th>\n      <td>11203</td>\n      <td>1753.069767</td>\n      <td>6.171186e+05</td>\n      <td>367.874395</td>\n    </tr>\n    <tr>\n      <th>2</th>\n      <td>11204</td>\n      <td>2043.782313</td>\n      <td>1.155987e+06</td>\n      <td>608.351331</td>\n    </tr>\n    <tr>\n      <th>3</th>\n      <td>11205</td>\n      <td>2842.794872</td>\n      <td>1.894212e+06</td>\n      <td>703.602411</td>\n    </tr>\n    <tr>\n      <th>4</th>\n      <td>11206</td>\n      <td>2760.326087</td>\n      <td>1.845439e+06</td>\n      <td>677.738777</td>\n    </tr>\n  </tbody>\n</table>\n</div>"
     },
     "metadata": {},
     "execution_count": 11
    }
   ],
   "source": [
    "sales_grouped = sales.groupby(['ZIP CODE']).mean()\n",
    "sales_grouped = sales_grouped.reset_index()\n",
    "sales_grouped.to_csv('./../data/3_prepared/sales_grouped.csv', ';')\n",
    "sales_grouped.head()"
   ]
  },
  {
   "source": [
    "Now, filter out all ZIP entries which are not in the sales (-> not in Brooklyn). Otherwise Folium/Colorpleth gets into troubles later "
   ],
   "cell_type": "markdown",
   "metadata": {}
  },
  {
   "cell_type": "code",
   "execution_count": 12,
   "metadata": {},
   "outputs": [
    {
     "output_type": "execute_result",
     "data": {
      "text/plain": [
       "   ZIPCODE BLDGZIP   PO_NAME  POPULATION          AREA STATE COUNTY ST_FIPS  \\\n",
       "1    11213       0  Brooklyn     62426.0  2.963100e+07    NY  Kings      36   \n",
       "2    11212       0  Brooklyn     83866.0  4.197210e+07    NY  Kings      36   \n",
       "3    11225       0  Brooklyn     56527.0  2.369863e+07    NY  Kings      36   \n",
       "\n",
       "  CTY_FIPS                   URL  SHAPE_AREA  SHAPE_LEN  \\\n",
       "1      047  http://www.usps.com/         0.0        0.0   \n",
       "2      047  http://www.usps.com/         0.0        0.0   \n",
       "3      047  http://www.usps.com/         0.0        0.0   \n",
       "\n",
       "                                            geometry  \n",
       "1  POLYGON ((-73.93740 40.67973, -73.93487 40.679...  \n",
       "2  POLYGON ((-73.90294 40.67084, -73.90223 40.668...  \n",
       "3  POLYGON ((-73.95797 40.67066, -73.95576 40.670...  "
      ],
      "text/html": "<div>\n<style scoped>\n    .dataframe tbody tr th:only-of-type {\n        vertical-align: middle;\n    }\n\n    .dataframe tbody tr th {\n        vertical-align: top;\n    }\n\n    .dataframe thead th {\n        text-align: right;\n    }\n</style>\n<table border=\"1\" class=\"dataframe\">\n  <thead>\n    <tr style=\"text-align: right;\">\n      <th></th>\n      <th>ZIPCODE</th>\n      <th>BLDGZIP</th>\n      <th>PO_NAME</th>\n      <th>POPULATION</th>\n      <th>AREA</th>\n      <th>STATE</th>\n      <th>COUNTY</th>\n      <th>ST_FIPS</th>\n      <th>CTY_FIPS</th>\n      <th>URL</th>\n      <th>SHAPE_AREA</th>\n      <th>SHAPE_LEN</th>\n      <th>geometry</th>\n    </tr>\n  </thead>\n  <tbody>\n    <tr>\n      <th>1</th>\n      <td>11213</td>\n      <td>0</td>\n      <td>Brooklyn</td>\n      <td>62426.0</td>\n      <td>2.963100e+07</td>\n      <td>NY</td>\n      <td>Kings</td>\n      <td>36</td>\n      <td>047</td>\n      <td>http://www.usps.com/</td>\n      <td>0.0</td>\n      <td>0.0</td>\n      <td>POLYGON ((-73.93740 40.67973, -73.93487 40.679...</td>\n    </tr>\n    <tr>\n      <th>2</th>\n      <td>11212</td>\n      <td>0</td>\n      <td>Brooklyn</td>\n      <td>83866.0</td>\n      <td>4.197210e+07</td>\n      <td>NY</td>\n      <td>Kings</td>\n      <td>36</td>\n      <td>047</td>\n      <td>http://www.usps.com/</td>\n      <td>0.0</td>\n      <td>0.0</td>\n      <td>POLYGON ((-73.90294 40.67084, -73.90223 40.668...</td>\n    </tr>\n    <tr>\n      <th>3</th>\n      <td>11225</td>\n      <td>0</td>\n      <td>Brooklyn</td>\n      <td>56527.0</td>\n      <td>2.369863e+07</td>\n      <td>NY</td>\n      <td>Kings</td>\n      <td>36</td>\n      <td>047</td>\n      <td>http://www.usps.com/</td>\n      <td>0.0</td>\n      <td>0.0</td>\n      <td>POLYGON ((-73.95797 40.67066, -73.95576 40.670...</td>\n    </tr>\n  </tbody>\n</table>\n</div>"
     },
     "metadata": {},
     "execution_count": 12
    }
   ],
   "source": [
    "import geopandas as gpd\n",
    "\n",
    "all_zip_codes = gpd.read_file('./../data/2_intermediate/ZIP_codes.geojson')\n",
    "all_zip_codes['ZIPCODE'] = pd.to_numeric(all_zip_codes['ZIPCODE'])\n",
    "brooklyn_zip_codes = all_zip_codes[(all_zip_codes[\"ZIPCODE\"].isin(sales_grouped['ZIP CODE']))].copy()\n",
    "brooklyn_zip_codes.to_file('./../data/3_prepared/ZIP_codes_BrooklynOnly.geojson', driver='GeoJSON')\n",
    "brooklyn_zip_codes.head(3)"
   ]
  }
 ],
 "metadata": {
  "kernelspec": {
   "display_name": "Python 3",
   "language": "python",
   "name": "python3"
  },
  "language_info": {
   "codemirror_mode": {
    "name": "ipython",
    "version": 3
   },
   "file_extension": ".py",
   "mimetype": "text/x-python",
   "name": "python",
   "nbconvert_exporter": "python",
   "pygments_lexer": "ipython3",
   "version": "3.8.5-final"
  }
 },
 "nbformat": 4,
 "nbformat_minor": 2
}