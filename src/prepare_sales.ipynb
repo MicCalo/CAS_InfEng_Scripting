{
 "cells": [
  {
   "cell_type": "markdown",
   "metadata": {},
   "source": [
    "Read the sales data Excel sheet. There are 4 rows preceeding the header"
   ]
  },
  {
   "cell_type": "code",
   "execution_count": 33,
   "metadata": {},
   "outputs": [
    {
     "output_type": "execute_result",
     "data": {
      "text/plain": [
       "       BOROUGH     NEIGHBORHOOD  BUILDING CLASS CATEGORY TAX CLASS AT PRESENT  \\\n",
       "0            3       BATH BEACH  01 ONE FAMILY DWELLINGS                    1   \n",
       "1            3       BATH BEACH  01 ONE FAMILY DWELLINGS                    1   \n",
       "2            3       BATH BEACH  01 ONE FAMILY DWELLINGS                    1   \n",
       "3            3       BATH BEACH  01 ONE FAMILY DWELLINGS                    1   \n",
       "4            3       BATH BEACH  01 ONE FAMILY DWELLINGS                    1   \n",
       "...        ...              ...                      ...                  ...   \n",
       "18593        3  WYCKOFF HEIGHTS            30 WAREHOUSES                    4   \n",
       "18594        3  WYCKOFF HEIGHTS   41 TAX CLASS 4 - OTHER                    4   \n",
       "18595        3  WYCKOFF HEIGHTS         44 CONDO PARKING                    4   \n",
       "18596        3  WYCKOFF HEIGHTS         44 CONDO PARKING                    4   \n",
       "18597        3  WYCKOFF HEIGHTS         44 CONDO PARKING                    4   \n",
       "\n",
       "       BLOCK   LOT  EASE-MENT BUILDING CLASS AT PRESENT  \\\n",
       "0       6359    70        NaN                        S1   \n",
       "1       6360    48        NaN                        A5   \n",
       "2       6367    24        NaN                        A9   \n",
       "3       6371    19        NaN                        A9   \n",
       "4       6371    60        NaN                        A9   \n",
       "...      ...   ...        ...                       ...   \n",
       "18593   3345     6        NaN                        E1   \n",
       "18594   3407    21        NaN                        Z9   \n",
       "18595   3328  1086        NaN                        RP   \n",
       "18596   3328  1093        NaN                        RP   \n",
       "18597   3328  1123        NaN                        RP   \n",
       "\n",
       "                      ADDRESS APARTMENT NUMBER  ...  RESIDENTIAL UNITS  \\\n",
       "0            8684 15TH AVENUE              NaN  ...                1.0   \n",
       "1          14 BAY 10TH STREET              NaN  ...                1.0   \n",
       "2        8645 BAY 16TH STREET              NaN  ...                1.0   \n",
       "3          79 BAY 20TH STREET              NaN  ...                1.0   \n",
       "4            8620 19TH AVENUE              NaN  ...                1.0   \n",
       "...                       ...              ...  ...                ...   \n",
       "18593       333 IRVING AVENUE              NaN  ...                0.0   \n",
       "18594    376 WEIRFIELD STREET              NaN  ...                0.0   \n",
       "18595       358 GROVE ST, P25              P25  ...                NaN   \n",
       "18596   358 GROVE STREET, P32              P32  ...                NaN   \n",
       "18597  358 GROVE STREET, CB10             CB10  ...                NaN   \n",
       "\n",
       "       COMMERCIAL UNITS  TOTAL UNITS  LAND SQUARE FEET  GROSS SQUARE FEET  \\\n",
       "0                   1.0          2.0            1933.0             4080.0   \n",
       "1                   0.0          1.0            2513.0             1428.0   \n",
       "2                   0.0          1.0            1571.0             1456.0   \n",
       "3                   0.0          1.0            2320.0             1566.0   \n",
       "4                   0.0          1.0            2417.0             2106.0   \n",
       "...                 ...          ...               ...                ...   \n",
       "18593               1.0          1.0            7450.0             1950.0   \n",
       "18594               0.0          0.0           10058.0                0.0   \n",
       "18595               1.0          1.0               NaN                NaN   \n",
       "18596               1.0          1.0               NaN                NaN   \n",
       "18597               1.0          1.0               NaN                NaN   \n",
       "\n",
       "       YEAR BUILT  TAX CLASS AT TIME OF SALE  BUILDING CLASS AT TIME OF SALE  \\\n",
       "0          1930.0                          1                              S1   \n",
       "1          1930.0                          1                              A5   \n",
       "2          1935.0                          1                              A9   \n",
       "3          1930.0                          1                              A9   \n",
       "4          1930.0                          1                              A9   \n",
       "...           ...                        ...                             ...   \n",
       "18593      1952.0                          4                              E1   \n",
       "18594         NaN                          4                              Z9   \n",
       "18595         NaN                          4                              RP   \n",
       "18596         NaN                          4                              RP   \n",
       "18597         NaN                          4                              RP   \n",
       "\n",
       "      SALE PRICE  SALE DATE  \n",
       "0        1300000 2020-04-28  \n",
       "1         849000 2020-03-18  \n",
       "2         830000 2020-06-26  \n",
       "3              0 2020-02-21  \n",
       "4        1188000 2020-07-20  \n",
       "...          ...        ...  \n",
       "18593   11500000 2019-11-12  \n",
       "18594          0 2020-08-19  \n",
       "18595          1 2020-03-09  \n",
       "18596     618800 2019-10-15  \n",
       "18597     485000 2020-02-20  \n",
       "\n",
       "[18598 rows x 21 columns]"
      ],
      "text/html": "<div>\n<style scoped>\n    .dataframe tbody tr th:only-of-type {\n        vertical-align: middle;\n    }\n\n    .dataframe tbody tr th {\n        vertical-align: top;\n    }\n\n    .dataframe thead th {\n        text-align: right;\n    }\n</style>\n<table border=\"1\" class=\"dataframe\">\n  <thead>\n    <tr style=\"text-align: right;\">\n      <th></th>\n      <th>BOROUGH</th>\n      <th>NEIGHBORHOOD</th>\n      <th>BUILDING CLASS CATEGORY</th>\n      <th>TAX CLASS AT PRESENT</th>\n      <th>BLOCK</th>\n      <th>LOT</th>\n      <th>EASE-MENT</th>\n      <th>BUILDING CLASS AT PRESENT</th>\n      <th>ADDRESS</th>\n      <th>APARTMENT NUMBER</th>\n      <th>...</th>\n      <th>RESIDENTIAL UNITS</th>\n      <th>COMMERCIAL UNITS</th>\n      <th>TOTAL UNITS</th>\n      <th>LAND SQUARE FEET</th>\n      <th>GROSS SQUARE FEET</th>\n      <th>YEAR BUILT</th>\n      <th>TAX CLASS AT TIME OF SALE</th>\n      <th>BUILDING CLASS AT TIME OF SALE</th>\n      <th>SALE PRICE</th>\n      <th>SALE DATE</th>\n    </tr>\n  </thead>\n  <tbody>\n    <tr>\n      <th>0</th>\n      <td>3</td>\n      <td>BATH BEACH</td>\n      <td>01 ONE FAMILY DWELLINGS</td>\n      <td>1</td>\n      <td>6359</td>\n      <td>70</td>\n      <td>NaN</td>\n      <td>S1</td>\n      <td>8684 15TH AVENUE</td>\n      <td>NaN</td>\n      <td>...</td>\n      <td>1.0</td>\n      <td>1.0</td>\n      <td>2.0</td>\n      <td>1933.0</td>\n      <td>4080.0</td>\n      <td>1930.0</td>\n      <td>1</td>\n      <td>S1</td>\n      <td>1300000</td>\n      <td>2020-04-28</td>\n    </tr>\n    <tr>\n      <th>1</th>\n      <td>3</td>\n      <td>BATH BEACH</td>\n      <td>01 ONE FAMILY DWELLINGS</td>\n      <td>1</td>\n      <td>6360</td>\n      <td>48</td>\n      <td>NaN</td>\n      <td>A5</td>\n      <td>14 BAY 10TH STREET</td>\n      <td>NaN</td>\n      <td>...</td>\n      <td>1.0</td>\n      <td>0.0</td>\n      <td>1.0</td>\n      <td>2513.0</td>\n      <td>1428.0</td>\n      <td>1930.0</td>\n      <td>1</td>\n      <td>A5</td>\n      <td>849000</td>\n      <td>2020-03-18</td>\n    </tr>\n    <tr>\n      <th>2</th>\n      <td>3</td>\n      <td>BATH BEACH</td>\n      <td>01 ONE FAMILY DWELLINGS</td>\n      <td>1</td>\n      <td>6367</td>\n      <td>24</td>\n      <td>NaN</td>\n      <td>A9</td>\n      <td>8645 BAY 16TH STREET</td>\n      <td>NaN</td>\n      <td>...</td>\n      <td>1.0</td>\n      <td>0.0</td>\n      <td>1.0</td>\n      <td>1571.0</td>\n      <td>1456.0</td>\n      <td>1935.0</td>\n      <td>1</td>\n      <td>A9</td>\n      <td>830000</td>\n      <td>2020-06-26</td>\n    </tr>\n    <tr>\n      <th>3</th>\n      <td>3</td>\n      <td>BATH BEACH</td>\n      <td>01 ONE FAMILY DWELLINGS</td>\n      <td>1</td>\n      <td>6371</td>\n      <td>19</td>\n      <td>NaN</td>\n      <td>A9</td>\n      <td>79 BAY 20TH STREET</td>\n      <td>NaN</td>\n      <td>...</td>\n      <td>1.0</td>\n      <td>0.0</td>\n      <td>1.0</td>\n      <td>2320.0</td>\n      <td>1566.0</td>\n      <td>1930.0</td>\n      <td>1</td>\n      <td>A9</td>\n      <td>0</td>\n      <td>2020-02-21</td>\n    </tr>\n    <tr>\n      <th>4</th>\n      <td>3</td>\n      <td>BATH BEACH</td>\n      <td>01 ONE FAMILY DWELLINGS</td>\n      <td>1</td>\n      <td>6371</td>\n      <td>60</td>\n      <td>NaN</td>\n      <td>A9</td>\n      <td>8620 19TH AVENUE</td>\n      <td>NaN</td>\n      <td>...</td>\n      <td>1.0</td>\n      <td>0.0</td>\n      <td>1.0</td>\n      <td>2417.0</td>\n      <td>2106.0</td>\n      <td>1930.0</td>\n      <td>1</td>\n      <td>A9</td>\n      <td>1188000</td>\n      <td>2020-07-20</td>\n    </tr>\n    <tr>\n      <th>...</th>\n      <td>...</td>\n      <td>...</td>\n      <td>...</td>\n      <td>...</td>\n      <td>...</td>\n      <td>...</td>\n      <td>...</td>\n      <td>...</td>\n      <td>...</td>\n      <td>...</td>\n      <td>...</td>\n      <td>...</td>\n      <td>...</td>\n      <td>...</td>\n      <td>...</td>\n      <td>...</td>\n      <td>...</td>\n      <td>...</td>\n      <td>...</td>\n      <td>...</td>\n      <td>...</td>\n    </tr>\n    <tr>\n      <th>18593</th>\n      <td>3</td>\n      <td>WYCKOFF HEIGHTS</td>\n      <td>30 WAREHOUSES</td>\n      <td>4</td>\n      <td>3345</td>\n      <td>6</td>\n      <td>NaN</td>\n      <td>E1</td>\n      <td>333 IRVING AVENUE</td>\n      <td>NaN</td>\n      <td>...</td>\n      <td>0.0</td>\n      <td>1.0</td>\n      <td>1.0</td>\n      <td>7450.0</td>\n      <td>1950.0</td>\n      <td>1952.0</td>\n      <td>4</td>\n      <td>E1</td>\n      <td>11500000</td>\n      <td>2019-11-12</td>\n    </tr>\n    <tr>\n      <th>18594</th>\n      <td>3</td>\n      <td>WYCKOFF HEIGHTS</td>\n      <td>41 TAX CLASS 4 - OTHER</td>\n      <td>4</td>\n      <td>3407</td>\n      <td>21</td>\n      <td>NaN</td>\n      <td>Z9</td>\n      <td>376 WEIRFIELD STREET</td>\n      <td>NaN</td>\n      <td>...</td>\n      <td>0.0</td>\n      <td>0.0</td>\n      <td>0.0</td>\n      <td>10058.0</td>\n      <td>0.0</td>\n      <td>NaN</td>\n      <td>4</td>\n      <td>Z9</td>\n      <td>0</td>\n      <td>2020-08-19</td>\n    </tr>\n    <tr>\n      <th>18595</th>\n      <td>3</td>\n      <td>WYCKOFF HEIGHTS</td>\n      <td>44 CONDO PARKING</td>\n      <td>4</td>\n      <td>3328</td>\n      <td>1086</td>\n      <td>NaN</td>\n      <td>RP</td>\n      <td>358 GROVE ST, P25</td>\n      <td>P25</td>\n      <td>...</td>\n      <td>NaN</td>\n      <td>1.0</td>\n      <td>1.0</td>\n      <td>NaN</td>\n      <td>NaN</td>\n      <td>NaN</td>\n      <td>4</td>\n      <td>RP</td>\n      <td>1</td>\n      <td>2020-03-09</td>\n    </tr>\n    <tr>\n      <th>18596</th>\n      <td>3</td>\n      <td>WYCKOFF HEIGHTS</td>\n      <td>44 CONDO PARKING</td>\n      <td>4</td>\n      <td>3328</td>\n      <td>1093</td>\n      <td>NaN</td>\n      <td>RP</td>\n      <td>358 GROVE STREET, P32</td>\n      <td>P32</td>\n      <td>...</td>\n      <td>NaN</td>\n      <td>1.0</td>\n      <td>1.0</td>\n      <td>NaN</td>\n      <td>NaN</td>\n      <td>NaN</td>\n      <td>4</td>\n      <td>RP</td>\n      <td>618800</td>\n      <td>2019-10-15</td>\n    </tr>\n    <tr>\n      <th>18597</th>\n      <td>3</td>\n      <td>WYCKOFF HEIGHTS</td>\n      <td>44 CONDO PARKING</td>\n      <td>4</td>\n      <td>3328</td>\n      <td>1123</td>\n      <td>NaN</td>\n      <td>RP</td>\n      <td>358 GROVE STREET, CB10</td>\n      <td>CB10</td>\n      <td>...</td>\n      <td>NaN</td>\n      <td>1.0</td>\n      <td>1.0</td>\n      <td>NaN</td>\n      <td>NaN</td>\n      <td>NaN</td>\n      <td>4</td>\n      <td>RP</td>\n      <td>485000</td>\n      <td>2020-02-20</td>\n    </tr>\n  </tbody>\n</table>\n<p>18598 rows × 21 columns</p>\n</div>"
     },
     "metadata": {},
     "execution_count": 33
    }
   ],
   "source": [
    "import pandas as pd\n",
    "\n",
    "sales = pd.read_excel('../data/original/rollingsales_brooklyn.xls', header=4)\n",
    "sales"
   ]
  },
  {
   "source": [
    "Filter out \n",
    "- garages, offices, etc (keep only familiy dwelling) \n",
    "- entries with price of $10 and below (assuming if one gets a dwelling gifted, this buyer guide is not used)\n",
    "- entries with gross square feet of zero"
   ],
   "cell_type": "markdown",
   "metadata": {}
  },
  {
   "cell_type": "code",
   "execution_count": 34,
   "metadata": {},
   "outputs": [],
   "source": [
    "building_classes = [\"01 ONE FAMILY DWELLINGS\", \"02 TWO FAMILY DWELLINGS\", \"03 THREE FAMILY DWELLINGS\"]\n",
    "\n",
    "sales = sales[(sales[\"BUILDING CLASS CATEGORY\"].isin(building_classes)) & (sales[\"SALE PRICE\"] > 10) & (sales[\"GROSS SQUARE FEET\"] > 0)].copy()"
   ]
  },
  {
   "source": [
    "Get rid of unused columns"
   ],
   "cell_type": "markdown",
   "metadata": {}
  },
  {
   "source": [
    "sales.drop(columns=[\"BOROUGH\",\"NEIGHBORHOOD\",\"TAX CLASS AT PRESENT\",\"BLOCK\",\"LOT\",\"EASE-MENT\",\"BUILDING CLASS AT PRESENT\",\"APARTMENT NUMBER\",\"TOTAL UNITS\",\"TAX CLASS AT TIME OF SALE\",\"BUILDING CLASS AT TIME OF SALE\",\"SALE DATE\", \"RESIDENTIAL UNITS\",\"COMMERCIAL UNITS\",\"ADDRESS\",\"LAND SQUARE FEET\", \"YEAR BUILT\", \"BUILDING CLASS CATEGORY\"], inplace=True)\n",
    "\n",
    "sales"
   ],
   "cell_type": "code",
   "metadata": {},
   "execution_count": 36,
   "outputs": [
    {
     "output_type": "execute_result",
     "data": {
      "text/plain": [
       "       ZIP CODE  GROSS SQUARE FEET  SALE PRICE  PRICE PER GSQ\n",
       "0         11228             4080.0     1300000     318.627451\n",
       "1         11228             1428.0      849000     594.537815\n",
       "2         11214             1456.0      830000     570.054945\n",
       "4         11214             2106.0     1188000     564.102564\n",
       "5         11228             1804.0      975000     540.465632\n",
       "...         ...                ...         ...            ...\n",
       "18529     11237             2864.0     1062500     370.984637\n",
       "18532     11237             3084.0      900000     291.828794\n",
       "18541     11237             2700.0     1035000     383.333333\n",
       "18542     11237             2700.0      980000     362.962963\n",
       "18543     11237             3480.0      900000     258.620690\n",
       "\n",
       "[4813 rows x 4 columns]"
      ],
      "text/html": "<div>\n<style scoped>\n    .dataframe tbody tr th:only-of-type {\n        vertical-align: middle;\n    }\n\n    .dataframe tbody tr th {\n        vertical-align: top;\n    }\n\n    .dataframe thead th {\n        text-align: right;\n    }\n</style>\n<table border=\"1\" class=\"dataframe\">\n  <thead>\n    <tr style=\"text-align: right;\">\n      <th></th>\n      <th>ZIP CODE</th>\n      <th>GROSS SQUARE FEET</th>\n      <th>SALE PRICE</th>\n      <th>PRICE PER GSQ</th>\n    </tr>\n  </thead>\n  <tbody>\n    <tr>\n      <th>0</th>\n      <td>11228</td>\n      <td>4080.0</td>\n      <td>1300000</td>\n      <td>318.627451</td>\n    </tr>\n    <tr>\n      <th>1</th>\n      <td>11228</td>\n      <td>1428.0</td>\n      <td>849000</td>\n      <td>594.537815</td>\n    </tr>\n    <tr>\n      <th>2</th>\n      <td>11214</td>\n      <td>1456.0</td>\n      <td>830000</td>\n      <td>570.054945</td>\n    </tr>\n    <tr>\n      <th>4</th>\n      <td>11214</td>\n      <td>2106.0</td>\n      <td>1188000</td>\n      <td>564.102564</td>\n    </tr>\n    <tr>\n      <th>5</th>\n      <td>11228</td>\n      <td>1804.0</td>\n      <td>975000</td>\n      <td>540.465632</td>\n    </tr>\n    <tr>\n      <th>...</th>\n      <td>...</td>\n      <td>...</td>\n      <td>...</td>\n      <td>...</td>\n    </tr>\n    <tr>\n      <th>18529</th>\n      <td>11237</td>\n      <td>2864.0</td>\n      <td>1062500</td>\n      <td>370.984637</td>\n    </tr>\n    <tr>\n      <th>18532</th>\n      <td>11237</td>\n      <td>3084.0</td>\n      <td>900000</td>\n      <td>291.828794</td>\n    </tr>\n    <tr>\n      <th>18541</th>\n      <td>11237</td>\n      <td>2700.0</td>\n      <td>1035000</td>\n      <td>383.333333</td>\n    </tr>\n    <tr>\n      <th>18542</th>\n      <td>11237</td>\n      <td>2700.0</td>\n      <td>980000</td>\n      <td>362.962963</td>\n    </tr>\n    <tr>\n      <th>18543</th>\n      <td>11237</td>\n      <td>3480.0</td>\n      <td>900000</td>\n      <td>258.620690</td>\n    </tr>\n  </tbody>\n</table>\n<p>4813 rows × 4 columns</p>\n</div>"
     },
     "metadata": {},
     "execution_count": 36
    }
   ]
  },
  {
   "source": [
    "Calculate a new column: Price per gross square feet\n",
    "(see https://home.akitabox.com/blog/gross-square-footage-definitions)"
   ],
   "cell_type": "markdown",
   "metadata": {}
  },
  {
   "cell_type": "code",
   "execution_count": 37,
   "metadata": {},
   "outputs": [
    {
     "output_type": "execute_result",
     "data": {
      "text/plain": [
       "       ZIP CODE  GROSS SQUARE FEET  SALE PRICE  PRICE PER GSQ\n",
       "0         11228             4080.0     1300000     318.627451\n",
       "1         11228             1428.0      849000     594.537815\n",
       "2         11214             1456.0      830000     570.054945\n",
       "4         11214             2106.0     1188000     564.102564\n",
       "5         11228             1804.0      975000     540.465632\n",
       "...         ...                ...         ...            ...\n",
       "18529     11237             2864.0     1062500     370.984637\n",
       "18532     11237             3084.0      900000     291.828794\n",
       "18541     11237             2700.0     1035000     383.333333\n",
       "18542     11237             2700.0      980000     362.962963\n",
       "18543     11237             3480.0      900000     258.620690\n",
       "\n",
       "[4813 rows x 4 columns]"
      ],
      "text/html": "<div>\n<style scoped>\n    .dataframe tbody tr th:only-of-type {\n        vertical-align: middle;\n    }\n\n    .dataframe tbody tr th {\n        vertical-align: top;\n    }\n\n    .dataframe thead th {\n        text-align: right;\n    }\n</style>\n<table border=\"1\" class=\"dataframe\">\n  <thead>\n    <tr style=\"text-align: right;\">\n      <th></th>\n      <th>ZIP CODE</th>\n      <th>GROSS SQUARE FEET</th>\n      <th>SALE PRICE</th>\n      <th>PRICE PER GSQ</th>\n    </tr>\n  </thead>\n  <tbody>\n    <tr>\n      <th>0</th>\n      <td>11228</td>\n      <td>4080.0</td>\n      <td>1300000</td>\n      <td>318.627451</td>\n    </tr>\n    <tr>\n      <th>1</th>\n      <td>11228</td>\n      <td>1428.0</td>\n      <td>849000</td>\n      <td>594.537815</td>\n    </tr>\n    <tr>\n      <th>2</th>\n      <td>11214</td>\n      <td>1456.0</td>\n      <td>830000</td>\n      <td>570.054945</td>\n    </tr>\n    <tr>\n      <th>4</th>\n      <td>11214</td>\n      <td>2106.0</td>\n      <td>1188000</td>\n      <td>564.102564</td>\n    </tr>\n    <tr>\n      <th>5</th>\n      <td>11228</td>\n      <td>1804.0</td>\n      <td>975000</td>\n      <td>540.465632</td>\n    </tr>\n    <tr>\n      <th>...</th>\n      <td>...</td>\n      <td>...</td>\n      <td>...</td>\n      <td>...</td>\n    </tr>\n    <tr>\n      <th>18529</th>\n      <td>11237</td>\n      <td>2864.0</td>\n      <td>1062500</td>\n      <td>370.984637</td>\n    </tr>\n    <tr>\n      <th>18532</th>\n      <td>11237</td>\n      <td>3084.0</td>\n      <td>900000</td>\n      <td>291.828794</td>\n    </tr>\n    <tr>\n      <th>18541</th>\n      <td>11237</td>\n      <td>2700.0</td>\n      <td>1035000</td>\n      <td>383.333333</td>\n    </tr>\n    <tr>\n      <th>18542</th>\n      <td>11237</td>\n      <td>2700.0</td>\n      <td>980000</td>\n      <td>362.962963</td>\n    </tr>\n    <tr>\n      <th>18543</th>\n      <td>11237</td>\n      <td>3480.0</td>\n      <td>900000</td>\n      <td>258.620690</td>\n    </tr>\n  </tbody>\n</table>\n<p>4813 rows × 4 columns</p>\n</div>"
     },
     "metadata": {},
     "execution_count": 37
    }
   ],
   "source": [
    "sales[\"PRICE PER GSQ\"] = sales[\"SALE PRICE\"] / sales[\"GROSS SQUARE FEET\"]\n",
    "sales"
   ]
  },
  {
   "source": [
    "group the sales by ZIP CODE. And then index must be removed, otherwise Folium/Colorpleth gets into troubles later"
   ],
   "cell_type": "markdown",
   "metadata": {}
  },
  {
   "cell_type": "code",
   "execution_count": 50,
   "metadata": {},
   "outputs": [
    {
     "output_type": "execute_result",
     "data": {
      "text/plain": [
       "   ZIP CODE  GROSS SQUARE FEET    SALE PRICE  PRICE PER GSQ\n",
       "0     11201        3613.533333  6.529603e+06    1902.470606\n",
       "1     11203        1763.665217  6.150363e+05     366.587064\n",
       "2     11204        2059.094595  1.172006e+06     615.601979\n",
       "3     11205        2947.439024  2.079976e+06     743.597238\n",
       "4     11206        2761.061224  1.780433e+06     653.258047"
      ],
      "text/html": "<div>\n<style scoped>\n    .dataframe tbody tr th:only-of-type {\n        vertical-align: middle;\n    }\n\n    .dataframe tbody tr th {\n        vertical-align: top;\n    }\n\n    .dataframe thead th {\n        text-align: right;\n    }\n</style>\n<table border=\"1\" class=\"dataframe\">\n  <thead>\n    <tr style=\"text-align: right;\">\n      <th></th>\n      <th>ZIP CODE</th>\n      <th>GROSS SQUARE FEET</th>\n      <th>SALE PRICE</th>\n      <th>PRICE PER GSQ</th>\n    </tr>\n  </thead>\n  <tbody>\n    <tr>\n      <th>0</th>\n      <td>11201</td>\n      <td>3613.533333</td>\n      <td>6.529603e+06</td>\n      <td>1902.470606</td>\n    </tr>\n    <tr>\n      <th>1</th>\n      <td>11203</td>\n      <td>1763.665217</td>\n      <td>6.150363e+05</td>\n      <td>366.587064</td>\n    </tr>\n    <tr>\n      <th>2</th>\n      <td>11204</td>\n      <td>2059.094595</td>\n      <td>1.172006e+06</td>\n      <td>615.601979</td>\n    </tr>\n    <tr>\n      <th>3</th>\n      <td>11205</td>\n      <td>2947.439024</td>\n      <td>2.079976e+06</td>\n      <td>743.597238</td>\n    </tr>\n    <tr>\n      <th>4</th>\n      <td>11206</td>\n      <td>2761.061224</td>\n      <td>1.780433e+06</td>\n      <td>653.258047</td>\n    </tr>\n  </tbody>\n</table>\n</div>"
     },
     "metadata": {},
     "execution_count": 50
    }
   ],
   "source": [
    "sales_grouped = sales.groupby(['ZIP CODE']).mean()\n",
    "sales_grouped = sales_grouped.reset_index()\n",
    "sales_grouped.to_csv('./../data/prepared/sales_grouped.csv', ',')\n",
    "sales_grouped.head()"
   ]
  },
  {
   "source": [
    "Now, filter out all ZIP entries which are not in the sales (-> not in Brooklyn). Otherwise Folium/Colorpleth gets into troubles later "
   ],
   "cell_type": "markdown",
   "metadata": {}
  },
  {
   "cell_type": "code",
   "execution_count": 51,
   "metadata": {},
   "outputs": [
    {
     "output_type": "execute_result",
     "data": {
      "text/plain": [
       "   ZIPCODE BLDGZIP   PO_NAME  POPULATION          AREA STATE COUNTY ST_FIPS  \\\n",
       "1    11213       0  Brooklyn     62426.0  2.963100e+07    NY  Kings      36   \n",
       "2    11212       0  Brooklyn     83866.0  4.197210e+07    NY  Kings      36   \n",
       "3    11225       0  Brooklyn     56527.0  2.369863e+07    NY  Kings      36   \n",
       "\n",
       "  CTY_FIPS                   URL  SHAPE_AREA  SHAPE_LEN  \\\n",
       "1      047  http://www.usps.com/         0.0        0.0   \n",
       "2      047  http://www.usps.com/         0.0        0.0   \n",
       "3      047  http://www.usps.com/         0.0        0.0   \n",
       "\n",
       "                                            geometry  \n",
       "1  POLYGON ((-73.93740 40.67973, -73.93487 40.679...  \n",
       "2  POLYGON ((-73.90294 40.67084, -73.90223 40.668...  \n",
       "3  POLYGON ((-73.95797 40.67066, -73.95576 40.670...  "
      ],
      "text/html": "<div>\n<style scoped>\n    .dataframe tbody tr th:only-of-type {\n        vertical-align: middle;\n    }\n\n    .dataframe tbody tr th {\n        vertical-align: top;\n    }\n\n    .dataframe thead th {\n        text-align: right;\n    }\n</style>\n<table border=\"1\" class=\"dataframe\">\n  <thead>\n    <tr style=\"text-align: right;\">\n      <th></th>\n      <th>ZIPCODE</th>\n      <th>BLDGZIP</th>\n      <th>PO_NAME</th>\n      <th>POPULATION</th>\n      <th>AREA</th>\n      <th>STATE</th>\n      <th>COUNTY</th>\n      <th>ST_FIPS</th>\n      <th>CTY_FIPS</th>\n      <th>URL</th>\n      <th>SHAPE_AREA</th>\n      <th>SHAPE_LEN</th>\n      <th>geometry</th>\n    </tr>\n  </thead>\n  <tbody>\n    <tr>\n      <th>1</th>\n      <td>11213</td>\n      <td>0</td>\n      <td>Brooklyn</td>\n      <td>62426.0</td>\n      <td>2.963100e+07</td>\n      <td>NY</td>\n      <td>Kings</td>\n      <td>36</td>\n      <td>047</td>\n      <td>http://www.usps.com/</td>\n      <td>0.0</td>\n      <td>0.0</td>\n      <td>POLYGON ((-73.93740 40.67973, -73.93487 40.679...</td>\n    </tr>\n    <tr>\n      <th>2</th>\n      <td>11212</td>\n      <td>0</td>\n      <td>Brooklyn</td>\n      <td>83866.0</td>\n      <td>4.197210e+07</td>\n      <td>NY</td>\n      <td>Kings</td>\n      <td>36</td>\n      <td>047</td>\n      <td>http://www.usps.com/</td>\n      <td>0.0</td>\n      <td>0.0</td>\n      <td>POLYGON ((-73.90294 40.67084, -73.90223 40.668...</td>\n    </tr>\n    <tr>\n      <th>3</th>\n      <td>11225</td>\n      <td>0</td>\n      <td>Brooklyn</td>\n      <td>56527.0</td>\n      <td>2.369863e+07</td>\n      <td>NY</td>\n      <td>Kings</td>\n      <td>36</td>\n      <td>047</td>\n      <td>http://www.usps.com/</td>\n      <td>0.0</td>\n      <td>0.0</td>\n      <td>POLYGON ((-73.95797 40.67066, -73.95576 40.670...</td>\n    </tr>\n  </tbody>\n</table>\n</div>"
     },
     "metadata": {},
     "execution_count": 51
    }
   ],
   "source": [
    "import geopandas as gpd\n",
    "\n",
    "all_zip_codes = gpd.read_file('./../data/intermediate/ZipCodeBoundaries.geojson')\n",
    "all_zip_codes['ZIPCODE'] = pd.to_numeric(all_zip_codes['ZIPCODE'])\n",
    "brooklyn_zip_codes = all_zip_codes[(all_zip_codes[\"ZIPCODE\"].isin(sales_grouped['ZIP CODE']))].copy()\n",
    "brooklyn_zip_codes.to_file('./../data/prepared/ZipCodeBoundaries_BrooklynOnly.geojson', driver='GeoJSON')\n",
    "brooklyn_zip_codes.head(3)"
   ]
  },
  {
   "cell_type": "code",
   "execution_count": 48,
   "metadata": {},
   "outputs": [
    {
     "output_type": "error",
     "ename": "FileNotFoundError",
     "evalue": "[Errno 2] No such file or directory: 'data/intermediate/ZipCodeBoundaries_BrooklynOnly.geojson'",
     "traceback": [
      "\u001b[1;31m---------------------------------------------------------------------------\u001b[0m",
      "\u001b[1;31mFileNotFoundError\u001b[0m                         Traceback (most recent call last)",
      "\u001b[1;32m<ipython-input-48-ecc2332884c2>\u001b[0m in \u001b[0;36m<module>\u001b[1;34m\u001b[0m\n\u001b[0;32m     11\u001b[0m \u001b[0mfolium\u001b[0m\u001b[1;33m.\u001b[0m\u001b[0mTileLayer\u001b[0m\u001b[1;33m(\u001b[0m\u001b[1;34m\"Open Street Map\"\u001b[0m\u001b[1;33m,\u001b[0m \u001b[0mname\u001b[0m\u001b[1;33m=\u001b[0m\u001b[1;34m\"Open Street Map\"\u001b[0m\u001b[1;33m)\u001b[0m\u001b[1;33m.\u001b[0m\u001b[0madd_to\u001b[0m\u001b[1;33m(\u001b[0m\u001b[0mm\u001b[0m\u001b[1;33m)\u001b[0m\u001b[1;33m\u001b[0m\u001b[1;33m\u001b[0m\u001b[0m\n\u001b[0;32m     12\u001b[0m \u001b[1;33m\u001b[0m\u001b[0m\n\u001b[1;32m---> 13\u001b[1;33m folium.Choropleth(\n\u001b[0m\u001b[0;32m     14\u001b[0m     \u001b[0mname\u001b[0m\u001b[1;33m=\u001b[0m\u001b[1;34m\"average price per gross square feet\"\u001b[0m\u001b[1;33m,\u001b[0m\u001b[1;33m\u001b[0m\u001b[1;33m\u001b[0m\u001b[0m\n\u001b[0;32m     15\u001b[0m     \u001b[0mgeo_data\u001b[0m\u001b[1;33m=\u001b[0m\u001b[1;34m\"data/intermediate/ZipCodeBoundaries_BrooklynOnly.geojson\"\u001b[0m\u001b[1;33m,\u001b[0m\u001b[1;33m\u001b[0m\u001b[1;33m\u001b[0m\u001b[0m\n",
      "\u001b[1;32mC:\\ProgramData\\Anaconda3\\lib\\site-packages\\folium\\features.py\u001b[0m in \u001b[0;36m__init__\u001b[1;34m(self, geo_data, data, columns, key_on, bins, fill_color, nan_fill_color, fill_opacity, nan_fill_opacity, line_color, line_weight, line_opacity, name, legend_name, overlay, control, show, topojson, smooth_factor, highlight, **kwargs)\u001b[0m\n\u001b[0;32m   1245\u001b[0m                 smooth_factor=smooth_factor)\n\u001b[0;32m   1246\u001b[0m         \u001b[1;32melse\u001b[0m\u001b[1;33m:\u001b[0m\u001b[1;33m\u001b[0m\u001b[1;33m\u001b[0m\u001b[0m\n\u001b[1;32m-> 1247\u001b[1;33m             self.geojson = GeoJson(\n\u001b[0m\u001b[0;32m   1248\u001b[0m                 \u001b[0mgeo_data\u001b[0m\u001b[1;33m,\u001b[0m\u001b[1;33m\u001b[0m\u001b[1;33m\u001b[0m\u001b[0m\n\u001b[0;32m   1249\u001b[0m                 \u001b[0mstyle_function\u001b[0m\u001b[1;33m=\u001b[0m\u001b[0mstyle_function\u001b[0m\u001b[1;33m,\u001b[0m\u001b[1;33m\u001b[0m\u001b[1;33m\u001b[0m\u001b[0m\n",
      "\u001b[1;32mC:\\ProgramData\\Anaconda3\\lib\\site-packages\\folium\\features.py\u001b[0m in \u001b[0;36m__init__\u001b[1;34m(self, data, style_function, highlight_function, name, overlay, control, show, smooth_factor, tooltip, embed, popup)\u001b[0m\n\u001b[0;32m    451\u001b[0m         \u001b[0mself\u001b[0m\u001b[1;33m.\u001b[0m\u001b[0mhighlight\u001b[0m \u001b[1;33m=\u001b[0m \u001b[0mhighlight_function\u001b[0m \u001b[1;32mis\u001b[0m \u001b[1;32mnot\u001b[0m \u001b[1;32mNone\u001b[0m\u001b[1;33m\u001b[0m\u001b[1;33m\u001b[0m\u001b[0m\n\u001b[0;32m    452\u001b[0m \u001b[1;33m\u001b[0m\u001b[0m\n\u001b[1;32m--> 453\u001b[1;33m         \u001b[0mself\u001b[0m\u001b[1;33m.\u001b[0m\u001b[0mdata\u001b[0m \u001b[1;33m=\u001b[0m \u001b[0mself\u001b[0m\u001b[1;33m.\u001b[0m\u001b[0mprocess_data\u001b[0m\u001b[1;33m(\u001b[0m\u001b[0mdata\u001b[0m\u001b[1;33m)\u001b[0m\u001b[1;33m\u001b[0m\u001b[1;33m\u001b[0m\u001b[0m\n\u001b[0m\u001b[0;32m    454\u001b[0m \u001b[1;33m\u001b[0m\u001b[0m\n\u001b[0;32m    455\u001b[0m         \u001b[1;32mif\u001b[0m \u001b[0mself\u001b[0m\u001b[1;33m.\u001b[0m\u001b[0mstyle\u001b[0m \u001b[1;32mor\u001b[0m \u001b[0mself\u001b[0m\u001b[1;33m.\u001b[0m\u001b[0mhighlight\u001b[0m\u001b[1;33m:\u001b[0m\u001b[1;33m\u001b[0m\u001b[1;33m\u001b[0m\u001b[0m\n",
      "\u001b[1;32mC:\\ProgramData\\Anaconda3\\lib\\site-packages\\folium\\features.py\u001b[0m in \u001b[0;36mprocess_data\u001b[1;34m(self, data)\u001b[0m\n\u001b[0;32m    488\u001b[0m                 \u001b[1;32mif\u001b[0m \u001b[1;32mnot\u001b[0m \u001b[0mself\u001b[0m\u001b[1;33m.\u001b[0m\u001b[0membed\u001b[0m\u001b[1;33m:\u001b[0m\u001b[1;33m\u001b[0m\u001b[1;33m\u001b[0m\u001b[0m\n\u001b[0;32m    489\u001b[0m                     \u001b[0mself\u001b[0m\u001b[1;33m.\u001b[0m\u001b[0membed_link\u001b[0m \u001b[1;33m=\u001b[0m \u001b[0mdata\u001b[0m\u001b[1;33m\u001b[0m\u001b[1;33m\u001b[0m\u001b[0m\n\u001b[1;32m--> 490\u001b[1;33m                 \u001b[1;32mwith\u001b[0m \u001b[0mopen\u001b[0m\u001b[1;33m(\u001b[0m\u001b[0mdata\u001b[0m\u001b[1;33m)\u001b[0m \u001b[1;32mas\u001b[0m \u001b[0mf\u001b[0m\u001b[1;33m:\u001b[0m\u001b[1;33m\u001b[0m\u001b[1;33m\u001b[0m\u001b[0m\n\u001b[0m\u001b[0;32m    491\u001b[0m                     \u001b[1;32mreturn\u001b[0m \u001b[0mjson\u001b[0m\u001b[1;33m.\u001b[0m\u001b[0mloads\u001b[0m\u001b[1;33m(\u001b[0m\u001b[0mf\u001b[0m\u001b[1;33m.\u001b[0m\u001b[0mread\u001b[0m\u001b[1;33m(\u001b[0m\u001b[1;33m)\u001b[0m\u001b[1;33m)\u001b[0m\u001b[1;33m\u001b[0m\u001b[1;33m\u001b[0m\u001b[0m\n\u001b[0;32m    492\u001b[0m         \u001b[1;32melif\u001b[0m \u001b[0mhasattr\u001b[0m\u001b[1;33m(\u001b[0m\u001b[0mdata\u001b[0m\u001b[1;33m,\u001b[0m \u001b[1;34m'__geo_interface__'\u001b[0m\u001b[1;33m)\u001b[0m\u001b[1;33m:\u001b[0m\u001b[1;33m\u001b[0m\u001b[1;33m\u001b[0m\u001b[0m\n",
      "\u001b[1;31mFileNotFoundError\u001b[0m: [Errno 2] No such file or directory: 'data/intermediate/ZipCodeBoundaries_BrooklynOnly.geojson'"
     ]
    }
   ],
   "source": [
    "import folium\n",
    "\n",
    "m = folium.Map(\n",
    "    location=[40.643063306000045, -73.89848712999998],\n",
    "    tiles=None,\n",
    "    zoom_start=10\n",
    ")\n",
    "\n",
    "folium.TileLayer(\"Stamen Toner\", name=\"Stamen Toner\").add_to(m)\n",
    "folium.TileLayer(\"Stamen Terrain\", name=\"Stamen Terrain\").add_to(m)\n",
    "folium.TileLayer(\"Open Street Map\", name=\"Open Street Map\").add_to(m)\n",
    "\n",
    "folium.Choropleth(\n",
    "    name=\"average price per gross square feet\",\n",
    "    geo_data=\"data/intermediate/ZipCodeBoundaries_BrooklynOnly.geojson\",\n",
    "    data=sales,\n",
    "    columns=[\"ZIP CODE\", \"PRICE PER GSQ\"],\n",
    "    key_on=\"feature.properties.ZIPCODE\",\n",
    "    fill_color='RdYlGn',\n",
    "    fill_opacity=0.7,\n",
    "    line_opacity=0.2,\n",
    "    legend_name='Price per gross sq ($)'\n",
    ").add_to(m)\n",
    "folium.LayerControl().add_to(m)\n",
    "m"
   ]
  },
  {
   "cell_type": "markdown",
   "metadata": {},
   "source": [
    "https://github.com/geopandas/geopandas/issues/830"
   ]
  },
  {
   "cell_type": "code",
   "execution_count": null,
   "metadata": {},
   "outputs": [],
   "source": []
  }
 ],
 "metadata": {
  "kernelspec": {
   "display_name": "Python 3",
   "language": "python",
   "name": "python3"
  },
  "language_info": {
   "codemirror_mode": {
    "name": "ipython",
    "version": 3
   },
   "file_extension": ".py",
   "mimetype": "text/x-python",
   "name": "python",
   "nbconvert_exporter": "python",
   "pygments_lexer": "ipython3",
   "version": "3.8.5-final"
  }
 },
 "nbformat": 4,
 "nbformat_minor": 2
}